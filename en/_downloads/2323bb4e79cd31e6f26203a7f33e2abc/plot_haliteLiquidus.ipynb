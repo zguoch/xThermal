{
  "cells": [
    {
      "cell_type": "code",
      "execution_count": null,
      "metadata": {
        "collapsed": false
      },
      "outputs": [],
      "source": [
        "# This cell is added by sphinx-gallery\n# It can be customized to whatever you like\n%matplotlib inline"
      ]
    },
    {
      "cell_type": "markdown",
      "metadata": {},
      "source": [
        "\n# 2. Halite liquidus\n.. include:: /include.rst_\nCalculate halite liquidus and compare result with :cite:`Driesner2007Part2`.\n"
      ]
    },
    {
      "cell_type": "code",
      "execution_count": null,
      "metadata": {
        "collapsed": false
      },
      "outputs": [],
      "source": [
        "import os\nimport numpy as np\nimport time\nimport linecache\nimport matplotlib.pyplot as plt\nimport matplotlib as mpl\nfrom matplotlib import patches\nimport matplotlib.ticker as ticker\nfrom matplotlib.ticker import MultipleLocator\nfrom tabulate import tabulate\nimport warnings\nwarnings.filterwarnings(\"ignore\", category=RuntimeWarning)\n# 3d plot\nimport helpfunc\nmpl.rcParams['font.family'] = 'Arial'  # default font family\nmpl.rcParams['mathtext.fontset'] = 'cm'  # font for math\nfmt_figs = []  # ['svg','pdf']\nfigpath = '.'\nresult_path='../../../gallery_H2ONaCl/pT'\ndef savefig(figname):\n    for fmt_fig in fmt_figs:\n        figname_full = '%s/%s.%s' % (figpath, figname, fmt_fig)\n        plt.savefig(figname_full, bbox_inches='tight')\n        print('figure saved: ', figname_full)\ncompare = lambda a,b : float(str('%.6e'%(a)))-float(str('%.6e'%(b)))\n# Import package of xThermo\nfrom xThermo import H2O\nfrom xThermo import NaCl\nfrom xThermo import H2ONaCl\nsw_84 = H2ONaCl.cH2ONaCl(\"IAPS84\")\nsw_95 = H2ONaCl.cH2ONaCl(\"IAPWS95\")\n\ndef plot_3d(sw,style='linear'):\n    fig=plt.figure(figsize=(14,14))\n    ax = fig.add_subplot(111,projection='3d',facecolor='None')\n    helpfunc.set_axis_diagram_3D(ax)\n    # plot\n    if(style=='linear'):\n        pb = sw.PhaseBoundary_HaliteLiquidus_DeformLinear()\n        TT,PP,XX = np.array(pb.T), np.array(pb.p), np.array(pb.X)\n        ax.plot_wireframe(XX*100,TT-273.15,PP/1E5, color='green',lw=0.5,label='Halite liquidus')\n        ax.plot_wireframe(ax.get_xlim()[1],TT-273.15,PP/1E5, color='orange',lw=0.3,label='Halite liquidus: p-X plane')\n        ax.plot_wireframe(XX*100,ax.get_ylim()[1],PP/1E5, color='cyan',lw=0.3,label='Halite liquidus: p-T plane')\n    elif(style=='triangle'):\n        # halite liquidus surface mesh\n        pb = sw.PhaseBoundary_HaliteLiquidus()\n        T,p,X,connection = np.array(pb.x),np.array(pb.y),np.array(pb.z), np.array(pb.connection)\n        ax.plot_trisurf(X*100, T-273.15, connection,p/1E5, color='green',lw=0.1,label='Halite liquidus')\n        ax.plot_trisurf(X*100, T*0 + ax.get_ylim()[1], connection,p/1E5,color='orange',lw=0.1)\n        ax.plot_trisurf(X*0 + ax.get_xlim()[1], T-273.15, connection,p/1E5,color='cyan',lw=0.1)\n    # ax.legend(ncol=3)\n    savefig('HaliteLiquidus_3D_%s'%(style))"
      ]
    },
    {
      "cell_type": "markdown",
      "metadata": {},
      "source": [
        "## General 3D view\n\n"
      ]
    },
    {
      "cell_type": "code",
      "execution_count": null,
      "metadata": {
        "collapsed": false
      },
      "outputs": [],
      "source": [
        "plot_3d(sw_84)\n# plot_3d('triangle')"
      ]
    },
    {
      "cell_type": "markdown",
      "metadata": {},
      "source": [
        "## Benchmark comparison\nCompare result of |xThermo| and :cite:`Driesner2007Part2`, and also compare result based on different EOS of water.\n\n"
      ]
    },
    {
      "cell_type": "code",
      "execution_count": null,
      "metadata": {
        "collapsed": false
      },
      "outputs": [],
      "source": [
        "def plot_props(TT,PP,XX,rho_,h_,unit_H='MJ/kg'):\n    wspace=0.1\n    fig,axes=plt.subplots(1,4,figsize=(21,5),gridspec_kw={'wspace':wspace}, sharey=True)\n    cmap_rho, cmap_h = 'YlGnBu_r','rainbow'\n    # 1. Rho\n    axes[0].contourf(TT-273.15,PP/1E5,rho_.reshape(TT.shape),levels=50,cmap=cmap_rho)\n    CS=axes[1].contourf(XX*100,PP/1E5,rho_.reshape(TT.shape),levels=50,cmap=cmap_rho)\n    ax_cb_rho = axes[0].inset_axes([0,1.03,2+wspace,0.05])\n    plt.colorbar(CS,cax=ax_cb_rho,orientation='horizontal',label='Density (kg/m$^{\\mathregular{3}}$)')\n    # 2. H\n    scale_H = 1\n    if(unit_H=='MJ/kg'): scale_H=1E-6\n    axes[2].contourf(TT-273.15,PP/1E5,h_.reshape(TT.shape)*scale_H,levels=50,cmap=cmap_h)\n    CS=axes[3].contourf(XX*100,PP/1E5,h_.reshape(TT.shape)*scale_H,levels=50,cmap=cmap_h)\n    ax_cb_h = axes[2].inset_axes([0,1.03,2+wspace,0.05])\n    plt.colorbar(CS,cax=ax_cb_h,orientation='horizontal',label='Specific enthalpy (%s)'%(unit_H))\n    for ax_cb in [ax_cb_rho,ax_cb_h]:\n        ax_cb.xaxis.set_ticks_position('top')\n        ax_cb.xaxis.set_label_position('top')\n    for ax in [axes[0],axes[2]]: ax.set_xlabel('Temperature ($^{\\circ}$C)')\n    for ax in [axes[1],axes[3]]: ax.set_xlabel('X$_{\\mathregular{NaCl}}$ (wt.% NaCl)')\n    axes[0].set_ylabel('Pressure (bar)')\ndef plot_props_HaliteLiquidus(sw):\n    # calculate\n    pb = sw.PhaseBoundary_HaliteLiquidus_DeformLinear()\n    TT,PP,XX = np.array(pb.T), np.array(pb.p), np.array(pb.X)\n    rho_ = np.array(sw.Rho_phase(TT.reshape(-1,), PP.reshape(-1,), XX.reshape(-1,), H2ONaCl.Liquid))\n    h_ = np.array(sw.H_phase(TT.reshape(-1,), PP.reshape(-1,), XX.reshape(-1,), H2ONaCl.Liquid))\n    # plot\n    plot_props(TT,PP,XX,rho_,h_)\n    savefig('HaliteLiquidus_props_%s'%(sw.name_backend()))\n    return TT,PP,XX,rho_,h_\ndef plot_err(ax,x,y,data,label='',cmap='rainbow'):\n    # plot difference between xThermo and Driesner(2007b)\n    CS=ax.scatter(x, y,c=data,cmap=cmap)\n    ax_cb=ax.inset_axes([0,1.02,1,0.05])\n    plt.colorbar(CS,cax=ax_cb,label=label,orientation='horizontal')\n    ax_cb.xaxis.set_label_position('top')\n    ax_cb.xaxis.set_ticks_position('top')\ndef benchmark_HaliteLiquidus(sw,mmc1='../Driesner2007b/1-s2.0-S0016703707002955-mmc1.txt'):\n    # compare\n    if(not os.path.exists(mmc1)):\n        print('Please set correct mmc1 file path: %s'%(mmc1))\n        exit()\n    data=np.loadtxt(mmc1, skiprows=7)\n    T0,P0,X0,rho0,h0=data[:,0]+273.15,data[:,1]*1E5,data[:,2],data[:,3],data[:,4]\n    # 1. calculate halite liquidus\n    X_=sw.X_HaliteLiquidus(T0,P0)\n    X_mol = sw.Wt2Mol(X_)\n    # 2. calculate liquid density on halite liquidus\n    rho_ = np.array(sw.Rho_phase(T0, P0, sw.Mol2Wt(X0), H2ONaCl.Liquid))\n    h_ = np.array(sw.H_phase(T0, P0, sw.Mol2Wt(X0), H2ONaCl.Liquid))\n    # compare result dict\n    Data0 = {'X':X0,'rho':rho0,'h':h0}\n    Data_={'X':X_mol,'rho':rho_,'h':h_}\n    Err,RErr={},{}\n    for key in Data0.keys(): Err[key],RErr[key] = Data0[key]-Data_[key], np.abs(Data0[key]-Data_[key])/(Data0[key])*100.0\n    # print to file\n    fpout = open('%s/mmc1_%s.csv'%(result_path,sw.name_backend()),'w')\n    fpout.write('T[C],P[bar],X(Driesner)[mol],X(xThermo)[mol],X(diff)[mol],Rho(Driesner)[kg/m3],Rho(xThermo),Rho(err),H(Driesner)[J/kg],H(xThermo),H(err)\\n')\n    for i in range(0,len(T0)):\n        fpout.write('%.6e,%.6e'%(T0[i]-273.15,P0[i]))\n        for key in Data0.keys():\n            fpout.write(',%.6e,%.6e,%.6e'%(Data0[key][i], Data_[key][i],compare(Data0[key][i],Data_[key][i])))\n        fpout.write('\\n')\n    fpout.close()\n    # plot difference\n    fig,axes=plt.subplots(1,3,figsize=(21,5),sharey=True,gridspec_kw={'wspace':0.1})\n    plot_err(axes[0], T0, P0/1E5, RErr['X'],'Relative difference: Composition (%)')\n    plot_err(axes[1], T0, P0/1E5, RErr['rho'],'Relative difference: Density (%)')\n    plot_err(axes[2], T0, P0/1E5, RErr['h'],'Relative difference: Specific enthalpy (%)')\n    for ax in axes: ax.set_xlabel('Temperature ($^{\\circ}$C)')\n    axes[0].set_ylabel('Pressure (bar)')\n    # statistics of the difference\n    table=[]\n    for key,name in zip(list(Err.keys()),['Composition (mole fraction)','Density (kg/m3)','Specific enthalpy (J/kg)']):\n        RErr[key] = RErr[key][~(np.isnan(RErr[key]) | np.isinf(RErr[key]))]\n        table.append([name,Err[key].min(),Err[key].max(),RErr[key].min(),RErr[key].max()])\n    print(tabulate(table, headers=['Critical property', 'Err. Min', 'Err. Max','RE. Min(%)','RE. Max(%)'],numalign=\"right\",floatfmt=\".6f\"))"
      ]
    },
    {
      "cell_type": "markdown",
      "metadata": {},
      "source": [
        "### Based on IAPS84 EOS\n\n"
      ]
    },
    {
      "cell_type": "code",
      "execution_count": null,
      "metadata": {
        "collapsed": false
      },
      "outputs": [],
      "source": [
        "TT,PP,XX,rho_84,h_84=plot_props_HaliteLiquidus(sw_84)\nbenchmark_HaliteLiquidus(sw_84)"
      ]
    },
    {
      "cell_type": "markdown",
      "metadata": {},
      "source": [
        "### Based on IAPWS95 EOS\nTT,PP,XX,rho_95,h_95=plot_props_HaliteLiquidus(sw_95)\nbenchmark_HaliteLiquidus(sw_95)\n\n"
      ]
    },
    {
      "cell_type": "markdown",
      "metadata": {},
      "source": [
        "### Difference between IAPS84 and IAPWS95 EOS\nplot_props(TT,PP,XX, rho_84-rho_95, (h_84-h_95),unit_H='J/kg')\n\n"
      ]
    },
    {
      "cell_type": "markdown",
      "metadata": {},
      "source": [
        "## Result table\n\nResult data calculated by |xThermo| based on both water EOS of IAPS84 and IAPWS95.\n\n.. seealso::\n\n    |mmc1| in :cite:`Driesner2007Part2` and Fig. 1,5,6 in :cite:`Driesner2007Part1`.\n\n.. tab:: IAPS84\n\n    .. csv-table:: Comparison between result of :cite:`Driesner2007Part2` and result calculated by |xThermo|.\n        :file: mmc1_IAPS84.csv\n        :header-rows: 1\n\n.. tab:: IAPWS95\n\n    .. csv-table:: Comparison between result of :cite:`Driesner2007Part2` and result calculated by |xThermo|.\n        :file: mmc1_IAPWS95.csv\n        :header-rows: 1\n\n\n.. tip::\n\n    The help function for 3D plot can be downloaded at here: :download:`helpfunc.py`\n\n"
      ]
    },
    {
      "cell_type": "code",
      "execution_count": null,
      "metadata": {
        "collapsed": false
      },
      "outputs": [],
      "source": [
        "# This is the last cell"
      ]
    }
  ],
  "metadata": {
    "kernelspec": {
      "display_name": "Python 3",
      "language": "python",
      "name": "python3"
    },
    "language_info": {
      "codemirror_mode": {
        "name": "ipython",
        "version": 3
      },
      "file_extension": ".py",
      "mimetype": "text/x-python",
      "name": "python",
      "nbconvert_exporter": "python",
      "pygments_lexer": "ipython3",
      "version": "3.9.12"
    }
  },
  "nbformat": 4,
  "nbformat_minor": 0
}