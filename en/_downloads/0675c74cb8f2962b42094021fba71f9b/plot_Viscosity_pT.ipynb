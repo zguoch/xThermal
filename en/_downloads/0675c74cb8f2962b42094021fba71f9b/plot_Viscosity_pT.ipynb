{
  "cells": [
    {
      "cell_type": "code",
      "execution_count": null,
      "metadata": {
        "collapsed": false
      },
      "outputs": [],
      "source": [
        "# This cell is added by sphinx-gallery\n# It can be customized to whatever you like\n%matplotlib inline"
      ]
    },
    {
      "cell_type": "markdown",
      "metadata": {},
      "source": [
        "\n# 3. Viscosity\n"
      ]
    },
    {
      "cell_type": "code",
      "execution_count": null,
      "metadata": {
        "collapsed": false
      },
      "outputs": [],
      "source": [
        "import numpy as np \nimport time\nimport linecache\nimport matplotlib.pyplot as plt\nimport matplotlib as mpl\nfrom matplotlib import patches\nimport matplotlib.ticker as ticker\nfrom matplotlib.ticker import MultipleLocator\nmpl.rcParams['font.family'] = 'Arial'  #default font family\nmpl.rcParams['mathtext.fontset'] = 'cm' #font for math\nfmt_figs=['pdf'] #['svg','pdf']\nfigpath='.'\ndef savefig(figname):\n    for fmt_fig in fmt_figs:\n        figname_full = '%s/%s.%s'%(figpath,figname,fmt_fig)\n        plt.savefig(figname_full, bbox_inches='tight')\n        print('figure saved: ',figname_full)\n\n# Import package of xThermo\nfrom xThermo import H2O\niaps84 = H2O.cIAPS84()\niapws95_CoolProp = H2O.cIAPWS95_CoolProp()\niapws95 = H2O.cIAPWS95()\n\n# Calculate and plot result\ndef plot_prop(water, ax=None,name_prop='Viscosity',unit_prop='Pa s',T=[],p=[],cmap='GnBu'):\n    if(len(T)==0): T = np.linspace(274,1273,150)\n    if(len(p)==0): p = np.linspace(1E5,1000e5,150)\n    TT,PP = np.meshgrid(T,p)\n    prop = np.zeros_like(TT)\n    for i in range(0,TT.shape[0]):\n        for j in range(0,TT.shape[1]):\n            props = water.UpdateState_TPX(TT[i][j], PP[i][j])\n            prop[i][j] = props.Mu\n    # plot\n    isSaveFig=False\n    if(ax is None): isSaveFig = True\n    if(ax==None):\n        fig=plt.figure(figsize=(7,7))\n        ax=plt.gca()\n    CS = ax.contourf(TT-273.15,PP/1E5, np.log10(prop), levels=50, cmap=cmap)\n    ax_cb = ax.inset_axes([1.01, 0, 0.05, 1])\n    plt.colorbar(CS, cax=ax_cb, orientation='vertical',label='%s (%s)'%(name_prop,unit_prop))\n    # labels\n    ax.text(0.98,0.98,water.name(),ha='right',va='top',bbox={'fc':'w','ec':'gray'}, transform=ax.transAxes)\n    ax.set_xlabel('Temperature ($^{\\circ}$C)')\n    ax.set_ylabel('Pressure (bar)')\n    if(isSaveFig): savefig('H2O_%s_%s'%(name_prop, water.name()))\n    return TT-273.15,PP/1E5,prop\n\ndef plot_error(ax, XX,YY,ZZ, eosA, eosB,cmap='RdBu',unit='kg/$m^{\\mathregular{3}}$'):\n    CS=ax.contourf(XX,YY,ZZ,levels=50,cmap=cmap, norm=mpl.colors.CenteredNorm())\n    ax_cb = ax.inset_axes([1.01, 0, 0.05, 1])\n    plt.colorbar(CS, cax=ax_cb, orientation='vertical',label='Diff (%s)'%(unit))\n    ax.text(0.98,0.98,'%s-%s'%(eosA.name(),eosB.name()),ha='right',va='top',bbox={'fc':'w','ec':'gray'}, transform=ax.transAxes)\n    ax.set_xlabel('Temperature ($^{\\circ}$C)')"
      ]
    },
    {
      "cell_type": "markdown",
      "metadata": {},
      "source": [
        "## IAPS84 EOS\n\n"
      ]
    },
    {
      "cell_type": "code",
      "execution_count": null,
      "metadata": {
        "collapsed": false
      },
      "outputs": [],
      "source": [
        "TT,PP,prop=plot_prop(iapws95_CoolProp)"
      ]
    },
    {
      "cell_type": "code",
      "execution_count": null,
      "metadata": {
        "collapsed": false
      },
      "outputs": [],
      "source": [
        "# This is the last cell"
      ]
    }
  ],
  "metadata": {
    "kernelspec": {
      "display_name": "Python 3",
      "language": "python",
      "name": "python3"
    },
    "language_info": {
      "codemirror_mode": {
        "name": "ipython",
        "version": 3
      },
      "file_extension": ".py",
      "mimetype": "text/x-python",
      "name": "python",
      "nbconvert_exporter": "python",
      "pygments_lexer": "ipython3",
      "version": "3.9.12"
    }
  },
  "nbformat": 4,
  "nbformat_minor": 0
}