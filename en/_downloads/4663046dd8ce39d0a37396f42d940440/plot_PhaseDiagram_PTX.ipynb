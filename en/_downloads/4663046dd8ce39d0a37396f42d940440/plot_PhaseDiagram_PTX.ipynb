{
  "cells": [
    {
      "cell_type": "code",
      "execution_count": null,
      "metadata": {
        "collapsed": false
      },
      "outputs": [],
      "source": [
        "# This cell is added by sphinx-gallery\n# It can be customized to whatever you like\n%matplotlib inline"
      ]
    },
    {
      "cell_type": "markdown",
      "metadata": {},
      "source": [
        "\n# 0. Phase diagram\n.. include:: /include.rst_\nCalculate and plot phase diagram.\n"
      ]
    },
    {
      "cell_type": "code",
      "execution_count": null,
      "metadata": {
        "collapsed": false
      },
      "outputs": [],
      "source": [
        "import os\nimport numpy as np\nimport time\nimport linecache\nimport matplotlib.pyplot as plt\nimport matplotlib as mpl\nfrom matplotlib import patches\nimport matplotlib.ticker as ticker\nfrom matplotlib.ticker import MultipleLocator\nfrom tabulate import tabulate\nfrom matplotlib.patches import Patch\nimport copy\nimport warnings\nwarnings.filterwarnings(\"ignore\", category=RuntimeWarning)\n# 3d plot\nimport helpfunc\nmpl.rcParams['font.family'] = 'Arial'  # default font family\nmpl.rcParams['mathtext.fontset'] = 'cm'  # font for math\ndpi=100\nfmt_figs = ['pdf']  # ['svg','pdf']\nfigpath = '.'\nresult_path='../../../gallery_H2ONaCl/pT'\ndef savefig(figname):\n    for fmt_fig in fmt_figs:\n        figname_full = '%s/%s.%s' % (figpath, figname, fmt_fig)\n        plt.savefig(figname_full, bbox_inches='tight',dpi=dpi)\n        print('figure saved: ', figname_full)\ncompare = lambda a,b : float(str('%.6e'%(a)))-float(str('%.6e'%(b)))\n# Import package of xThermo\nfrom xThermo import H2O\nfrom xThermo import NaCl\nfrom xThermo import H2ONaCl\nsw_84 = H2ONaCl.cH2ONaCl(\"IAPS84\")\nsw_95 = H2ONaCl.cH2ONaCl(\"IAPWS95\")\n\ndef calc_VLH(sw,xcenter,phaseBoundaries,nT=100):\n    # calculate boundary surface of VLH: Vapor -> liquid part , and Liquid -> Halite part\n    nT_high = int(nT/3)\n    nT_low=nT - nT_high\n    T_high=H2ONaCl.T_MIN_VLH + (sw.Tmax_VLH() - H2ONaCl.T_MIN_VLH)*0.95\n    T = np.append(np.linspace(H2ONaCl.T_MIN_VLH, T_high, nT_low),np.linspace(T_high, sw.Tmax_VLH(),nT_high))\n    P_vlh = np.array(sw.P_VLH(T))\n    Xl_vlh, Xv_vlh = np.array(sw.X_VLH(T,P_vlh))\n    n_log,n_linear=20,40\n    X = np.linspace(H2ONaCl.X_MIN, H2ONaCl.X_MAX, n_log+n_linear)\n    TT,PP = np.meshgrid(T, X)\n    XX_V2L,XX_L2H=np.zeros_like(TT),np.zeros_like(TT)\n    for i in range(0,PP.shape[0]):\n        PP[i,:]=P_vlh\n    # 1. vapor -> liquid region\n    for j in range(0,PP.shape[1]):\n        XX_V2L[:,j] = np.append(10**np.linspace(np.log10(Xv_vlh[j]),np.log10(xcenter/100),n_log), np.linspace(xcenter/100,Xl_vlh[j],n_linear))\n    # 2. liquid -> halite region\n    for j in range(0,PP.shape[1]):\n        XX_L2H[:,j] = np.linspace(Xl_vlh[j], 1,len(X))\n    # assemble data\n    phaseBoundaries['surface']['VLH: vapor -> liquid']={'T':TT,'P':PP,'X':XX_V2L,'fc':'darkblue','ec':'darkblue'} # surface\n    phaseBoundaries['surface']['VLH: liquid -> halite']={'T':TT,'P':PP,'X':XX_L2H,'fc':'orange','ec':'orange'} # surface\n    phaseBoundaries['line']['VLH: vapor']={'T': T, 'P':P_vlh, 'X': Xv_vlh,'lc':'r','zorder':None} # line\n    phaseBoundaries['line']['VLH: liquid']={'T': T, 'P':P_vlh, 'X': Xl_vlh,'lc':'g','zorder':None} # line\n    phaseBoundaries['line']['VLH: halite']={'T': T, 'P':P_vlh, 'X': Xl_vlh*0 + 1,'lc':'k','zorder':None} # line\n    return phaseBoundaries\n\ndef calc_VH(sw,phaseBoundaries,nT=100, nP = 100):\n    T = np.linspace(H2ONaCl.T_MIN_VLH, sw.Tmax_VLH(), nT)\n    P_vlh = np.array(sw.P_VLH(T))\n    P = np.linspace(0,1,nP)\n    TT,PP = np.meshgrid(T,P)\n    np_low = int(nP/3)\n    np_high=nP - np_low\n    for i in range(0,len(T)):\n        p_low=sw.pmin() + (P_vlh[i] - sw.pmin())*0.1\n        PP[:,i] = np.append(np.linspace(sw.pmin(),p_low,np_low),np.linspace(p_low,P_vlh[i],np_high))\n    XX_VH = np.array(sw.X_VH(TT.reshape(-1,),PP.reshape(-1,))).reshape(TT.shape)\n    phaseBoundaries['surface']['VH: vapor']={'T':TT,'P':PP,'X':XX_VH,'fc':'purple','ec':'purple'} # surface\n    phaseBoundaries['line']['VH: vapor(P=Pmin)']={'T': T, 'P':P_vlh*0 + sw.pmin(), 'X': XX_VH[0,:],'lc':'b','zorder':None} # line\n    return phaseBoundaries\n\ndef calc_HaliteLiquidus(sw,phaseBoundaries, pmax=2500E5,nT=100,nP=100):\n    T = np.linspace(H2ONaCl.T_MIN_VLH, sw.Tmax_VLH(), nT)\n    P_vlh = np.array(sw.P_VLH(T))\n    P = np.linspace(0,1,nP)\n    TT,PP = np.meshgrid(T,P)\n    for i in range(0,len(T)):\n        PP[:,i] = np.linspace(P_vlh[i],pmax,nP)\n    XL_LH = np.array(sw.X_HaliteLiquidus(TT.reshape(-1,),PP.reshape(-1,))).reshape(TT.shape)\n    phaseBoundaries['surface']['Halite liquidus']={'T':TT,'P':PP,'X':XL_LH,'fc':'lime','ec':'lime'} # surface\n    return phaseBoundaries\n\ndef calc_VL(sw, phaseBoundaries):\n    for phase,color,name in zip([H2ONaCl.Liquid, H2ONaCl.Vapor],['k','gray'],['VL: liquid branch','VL: vapor branch']):\n        pb = sw.PhaseBoundary_VL_DeformLinear(phase)\n        TT,PP,XX = np.array(pb.T), np.array(pb.p), np.array(pb.X)\n        phaseBoundaries['surface'][name]={'T':TT,'P':PP,'X':XX,'fc':color,'ec':color} # surface\n    # critical curve\n    T_crit = np.linspace(sw.get_pWater().T_critical(),sw.Tmax(),100)\n    p_crit, X_crit = np.array(sw.P_X_Critical(T_crit))\n    phaseBoundaries['line']['Critical curve']={'T': T_crit, 'P':p_crit, 'X': X_crit,'lc':'r','zorder':11} # line\n    return phaseBoundaries\n\ndef calc_phaseBoundaries(sw,xcenter=1):\n    # xcenter=1 # X<1% wt.% use log scale, if X>=1% wt.% NaCl, use linear scale\n    phaseBoundaries={'xcenter':xcenter,'surface':{},'line':{}} #T: K, P: Pa, X: kg/kg\n    # 1.1 VLH surface\n    phaseBoundaries = calc_VLH(sw,xcenter,phaseBoundaries)\n    # 1.2 VH surface\n    phaseBoundaries = calc_VH(sw,phaseBoundaries)\n    # 1.3 LH surface: halite liquidus\n    phaseBoundaries = calc_HaliteLiquidus(sw, phaseBoundaries)\n    # 1.4 VL:\n    phaseBoundaries = calc_VL(sw, phaseBoundaries)\n    return phaseBoundaries\n\ndef plot_3d(sw,phaseBoundaries,scale='linear'):\n    fig=plt.figure(figsize=(14,14))\n    ax = fig.add_subplot(111,projection='3d',facecolor='None')\n    xcenter=phaseBoundaries['xcenter'] # xcenter = 1, X<1% wt.% use log scale, if X>=1% wt.% NaCl, use linear scale\n    axtrans=[]\n    if(scale=='loglinear'):\n        axtrans=helpfunc.set_axis_diagram_3D_loglinearx(ax,xcenter=xcenter,ratio_log_lin=(1,1),xMajor_loc_log=2,xMajor_loc_linear=10,xMinor_loc_linear=2,xlim=(1E-16,100),xlabel='log$_{\\mathregular{10}}$(Wt.% NaCl)')\n    else:\n        helpfunc.set_axis_diagram_3D(ax)\n    transform_X = lambda X : helpfunc.data2axis_loglin(axtrans,X) if(scale=='loglinear') else X\n    # plot\n    surfaces=phaseBoundaries['surface']\n    for key in surfaces.keys():\n        X,T,P,fc,ec = transform_X(surfaces[key]['X']*100),surfaces[key]['T']-273.15,surfaces[key]['P']/1E5,surfaces[key]['fc'],surfaces[key]['ec']\n        ax.plot_surface(X,T,P,color=fc,alpha=0.5)\n        ax.plot_wireframe(X,T,P,ec=ec,lw=0.8,label=key)\n    lines=phaseBoundaries['line']\n    for key in lines.keys():\n        X,T,P,lc = transform_X(lines[key]['X']*100),lines[key]['T']-273.15,lines[key]['P']/1E5,lines[key]['lc']\n        ax.plot(X,T,P,color=lc,label=key,zorder=lines[key]['zorder'])\n\n    # legend\n    leg=ax.legend()\n    # change legend handle of wireframe of phase boundaries to wireframe hatch\n    for i in range(0,6):\n        leg.legendHandles[i]=Patch(facecolor='white', edgecolor=leg.legendHandles[i]._color,linewidth=0.0,label=leg.texts[i]._text,hatch='++++')\n    ax.legend(handles=leg.legendHandles, loc='upper left',ncol=7)\n    # text\n    if(scale=='loglinear'): helpfunc.text3d(ax,(transform_X(1E-12),800,sw.pmin()/1E5),\"P$_{min}$=%.0f bar\"%(sw.pmin()/1E5),size=0.07,angle=-90,ec='None',fc='k')\n    ax.view_init(elev=25, azim=-145)\n    savefig('PhaseDiagram_%s'%(scale))\n\ndef writeXXYYZZ2vtu(XX,YY,ZZ,vtufile,scale_x=1, scale_y=1, scale_z=1):\n    x,y,z = XX.reshape(-1,)*scale_x, YY.reshape(-1,)*scale_y, ZZ.reshape(-1,)*scale_z\n    npoints=len(x)\n    nCells=(XX.shape[0]-1)*(XX.shape[1]-1)\n    VTK_CELLTYPE=9 #\u56db\u8fb9\u5f62\n    np_per_cell=4\n    nrows,ncols = XX.shape[0],XX.shape[1]\n    # write vtu\n    fpout=open(vtufile,'w')\n    fpout.write('<VTKFile type=\"UnstructuredGrid\" version=\"1.0\" byte_order=\"LittleEndian\" header_type=\"UInt64\">\\n')\n    fpout.write('  <UnstructuredGrid>\\n')\n    fpout.write('    <Piece NumberOfPoints=\"%.0f\" NumberOfCells=\"%.0f\">\\n'%(npoints,nCells))\n    fpout.write('      <PointData>\\n')\n    # fpout.write('        <DataArray type=\"Float64\" Name=\"%s\" format=\"ascii\">\\n'%(dataname))\n    # fpout.write('          ')\n    # for i in range(0,len(data)):\n    #     fpout.write('%f '%(data[i]))\n    # fpout.write('\\n        </DataArray>\\n')\n    fpout.write('      </PointData>\\n')\n    fpout.write('      <CellData>\\n')\n    fpout.write('      </CellData>\\n')\n    fpout.write('      <Points>\\n')\n    fpout.write('        <DataArray type=\"Float32\" Name=\"Points\" NumberOfComponents=\"3\" format=\"ascii\">\\n')\n    for i in range(0,len(x)):\n        fpout.write('          %f %f %f\\n'% (x[i],y[i],z[i]))\n    fpout.write('        </DataArray>\\n')\n    fpout.write('      </Points>\\n')\n    fpout.write('      <Cells>\\n')\n    fpout.write('        <DataArray type=\"Int64\" Name=\"connectivity\" format=\"ascii\">\\n')\n    for nrow in range(0,nrows-1):\n        for ncol in range(0,ncols-1):\n            LL=ncol + nrow*ncols\n            fpout.write('          %.0f %.0f %.0f %.0f\\n'%(LL, LL+1, LL+1+ncols, LL+ncols))\n    fpout.write('        </DataArray>\\n')\n    fpout.write('        <DataArray type=\"Int64\" Name=\"offsets\" format=\"ascii\">\\n')\n    fpout.write('          ')\n    for i in range(0,nCells):\n        fpout.write('%.0f '%((i+1)*np_per_cell))\n    fpout.write('        </DataArray>\\n')\n    fpout.write('        <DataArray type=\"UInt8\" Name=\"types\" format=\"ascii\">\\n')\n    fpout.write('          ')\n    for i in range(0,nCells):\n        fpout.write('%.0f '%(VTK_CELLTYPE))\n    fpout.write('        </DataArray>\\n')\n    fpout.write('      </Cells>\\n')\n    fpout.write('    </Piece>\\n')\n    fpout.write('  </UnstructuredGrid>\\n')\n    fpout.write('</VTKFile>\\n')\n    fpout.close()\n    # os.system('meshio-binary '+vtufile)\n    # # delete tmp files\n    # os.system('rm %s %s'%(fname_xyz,fname_utm_xyz))\ndef phaseBoundaries2VTK(phaseBoundaries,fname,scale='linear',Xmin=0,Xmax=100,Tmin=90,Tmax=1000,Pmin=1,Pmax=2500,scale_X=1):\n    ratio_log_lin=(1,1)\n    axtrans = {'xlim':(1e-14,100),'xcenter':phaseBoundaries['xcenter'],'ratio_log_lin':ratio_log_lin}\n    if(scale=='loglinear'): Xmin, Xmax = -ratio_log_lin[0]/ratio_log_lin[1],1\n    # normalize\n    Normalize_X = lambda X : (helpfunc.data2axis_loglin(axtrans,X) - Xmin)/(Xmax-Xmin) if(scale=='loglinear') else (X-Xmin)/(Xmax-Xmin)\n    Normalize_T = lambda T: (T-Tmin)/(Tmax-Tmin)\n    Normalize_P = lambda P: (P-Pmin)/(Pmax-Pmin)\n    # save phase boundaries surfaces and lines to vtk format: .vtm file\n    abspath = os.path.dirname(os.path.abspath(fname))\n    basename = os.path.basename(fname).split('.')[0]\n    # save a vtm file\n    vtmfile = '%s/%s_%s.vtm'%(abspath,basename,scale)\n    fpout = open(vtmfile,'w')\n    fpout.write('<VTKFile type=\"vtkMultiBlockDataSet\" version=\"1.0\" byte_order=\"LittleEndian\" header_type=\"UInt64\">\\n')\n    fpout.write('  <vtkMultiBlockDataSet>\\n')\n    surfaces=phaseBoundaries['surface']\n    for i,key in enumerate(surfaces.keys()):\n        vtufile = '%s/%s_%s_%s.vtu'%(abspath,basename,key.replace(' ','_').replace(':','').replace('->','-'),scale)\n        XX,YY,ZZ = Normalize_X(surfaces[key]['X']*100),Normalize_T(surfaces[key]['T']-273.15),Normalize_P(surfaces[key]['P']/1E5)\n        writeXXYYZZ2vtu(XX,YY,ZZ,vtufile,scale_x=scale_X)\n        fpout.write('    <Block index=\"%d\" name=\"%s\">\\n'%(i,key))\n        fpout.write('      <DataSet index=\"0\" name=\"1\" file=\"%s\">\\n'%(vtufile))\n        fpout.write('      </DataSet>\\n')\n        fpout.write('    </Block>\\n')\n    fpout.write('  </vtkMultiBlockDataSet>\\n')\n    fpout.write('</VTKFile>')\n    fpout.close()\n\ndef createPhaseBoundaries_vtkjs(sw):\n    for scale,xscale in zip(['linear','log','loglinear'],[1,2,2]):\n        os.system('mkdir ../../../gallery_H2ONaCl/pT/phaseBoundaries_%s'%(scale))\n        pb = sw.calc_PhaseBoundaries(scale,1, 0.1)\n        sw.normalizePhaseBoundaries(pb)\n        sw.writePhaseBoundaries2VTU(\"../../../gallery_H2ONaCl/pT/phaseBoundaries_%s\"%(scale), pb, 1, 2, xscale)"
      ]
    },
    {
      "cell_type": "markdown",
      "metadata": {},
      "source": [
        "## General 3D view: linear scale (left panel) and log-linear scale (right panel)\nThe VH surface connect to the Vapor side of VLH surface which can be calculated by function :code:`Xl_vlh, Xv_vlh = V_VLH(T, P)`\n\n"
      ]
    },
    {
      "cell_type": "code",
      "execution_count": null,
      "metadata": {
        "collapsed": false
      },
      "outputs": [],
      "source": [
        "phaseBoundaries = calc_phaseBoundaries(sw_84)\n\nphaseBoundaries2VTK(phaseBoundaries,'pb.vtu',scale='linear')\nphaseBoundaries2VTK(phaseBoundaries,'pb.vtu',scale='loglinear',scale_X=2)\nplot_3d(sw_84,phaseBoundaries,scale='linear')\nplot_3d(sw_84,phaseBoundaries,scale='loglinear')\ncreatePhaseBoundaries_vtkjs(sw_84)"
      ]
    },
    {
      "cell_type": "markdown",
      "metadata": {},
      "source": [
        "## Interactive scene based on VTK.js\n.. tab:: Linear-scaled composition\n\n    :download:`Halite Liquidus <phaseBoundaries_linear/HL.vtu>` , :download:`VL: liquid branch <phaseBoundaries_linear/VL_L.vtu>` , :download:`VL: vapor branch <phaseBoundaries_linear/VL_V.vtu>` , :download:`VLH <phaseBoundaries_linear/VLH.vtu>` , :download:`Halite saturated vapor <phaseBoundaries_linear/VH.vtu>` , :download:`VLH: vapor <phaseBoundaries_linear/VLH_V.vtu>` , :download:`VLH: liquid <phaseBoundaries_linear/VLH_L.vtu>` , :download:`VLH: halite <phaseBoundaries_linear/VLH_H.vtu>` , :download:`Critical curve <phaseBoundaries_linear/Critical.vtu>` , :download:`Boiling curve of H2O <phaseBoundaries_linear/BoilingCurve_H2O.vtu>`\n\n    .. raw:: html\n\n        <iframe src=\"../../_static/vtk_js/SceneExplorer.html?fileURL=https://raw.githubusercontent.com/zguoch/HydrothermalFoam_static/master/vtk_js/phaseBoundaries_H2ONaCl_linearX.vtkjs\" width=\"100%\" height=\"500px\"></iframe>\n\n.. tab:: Log-scaled composition\n\n    :download:`Halite Liquidus <phaseBoundaries_log/HL.vtu>` , :download:`VL: liquid branch <phaseBoundaries_log/VL_L.vtu>` , :download:`VL: vapor branch <phaseBoundaries_log/VL_V.vtu>` , :download:`VLH <phaseBoundaries_log/VLH.vtu>` , :download:`Halite saturated vapor <phaseBoundaries_log/VH.vtu>` , :download:`VLH: vapor <phaseBoundaries_log/VLH_V.vtu>` , :download:`VLH: liquid <phaseBoundaries_log/VLH_L.vtu>` , :download:`VLH: halite <phaseBoundaries_log/VLH_H.vtu>` , :download:`Critical curve <phaseBoundaries_log/Critical.vtu>` \n\n    .. raw:: html\n\n        <iframe src=\"../../_static/vtk_js/SceneExplorer.html?fileURL=https://raw.githubusercontent.com/zguoch/HydrothermalFoam_static/master/vtk_js/phaseBoundaries_H2ONaCl_logX.vtkjs\" width=\"100%\" height=\"500px\"></iframe>\n\n.. tab:: Log-linear-scaled composition\n\n    :download:`Halite Liquidus <phaseBoundaries_loglinear/HL.vtu>` , :download:`VL: liquid branch <phaseBoundaries_loglinear/VL_L.vtu>` , :download:`VL: vapor branch <phaseBoundaries_loglinear/VL_V.vtu>` , :download:`VLH <phaseBoundaries_loglinear/VLH.vtu>` , :download:`Halite saturated vapor <phaseBoundaries_loglinear/VH.vtu>` , :download:`VLH: vapor <phaseBoundaries_loglinear/VLH_V.vtu>` , :download:`VLH: liquid <phaseBoundaries_loglinear/VLH_L.vtu>` , :download:`VLH: halite <phaseBoundaries_loglinear/VLH_H.vtu>` , :download:`Critical curve <phaseBoundaries_loglinear/Critical.vtu>` \n\n    .. raw:: html\n\n        <iframe src=\"../../_static/vtk_js/SceneExplorer.html?fileURL=https://raw.githubusercontent.com/zguoch/HydrothermalFoam_static/master/vtk_js/phaseBoundaries_H2ONaCl_loglinearX.vtkjs\" width=\"100%\" height=\"500px\"></iframe>\n\n"
      ]
    },
    {
      "cell_type": "markdown",
      "metadata": {},
      "source": [
        "## Isobaric sections\n\n"
      ]
    },
    {
      "cell_type": "code",
      "execution_count": null,
      "metadata": {
        "collapsed": false
      },
      "outputs": [],
      "source": [
        "def phaseBoundary_isobaric(sw,p0):\n    T_crit = sw.T_Critical(p0)\n    Tmin_vlh, Tmax_vlh = sw.T_VLH_P0(p0)\n    T=np.linspace(T_crit, Tmin_vlh, 100)\n    P = T*0 + p0\n    # VL\n    xl=np.array(sw.XL_VL(T, P))\n    xv=np.array(sw.XV_VL(T, P))\n    hl=np.array(sw.H_phase(T,P,xl, H2ONaCl.Liquid))\n    hv=np.array(sw.H_phase(T,P,xv, H2ONaCl.Vapor))\n    # plot\n    fig,axes=plt.subplots(1,2, figsize=(14,6),gridspec_kw={'wspace':0.03})\n    for ax,y in zip(axes, [[T-273.15,T-273.15],[hl/1E6,hv/1E6]]):\n        ax.plot(xl*100, y[0], '.')\n        ax.plot(xv*100, y[1])\n        ax.set_xscale('log')\n        ax.set_xlim(ax.get_xlim()[0],100)\n        ax.text(0.98,0.02,'P = %.0f bar'%(p0/1E5),transform=ax.transAxes, ha='right',va='bottom')\n        ax.set_xlabel('Salinity (wt.% NaCl)')\n    axes[1].yaxis.set_ticks_position('right')\n    axes[1].yaxis.set_label_position('right')\n    axes[0].set_ylabel('Temperature ($^{\\circ}$C)')\n    axes[1].set_ylabel('Specific enthalpy (MJ/kg)')\n    axes[0].set_ylim(0,1000)\n    axes[1].set_ylim(0,4.7)\n    savefig('Isobaric_%.0f'%(p0/1E5))\n\nphaseBoundary_isobaric(sw_84,250E5)\nphaseBoundary_isobaric(sw_84,10E5)"
      ]
    },
    {
      "cell_type": "code",
      "execution_count": null,
      "metadata": {
        "collapsed": false
      },
      "outputs": [],
      "source": [
        "# This is the last cell"
      ]
    }
  ],
  "metadata": {
    "kernelspec": {
      "display_name": "Python 3",
      "language": "python",
      "name": "python3"
    },
    "language_info": {
      "codemirror_mode": {
        "name": "ipython",
        "version": 3
      },
      "file_extension": ".py",
      "mimetype": "text/x-python",
      "name": "python",
      "nbconvert_exporter": "python",
      "pygments_lexer": "ipython3",
      "version": "3.9.12"
    }
  },
  "nbformat": 4,
  "nbformat_minor": 0
}