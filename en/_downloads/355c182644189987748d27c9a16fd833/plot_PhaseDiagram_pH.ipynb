{
  "cells": [
    {
      "cell_type": "code",
      "execution_count": null,
      "metadata": {
        "collapsed": false
      },
      "outputs": [],
      "source": [
        "# This cell is added by sphinx-gallery\n# It can be customized to whatever you like\n%matplotlib inline"
      ]
    },
    {
      "cell_type": "markdown",
      "metadata": {},
      "source": [
        "\n# 0. Phase diagram\n"
      ]
    },
    {
      "cell_type": "code",
      "execution_count": null,
      "metadata": {
        "collapsed": false
      },
      "outputs": [],
      "source": [
        "# Some python packages for data visualization\nimport numpy as np \nimport time\nimport copy\nimport matplotlib.pyplot as plt\nimport matplotlib as mpl\nfrom matplotlib import patches\nimport matplotlib.ticker as ticker\nfrom matplotlib.ticker import MultipleLocator\nmpl.rcParams['font.family'] = 'Arial'  #default font family\nmpl.rcParams['mathtext.fontset'] = 'cm' #font for math\ndpi=100\nfmt_figs=['pdf'] #['svg','pdf']\nresult_path='.'\nfigpath=result_path\ndef savefig(figname):\n    for fmt_fig in fmt_figs:\n        figname_full = '%s/%s.%s'%(figpath,figname,fmt_fig)\n        plt.savefig(figname_full, bbox_inches='tight')\n        print('figure saved: ',figname_full)\n\n# Import package of xThermo\nfrom xThermo import H2O\niaps84 = H2O.cIAPS84()\niapws95_CoolProp = H2O.cIAPWS95_CoolProp()\niapws95 = H2O.cIAPWS95()\n\n# Calculate\ndef cal_phase(water):\n    H = np.linspace(0.2,4,200)*1E6\n    p = np.linspace(1E5,500e5,200)\n    # p = np.zeros_like(H)\n    # for i in range(0,len(H)): p[i] = water.Boiling_p(T[i])\n    # calculate phase index\n    HH, pp = np.meshgrid(H,p)\n    phase = np.zeros_like(HH)\n    for i in range(0,HH.shape[0]):\n        for j in range(0,HH.shape[1]):\n            # props=water.UpdateState_HPX(HH[i][j], pp[i][j])\n            # phase[i][j]=props.phase\n            phase[i][j] = water.findPhaseRegion_HPX(HH[i][j], pp[i][j])\n    phase_unique = np.sort(np.unique(phase))\n    phase_name = ['']*len(phase_unique)\n    for i,phase0 in enumerate(phase_unique): \n        phase[phase==phase0]=i+phase_unique.max()+10\n        phase_name[i]=water.phase_name(int(phase0))\n    return H,p,HH,pp,phase,phase_name\n\n# Plot both linear and log scale\ndef phaseDiagram(water, axes=None):\n    T,p,HH,pp,phase,phase_name = cal_phase(water)\n    pp,HH = pp/1E5, HH/1E6\n    if(axes==None): \n        # fig,axes=plt.subplots(1,2,figsize=(15,7),gridspec_kw={'wspace':0.02},dpi=dpi)\n        fig=plt.figure(figsize=(8,7))\n        ax=plt.gca()\n    ax.set_ylabel('Pressure (bar)')\n\n    # plot\n    cmap = plt.get_cmap(\"Dark2\")\n    # customize cmap\n    colors=list(copy.deepcopy(cmap.colors))\n    colors[0:8]=['lightblue','red','lightgreen','lightgray','violet','yellow','lightcyan','m']\n    cmap.colors=tuple(colors)\n\n    ax.set_ylim(pp.min(),pp.max())\n    ax.set_xlim(HH.min(),HH.max())\n    ax.text(0.98,0.98,water.name(),ha='right',va='top',bbox={'fc':'w','ec':'gray'}, transform=ax.transAxes)\n    ax.set_xlabel('Specific enthalpy (MJ/kg)')\n    # ax.plot(T-273.15, p/1E5, label='Boiling curve')\n    # ax.plot(water.T_critical()-273.15, water.p_critical()/1E5,'o',mfc='r',mec='w',label='Critical point')\n    CS=ax.contourf(HH,pp,phase, cmap=cmap,vmin=phase.min()-0.5, vmax=phase.max()+0.5, levels=np.linspace(phase.min()-0.5,phase.max()+0.5,len(phase_name)+1))\n    ax_cb = ax.inset_axes([0,1.03,1,0.05])\n    cb=plt.colorbar(CS, cax=ax_cb, orientation='horizontal',ticklocation='top',ticks=np.arange(phase.min(),phase.max()+1))\n    cb.ax.set_xticklabels(phase_name)\n    # if(ax==axes[1]):\n    #     ax.yaxis.set_ticks_position('right')\n    #     ax.xaxis.set_minor_locator(MultipleLocator(20))\n    #     ax.grid(which='major',color='gray')\n    #     ax.grid(which='minor',color='lightgray')\n    # ax.legend(loc='lower right')\n    savefig('phase_%s'%(water.name()))"
      ]
    },
    {
      "cell_type": "markdown",
      "metadata": {},
      "source": [
        "## IAPS84 Phase diagram\nphaseDiagram(iaps84)\n\n"
      ]
    },
    {
      "cell_type": "markdown",
      "metadata": {},
      "source": [
        "## IAPWS95 Phase diagram: build in xThermo\n\n"
      ]
    },
    {
      "cell_type": "code",
      "execution_count": null,
      "metadata": {
        "collapsed": false
      },
      "outputs": [],
      "source": [
        "phaseDiagram(iapws95)"
      ]
    },
    {
      "cell_type": "markdown",
      "metadata": {},
      "source": [
        "## IAPWS95 Phase diagram: CoolProp\n\n"
      ]
    },
    {
      "cell_type": "code",
      "execution_count": null,
      "metadata": {
        "collapsed": false
      },
      "outputs": [],
      "source": [
        "# phaseDiagram(iapws95_CoolProp)"
      ]
    },
    {
      "cell_type": "code",
      "execution_count": null,
      "metadata": {
        "collapsed": false
      },
      "outputs": [],
      "source": [
        "# This is the last cell"
      ]
    }
  ],
  "metadata": {
    "kernelspec": {
      "display_name": "Python 3",
      "language": "python",
      "name": "python3"
    },
    "language_info": {
      "codemirror_mode": {
        "name": "ipython",
        "version": 3
      },
      "file_extension": ".py",
      "mimetype": "text/x-python",
      "name": "python",
      "nbconvert_exporter": "python",
      "pygments_lexer": "ipython3",
      "version": "3.9.12"
    }
  },
  "nbformat": 4,
  "nbformat_minor": 0
}