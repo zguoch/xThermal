{
  "cells": [
    {
      "cell_type": "code",
      "execution_count": null,
      "metadata": {
        "collapsed": false
      },
      "outputs": [],
      "source": [
        "# This cell is added by sphinx-gallery\n# It can be customized to whatever you like\n%matplotlib inline"
      ]
    },
    {
      "cell_type": "markdown",
      "metadata": {},
      "source": [
        "\n# 1. Phase diagram\n.. include:: /include.rst_\nCalculate phase boundary of pure NaCl, and compare result with :cite:`Driesner2007Part1`.\n"
      ]
    },
    {
      "cell_type": "code",
      "execution_count": null,
      "metadata": {
        "collapsed": false
      },
      "outputs": [],
      "source": [
        "import os\nimport numpy as np\nimport time\nimport linecache\nimport matplotlib.pyplot as plt\nimport matplotlib as mpl\nfrom matplotlib import patches\nimport matplotlib.ticker as ticker\nfrom matplotlib.ticker import MultipleLocator\nfrom tabulate import tabulate\nimport copy\nimport warnings\nwarnings.filterwarnings(\"ignore\", category=RuntimeWarning)\nmpl.rcParams['font.family'] = 'Arial'  # default font family\nmpl.rcParams['mathtext.fontset'] = 'cm'  # font for math\ndpi=100 # > 100 means use jpg format in gallery\nfmt_figs = ['pdf']  # ['svg','pdf']\nfigpath = '.'\nresult_path='../../../gallery_NaCl/pT'\ndef savefig(figname):\n    for fmt_fig in fmt_figs:\n        figname_full = '%s/%s.%s' % (figpath, figname, fmt_fig)\n        plt.savefig(figname_full, bbox_inches='tight',dpi=dpi)\n        print('figure saved: ', figname_full)\ncompare = lambda a,b : float(str('%.6e'%(a)))-float(str('%.6e'%(b)))\n# Import package of xThermo\nfrom xThermo import H2O\nfrom xThermo import NaCl\nfrom xThermo import H2ONaCl\nsw_84 = H2ONaCl.cH2ONaCl(\"IAPS84\")\nsw_95 = H2ONaCl.cH2ONaCl(\"IAPWS95\")\nsalt_84 = NaCl.cNaCl(\"IAPS84\")\nsalt_95 = NaCl.cNaCl(\"IAPWS95\")\n\ndef plot_PhaseDiagram(salt,sw, scale='linear'):\n    # Fig. 4 of Driesner(2007a)\n    T = np.linspace(300, 1100, 100) + 273.15\n    P_boiling = np.array(salt.Boiling_p(T))\n    P_sublimation = np.array(salt.Sublimation_p(T))\n    P_melting = np.linspace(NaCl.P_Triple, 5000E5, 100)\n    T_melting = np.array(salt.Melting_T(P_melting))\n    fig=plt.figure(figsize=(8,8))\n    ax=plt.gca()\n    # boiling curve\n    ind_boil=(T>=NaCl.T_Triple)\n    l,=ax.semilogy(T[ind_boil]-273.15, P_boiling[ind_boil]/1E5, color='orange',label='Boiling curve')\n    # ax.semilogy(np.array(salt.Boiling_T(P_boiling[ind_boil]))-273.15, P_boiling[ind_boil]/1E5, color='red',ls='dashed',lw=0.5)\n    # sublimation curve\n    ind_sub=(T<=NaCl.T_Triple)\n    l,=ax.semilogy(T[ind_sub]-273.15, P_sublimation[ind_sub]/1E5, color='green',label='Sublimation curve')\n    # melting curve\n    l,=ax.semilogy(T_melting-273.15, P_melting/1E5, color='m',label='Melting curve')\n    # triple point\n    ax.plot(NaCl.T_Triple-273.15, NaCl.P_Triple/1E5, 'o', mfc='red',mec='w', label='Triple point: (%.2f $^{\\circ}$C, %.2f Pa)'%(NaCl.T_Triple-273.15, NaCl.P_Triple))\n    # valid pressure of H2O-NaCl\n    ax.axhline(sw.pmin()/1E5,color='r',label='Valid $P_{min}$ = %.1f bar\\n$H2O-NaCl$ lib'%(sw.pmin()/1E5),ls='dashed')\n    # phase region\n    ax.fill_betweenx(np.append(P_sublimation[ind_sub], P_melting)/1E5, np.append(T[ind_sub], T_melting)-273.15, T.min()-273.15, fc='lightblue',ec='None',label='Solid phase',zorder=0)\n    ax.fill(np.append(T[ind_boil][::-1], np.append(T_melting,T.max()))-273.15,np.append(P_boiling[ind_boil][::-1], np.append(P_melting,P_melting.max()))/1E5, T.min()-273.15, fc='lightgreen',ec='None',label='Liquid phase',zorder=0)\n    ax.fill_betweenx(np.append(P_sublimation[ind_sub], P_boiling[ind_boil])/1E5, np.append(T[ind_sub], T[ind_boil])-273.15, T.max()-273.15, fc='gray',ec='None',label='Vapor phase',zorder=0)\n    # invalid region\n    ax.fill_between(T-273.15, T*0 + sw.pmin()/1E5,0,fc='w',ec='None',alpha=0.5)\n    ax.legend(ncol=2,loc='lower right')\n    ax.yaxis.set_major_locator(mpl.ticker.LogLocator(base=10.0, numticks=20))\n    ax.xaxis.set_major_locator(MultipleLocator(100))\n    ax.set_xlim(T.min()-273.15, T.max()-273.15)\n    ax.set_ylim(2E-13, 5000)\n    ax.grid(lw=0.2, color='gray')\n    ax.set_xlabel('Temperature ($^{\\circ}$C)')\n    ax.set_ylabel('P (bar)')\n    savefig('PhaseDiagram_NaCl')"
      ]
    },
    {
      "cell_type": "markdown",
      "metadata": {},
      "source": [
        "## Phase diagram\n\n"
      ]
    },
    {
      "cell_type": "code",
      "execution_count": null,
      "metadata": {
        "collapsed": false
      },
      "outputs": [],
      "source": [
        "plot_PhaseDiagram(salt_84,sw_84,'linear')"
      ]
    },
    {
      "cell_type": "markdown",
      "metadata": {},
      "source": [
        "## Benchmark comparison\nCompare result of |xThermo| with :cite:`Driesner2007Part1`, and also compare result based on different EOS of water.\n\n"
      ]
    },
    {
      "cell_type": "code",
      "execution_count": null,
      "metadata": {
        "collapsed": false
      },
      "outputs": [],
      "source": [
        "def benchmark_NaCl(salt,mmc1='../../H2ONaCl/Driesner2007a/1-s2.0-S0016703707002943-mmc1.txt'):\n    # compare\n    if(not os.path.exists(mmc1)):\n        print('Please set correct mmc1 file path: %s'%(mmc1))\n        exit()\n    T0_melting, P0_melting = np.loadtxt(mmc1,skiprows=14,max_rows=64-14,unpack=True)\n    T0_sub, P0_sub = np.loadtxt(mmc1,skiprows=78,max_rows=400-78,unpack=True)\n    T0_boil, P0_boil = np.loadtxt(mmc1,skiprows=414,max_rows=496-414,unpack=True)\n    # 1. calculate halite liquidus\n    P_boil = np.array(salt.Boiling_p(T0_boil+273.15))/1E5\n    P_sub = np.array(salt.Sublimation_p(T0_sub+273.15))/1E5\n    P_melting = np.array(salt.Melting_p(T0_melting+273.15))/1E5\n    # compare result dict\n    Data0 = {'Melting P': P0_melting,'Boiling P': P0_boil,'Sublimation P': P0_sub}\n    Data_ = {'Melting P': P_melting,'Boiling P': P_boil,'Sublimation P': P_sub}\n    Err,RErr={},{}\n    for key in Data0.keys(): Err[key],RErr[key] = Data0[key]-Data_[key], np.abs(Data0[key]-Data_[key])/(Data0[key])*100.0\n    fig=plt.figure(figsize=(8,8))\n    ax=plt.gca()\n    # print to file\n    for name,T0,P0,P in zip(['Melting','Boiling','Sublimation'],[T0_melting,T0_boil,T0_sub],[P0_melting,P0_boil,P0_sub],[P_melting,P_boil,P_sub]):\n        fpout = open('%s/mmc1_%s_%s.csv'%(result_path,name,salt.name_backend()),'w')\n        fpout.write('T[C],P(Driesner)[bar],P(xThermo),P(err)\\n')\n        for i in range(0,len(T0)):\n            fpout.write('%f,%.6e,%.6e,%.6e\\n'%(T0[i],P0[i],P[i],compare(P0[i],P[i])))\n        fpout.close()\n        ax.plot(T0,P,lw=4,label=name)\n        ax.plot(T0,P0,'.',mfc='r',mec='w',markeredgewidth=0.5)\n    ax.set_yscale('log')\n    ax.legend()\n    ax.set_ylim(1E-5,5000)\n    ax.set_xlim(600,1000)\n    ax.set_xlabel('Temperature ($^{\\circ}$C)')\n    ax.set_ylabel('P (bar)')\n    savefig('Diff_PhaseBoundary')\n    # statistics of the difference\n    table=[]\n    for key in list(Err.keys()):\n        RErr[key] = RErr[key][~(np.isnan(RErr[key]) | np.isinf(RErr[key]))]\n        table.append([key,Err[key].min(),Err[key].max(),RErr[key].min(),RErr[key].max()])\n    print(tabulate(table, headers=['Pressure (bar)', 'Err. Min', 'Err. Max','RE. Min(%)','RE. Max(%)'],numalign=\"right\",floatfmt=\".6f\"))"
      ]
    },
    {
      "cell_type": "markdown",
      "metadata": {},
      "source": [
        "### Based on IAPS84 EOS\n\n"
      ]
    },
    {
      "cell_type": "code",
      "execution_count": null,
      "metadata": {
        "collapsed": false
      },
      "outputs": [],
      "source": [
        "benchmark_NaCl(salt_84)"
      ]
    },
    {
      "cell_type": "markdown",
      "metadata": {},
      "source": [
        "### Based on IAPWS95 EOS\n\n"
      ]
    },
    {
      "cell_type": "code",
      "execution_count": null,
      "metadata": {
        "collapsed": false
      },
      "outputs": [],
      "source": [
        "benchmark_NaCl(salt_95)"
      ]
    },
    {
      "cell_type": "markdown",
      "metadata": {},
      "source": [
        "## Result table\n.. seealso::\n\n    |mmc1| in :cite:`Driesner2007Part1` and Fig. 4 in :cite:`Driesner2007Part1`.\n\nResult data calculated by |xThermo| based on both water EOS of IAPS84 and IAPWS95.\n\n.. tab:: Melting curve\n\n    .. tab:: IAPS84\n\n        .. csv-table:: Comparison between result of :cite:`Driesner2007Part1` (|mmc1|) and result calculated by |xThermo|.\n            :file: mmc1_Melting_IAPS84.csv\n            :header-rows: 1\n\n    .. tab:: IAPWS95\n\n        .. csv-table:: Comparison between result of :cite:`Driesner2007Part1` (|mmc1|) and result calculated by |xThermo|.\n            :file: mmc1_Melting_IAPWS95.csv\n            :header-rows: 1\n\n.. tab:: Boiling curve\n\n    .. tab:: IAPS84\n\n        .. csv-table:: Comparison between result of :cite:`Driesner2007Part1` (|mmc1|) and result calculated by |xThermo|.\n            :file: mmc1_Boiling_IAPS84.csv\n            :header-rows: 1\n\n    .. tab:: IAPWS95\n\n        .. csv-table:: Comparison between result of :cite:`Driesner2007Part1` (|mmc1|) and result calculated by |xThermo|.\n            :file: mmc1_Boiling_IAPWS95.csv\n            :header-rows: 1\n\n.. tab:: Sublimation curve\n\n    .. tab:: IAPS84\n\n        .. csv-table:: Comparison between result of :cite:`Driesner2007Part1` (|mmc1|) and result calculated by |xThermo|.\n            :file: mmc1_Sublimation_IAPS84.csv\n            :header-rows: 1\n\n    .. tab:: IAPWS95\n\n        .. csv-table:: Comparison between result of :cite:`Driesner2007Part1` (|mmc1|) and result calculated by |xThermo|.\n            :file: mmc1_Sublimation_IAPWS95.csv\n            :header-rows: 1\n"
      ]
    },
    {
      "cell_type": "code",
      "execution_count": null,
      "metadata": {
        "collapsed": false
      },
      "outputs": [],
      "source": [
        "# This is the last cell"
      ]
    }
  ],
  "metadata": {
    "kernelspec": {
      "display_name": "Python 3",
      "language": "python",
      "name": "python3"
    },
    "language_info": {
      "codemirror_mode": {
        "name": "ipython",
        "version": 3
      },
      "file_extension": ".py",
      "mimetype": "text/x-python",
      "name": "python",
      "nbconvert_exporter": "python",
      "pygments_lexer": "ipython3",
      "version": "3.9.12"
    }
  },
  "nbformat": 4,
  "nbformat_minor": 0
}