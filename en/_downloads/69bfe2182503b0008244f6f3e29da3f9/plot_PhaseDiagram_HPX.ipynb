{
  "cells": [
    {
      "cell_type": "code",
      "execution_count": null,
      "metadata": {
        "collapsed": false
      },
      "outputs": [],
      "source": [
        "# This cell is added by sphinx-gallery\n# It can be customized to whatever you like\n%matplotlib inline"
      ]
    },
    {
      "cell_type": "markdown",
      "metadata": {},
      "source": [
        "\n# 0. Phase diagram\n.. include:: /include.rst_\nCalculate and plot phase diagram.\n"
      ]
    },
    {
      "cell_type": "code",
      "execution_count": null,
      "metadata": {
        "collapsed": false
      },
      "outputs": [],
      "source": [
        "import os\nimport numpy as np\nimport time\nimport linecache\nimport matplotlib.pyplot as plt\nimport matplotlib as mpl\nfrom matplotlib import patches\nimport matplotlib.ticker as ticker\nfrom matplotlib.ticker import MultipleLocator\nfrom tabulate import tabulate\nfrom matplotlib.patches import Patch\nimport copy\nimport warnings\nwarnings.filterwarnings(\"ignore\", category=RuntimeWarning)\n# 3d plot\nimport helpfunc\nmpl.rcParams['font.family'] = 'Arial'  # default font family\nmpl.rcParams['mathtext.fontset'] = 'cm'  # font for math\ndpi=100\nfmt_figs = ['pdf']  # ['svg','pdf']\nfigpath = '.'\nresult_path='../../../gallery_H2ONaCl/pT'\ndef savefig(figname):\n    for fmt_fig in fmt_figs:\n        figname_full = '%s/%s.%s' % (figpath, figname, fmt_fig)\n        plt.savefig(figname_full, bbox_inches='tight',dpi=dpi)\n        print('figure saved: ', figname_full)\ncompare = lambda a,b : float(str('%.6e'%(a)))-float(str('%.6e'%(b)))\n# Import package of xThermo\nfrom xThermo import H2O\nfrom xThermo import NaCl\nfrom xThermo import H2ONaCl\nsw_84 = H2ONaCl.cH2ONaCl(\"IAPS84\")\nsw_95 = H2ONaCl.cH2ONaCl(\"IAPWS95\")\n\ndef plot_Phase(ax, XX,YY,Phase,sw, cmap=\"Dark2\"):\n    cmap = plt.get_cmap(cmap)\n    # customize cmap\n    phase_unique = np.sort(np.unique(Phase))\n    phase_name = ['']*len(phase_unique)\n    for i,phase0 in enumerate(phase_unique):\n        Phase[Phase==phase0]=i+phase_unique.max()+10\n        phase_name[i]=sw.phase_name(int(phase0))\n    colors=list(copy.deepcopy(cmap.colors))\n    colors[0:8]=['red','lightblue','lightgreen','lightgray','violet','yellow','lightcyan','k']\n    cmap.colors=tuple(colors)\n    CS=ax.contourf(XX,YY, Phase,cmap=cmap,vmin=Phase.min()-0.5, vmax=Phase.max()+0.5, levels=np.linspace(Phase.min()-0.5,Phase.max()+0.5,len(phase_name)+1))\n    ax_cb = ax.inset_axes([0,1.01,1,0.05])\n    cb=plt.colorbar(CS, cax=ax_cb, orientation='horizontal',ticklocation='top',ticks=np.arange(Phase.min(),Phase.max()+1))\n    cb.ax.set_xticklabels(phase_name)\n\n\ndef IsobaricSection(sw, p0):\n    # # H = np.linspace(0.1, 3, 100)*1E6\n    # X = np.linspace(0.00000001,0.9999,100)\n    # T=np.linspace(H2ONaCl.T_MIN+0.1, H2ONaCl.T_MAX, 100)\n    # TT,XX = np.meshgrid(T,X)\n    # PP = TT*0 + p0\n    # props = sw.UpdateState_TPX(TT.reshape(-1,), PP.reshape(-1,), XX.reshape(-1,))\n    # HH = np.array(props.H).reshape(TT.shape)\n    # TT_=np.zeros_like(TT)\n    # for i in range(0,TT.shape[0]):\n    #     for j in range(0,TT.shape[1]):\n    #         # print('py T=%f, H=%f\\n'%(TT[i][j], HH[i][j]))\n    #         TT_[i][j] = sw.T_HPX(HH[i][j], PP[i][j], XX[i][j])\n\n    H = np.linspace(0.1, 5.5, 200)*1E6\n    # X = np.linspace(0.00000001,0.9999,100)\n    X = np.linspace(1E-8,1,200)\n    # T=np.linspace(H2ONaCl.T_MIN+0.1, H2ONaCl.T_MAX, 100)\n    HH,XX = np.meshgrid(H,X)\n    PP = HH*0 + p0\n    TT_=np.zeros_like(HH)\n    phase = np.zeros_like(HH)\n    for i in range(0,HH.shape[0]):\n        for j in range(0,HH.shape[1]):\n            # print('py T=%f, H=%f\\n'%(TT[i][j], HH[i][j]))\n            # TT_[i][j] = sw.T_HPX(HH[i][j], PP[i][j], XX[i][j])\n            # phase[i][j] = sw.findPhaseRegion_HPX(HH[i][j], PP[i][j], XX[i][j])\n            props = sw.UpdateState_HPX(HH[i][j], PP[i][j], XX[i][j])\n            phase[i][j] = props.phase\n    # calculate phase\n    # props = sw.UpdateState_TPX(TT_.reshape(-1,), PP.reshape(-1,), XX.reshape(-1,))\n    # phase = np.array(props.phase).reshape(HH.shape)\n    # plot\n    fig=plt.figure(figsize=(7,6))\n    ax=plt.gca()\n    ax.contourf(XX,HH,phase,levels=50)\n    plot_Phase(ax, XX*100,HH,phase, sw)\n    savefig('phase_HPX_p%.0fbar'%(p0/1E5))"
      ]
    },
    {
      "cell_type": "markdown",
      "metadata": {},
      "source": [
        "## Isobaric section\n\n"
      ]
    },
    {
      "cell_type": "code",
      "execution_count": null,
      "metadata": {
        "collapsed": false
      },
      "outputs": [],
      "source": [
        "IsobaricSection(sw_84, 250E5)"
      ]
    },
    {
      "cell_type": "code",
      "execution_count": null,
      "metadata": {
        "collapsed": false
      },
      "outputs": [],
      "source": [
        "# This is the last cell"
      ]
    }
  ],
  "metadata": {
    "kernelspec": {
      "display_name": "Python 3",
      "language": "python",
      "name": "python3"
    },
    "language_info": {
      "codemirror_mode": {
        "name": "ipython",
        "version": 3
      },
      "file_extension": ".py",
      "mimetype": "text/x-python",
      "name": "python",
      "nbconvert_exporter": "python",
      "pygments_lexer": "ipython3",
      "version": "3.9.12"
    }
  },
  "nbformat": 4,
  "nbformat_minor": 0
}