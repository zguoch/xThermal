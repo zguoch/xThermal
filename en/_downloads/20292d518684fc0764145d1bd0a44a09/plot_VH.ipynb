{
  "cells": [
    {
      "cell_type": "code",
      "execution_count": null,
      "metadata": {
        "collapsed": false
      },
      "outputs": [],
      "source": [
        "# This cell is added by sphinx-gallery\n# It can be customized to whatever you like\n%matplotlib inline"
      ]
    },
    {
      "cell_type": "markdown",
      "metadata": {},
      "source": [
        "\n# 5. Vapor + Halite coexistence surface\n.. include:: /include.rst_\nCalculate VH surface and properties, and compare result with :cite:`Driesner2007Part2`.\n"
      ]
    },
    {
      "cell_type": "code",
      "execution_count": null,
      "metadata": {
        "collapsed": false
      },
      "outputs": [],
      "source": [
        "import os\nimport numpy as np\nimport time\nimport linecache\nimport matplotlib.pyplot as plt\nimport matplotlib as mpl\nfrom matplotlib import patches\nimport matplotlib.ticker as ticker\nfrom matplotlib.ticker import MultipleLocator\nfrom tabulate import tabulate\nfrom matplotlib.patches import Patch\nimport copy\nimport warnings\nwarnings.filterwarnings(\"ignore\", category=RuntimeWarning)\n# 3d plot\nimport helpfunc\nmpl.rcParams['font.family'] = 'Arial'  # default font family\nmpl.rcParams['mathtext.fontset'] = 'cm'  # font for math\ndpi=100\nfmt_figs = []  # ['svg','pdf']\nfigpath = '.'\nresult_path='../../../gallery_H2ONaCl/pT'\ndef savefig(figname):\n    for fmt_fig in fmt_figs:\n        figname_full = '%s/%s.%s' % (figpath, figname, fmt_fig)\n        plt.savefig(figname_full, bbox_inches='tight',dpi=dpi)\n        print('figure saved: ', figname_full)\ncompare = lambda a,b : float(str('%.6e'%(a)))-float(str('%.6e'%(b)))\n# Import package of xThermo\nfrom xThermo import H2O\nfrom xThermo import NaCl\nfrom xThermo import H2ONaCl\nsw_84 = H2ONaCl.cH2ONaCl(\"IAPS84\")\nsw_95 = H2ONaCl.cH2ONaCl(\"IAPWS95\")\n\ndef plot_3d(sw,scale='linear'):\n    fig=plt.figure(figsize=(14,14))\n    ax = fig.add_subplot(111,projection='3d',facecolor='None')\n    xcenter=1 # X<1% wt.% use log scale, if X>=1% wt.% NaCl, use linear scale\n    axtrans=[]\n    if(scale=='loglinear'):\n        axtrans=helpfunc.set_axis_diagram_3D_loglinearx(ax,xcenter=xcenter,ratio_log_lin=(1,1),zlim=(sw.pmin()/1E5,600),xMajor_loc_log=2,xMajor_loc_linear=10,xMinor_loc_linear=2,zMajor_loc=100,zMinor_loc=20,ylim=(90,820),xlim=(1E-14,100),xlabel='log$_{\\mathregular{10}}$(Wt.% NaCl)')\n    else:\n        helpfunc.set_axis_diagram_3D(ax,zlim=(sw.pmin()/1E5,600),zMajor_loc=100,zMinor_loc=20)\n    transform_X = lambda X : helpfunc.data2axis_loglin(axtrans,X) if(scale=='loglinear') else X\n    # plot VLH surface as reference\n    T = np.linspace(H2ONaCl.T_MIN_VLH, sw.Tmax_VLH(), 100)\n    P_vlh = np.array(sw.P_VLH(T))\n    # X_haliteLiquidus=np.array(sw.X_HaliteLiquidus(T,P))\n    Xl_vlh, Xv_vlh = np.array(sw.X_VLH(T,P_vlh))\n    # plot\n    n_log,n_linear=20,40\n    X = np.linspace(H2ONaCl.X_MIN, H2ONaCl.X_MAX, n_log+n_linear)\n    TT,XX = np.meshgrid(T, X)\n    PP = np.zeros_like(TT)\n    for i in range(0,PP.shape[0]):\n        PP[i,:]=P_vlh\n    # 1. vapor -> liquid region\n    for j in range(0,PP.shape[1]):\n        XX[:,j] = np.append(10**np.linspace(np.log10(Xv_vlh[j]),np.log10(xcenter/100),n_log), np.linspace(xcenter/100,Xl_vlh[j],n_linear))\n    xx_plot = transform_X(XX*100)\n    ax.plot_surface(xx_plot,TT-273.15,PP/1E5,color='w',alpha=0.5)\n    ax.plot_wireframe(xx_plot,TT-273.15,PP/1E5,ec='b',lw=0.8,label='VLH: V->L')\n    # 2. liquid -> halite region\n    for j in range(0,PP.shape[1]):\n        XX[:,j] = np.linspace(Xl_vlh[j], 1,len(X))\n    xx_plot = transform_X(XX*100)\n    ax.plot_surface(xx_plot,TT-273.15,PP/1E5,color='w',alpha=0.5)\n    ax.plot_wireframe(xx_plot,TT-273.15,PP/1E5,ec='orange',lw=0.8,label='VLH: L->H')\n    # 3. Halite saturated vapor in VH region\n    P = np.linspace(0,1,40)\n    TT,PP = np.meshgrid(T,P)\n    for i in range(0,len(T)):\n        PP[:,i] = np.linspace(sw.pmin(),P_vlh[i],len(P))\n    XX_VH = np.array(sw.X_VH(TT.reshape(-1,),PP.reshape(-1,)))\n    xx_plot = transform_X(XX_VH.reshape(TT.shape)*100)\n    ax.plot_surface(xx_plot,TT-273.15,PP/1E5,color='w',alpha=0.5)\n    ax.plot_wireframe(xx_plot,TT-273.15,PP/1E5,ec='purple',lw=0.8,label='VH: vapor')\n    # halite\n    ax.plot(transform_X(Xl_vlh*0+100), T-273.15, P_vlh/1E5, color='k',label='VLH: halite',lw=4)\n    # halite liquidus\n    ax.plot(transform_X(Xl_vlh*100), T-273.15, P_vlh/1E5, color='g',label='VLH: liquid',lw=4)\n    # upper pressure bound\n    ax.plot(transform_X(Xv_vlh*100), T-273.15, P_vlh/1E5, color='r',label='VLH: vapor',lw=4)\n    # lower pressure bound\n    Xv_pmin = np.array(sw.X_VH(T,T*0 + sw.pmin()))\n    ax.plot(transform_X(Xv_pmin*100), T-273.15, T*0+sw.pmin()/1E5, color='blue',label='VH: vapor (P=%.0f bar)'%(sw.pmin()/1E5),lw=4)\n    # plot several isotherm profile on X-p plane: Fig. 8a in Driesner(2007a)\n    for i,T0 in enumerate([300, 450, 500, 550, 650]):\n        P_ = np.linspace(sw.pmin(),sw.P_VLH(T0+273.15),100)\n        X_ = np.array(sw.X_VH(P_*0 + T0 + 273.15, P_))\n        l,=ax.plot(transform_X(X_*100), X_*0 + ax.get_ylim()[1], P_/1E5)\n        helpfunc.text3d(ax, (transform_X(10**(-13+1.2*i)),800,50+i*50), 'T=%.0f$^{\\circ}$C'%(T0),zdir='y',size=0.05, fc=l.get_color(), ec=\"None\",ha='left',va='bottom')\n        # # add line of VLH\n        # Xl_=sw.X_HaliteLiquidus(T0+273.15, P_[-1])\n        # ax.plot(np.log10(np.array([X_[-1],Xl_])*100),np.array([ax.get_ylim()[1]]*2),np.array([P_[-1]]*2)/1E5,color='b')\n        # ax.plot(np.log10(np.array([Xl_,1])*100),np.array([ax.get_ylim()[1]]*2),np.array([P_[-1]]*2)/1E5,color='orange')\n    # ax.plot(np.log10(Xv_vlh*100), T*0 + ax.get_ylim()[1], P_vlh/1E5, color='r',label='VLH: vapor',lw=1,ls='dashed')\n    # legend\n    leg=ax.legend()\n    # change legend handle of wireframe of phase boundaries to wireframe hatch\n    for i in [0,1,2]:\n        leg.legendHandles[i]=Patch(facecolor='white', edgecolor=leg.legendHandles[i]._color,linewidth=0.0,label=leg.texts[i]._text,hatch='++++')\n    ax.legend(handles=leg.legendHandles, loc='upper left',ncol=7)\n    # text\n    helpfunc.text3d(ax,(transform_X(1E-12),800,sw.pmin()/1E5),\"P$_{min}$=%.0f bar\"%(sw.pmin()/1E5),size=0.07,angle=-90,ec='None',fc='k')\n    ax.view_init(elev=25, azim=-145)\n    savefig('PhaseBoundary_VH_3D_%s'%(scale))"
      ]
    },
    {
      "cell_type": "markdown",
      "metadata": {},
      "source": [
        "## General 3D view: linear scale (left panel) and log-linear scale (right panel)\nThe VH surface connect to the Vapor side of VLH surface which can be calculated by function :code:`Xl_vlh, Xv_vlh = V_VLH(T, P)`\n\n"
      ]
    },
    {
      "cell_type": "code",
      "execution_count": null,
      "metadata": {
        "collapsed": false
      },
      "outputs": [],
      "source": [
        "plot_3d(sw_84,scale='linear')\nplot_3d(sw_84,scale='loglinear')"
      ]
    },
    {
      "cell_type": "markdown",
      "metadata": {},
      "source": [
        "## Benchmark comparison\nCompare halite saturated vapor composition of |xThermo| and :cite:`Driesner2007Part2`, and also compare result based on different EOS of water.\n\n"
      ]
    },
    {
      "cell_type": "code",
      "execution_count": null,
      "metadata": {
        "collapsed": false
      },
      "outputs": [],
      "source": [
        "def benchmark_VL(sw,mmc4='../Driesner2007a/1-s2.0-S0016703707002943-mmc4.txt'):\n    # compare\n    if(not os.path.exists(mmc4)):\n        print('Please set correct mmc4 file path: %s'%(mmc4))\n        exit()\n    T0,P0,X0=data=np.loadtxt(mmc4, skiprows=7,unpack=True)\n    XL0_wt= np.array(sw.Mol2Wt(X0))*100\n    # 1. calculate halite saturated vapor composition: XV_VH\n    X_ = np.array(sw.X_VH(T0+273.15,P0*1E5))\n    X_mol_ = np.array(sw.Wt2Mol(X_))\n    # compare result dict\n    Data0 = {'Xv':X0}\n    Data_ = {'Xv':X_mol_}\n    Err,RErr={},{}\n    for key in Data0.keys(): Err[key],RErr[key] = Data0[key]-Data_[key], np.abs(Data0[key]-Data_[key])/(Data0[key])*100.0\n    # print to file\n    fpout = open('%s/mmc4a_%s.csv'%(result_path,sw.name_backend()),'w')\n    fpout.write('T[C],P[bar],XV(Driesner)[mol],XV(xThermo)[mol],XV(diff)[mol]\\n')\n    for i in range(0,len(T0)):\n        fpout.write('%.6e,%.6e'%(T0[i]-273.15,P0[i]))\n        for key in Data0.keys():\n            fpout.write(',%.6e,%.6e,%.6e'%(Data0[key][i], Data_[key][i],compare(Data0[key][i],Data_[key][i])))\n        fpout.write('\\n')\n    fpout.close()\n    # plot data\n    fig=plt.figure(figsize=(8,8))\n    ax=plt.gca()\n    cmap,vmin,vmax='YlGnBu_r',sw.pmin()/1E5,H2ONaCl.P_Peak_VLH/1E5\n    CS=ax.scatter(X0,T0,c=P0,cmap=cmap,vmin=vmin,vmax=vmax,s=5)\n    ax_cb=ax.inset_axes([1.02,0,0.05,1])\n    plt.colorbar(CS,cax=ax_cb,label='Pressure (bar)')\n    # also plot VLH: vapor curve\n    T = np.linspace(H2ONaCl.T_MIN_VLH, sw.Tmax_VLH(), 100)\n    P_vlh = np.array(sw.P_VLH(T))\n    # X_haliteLiquidus=np.array(sw.X_HaliteLiquidus(T,P))\n    Xl_vlh, Xv_vlh = np.array(sw.X_VLH(T,P_vlh))\n    helpfunc.plot_coloredline(ax,np.array(sw.Wt2Mol(Xv_vlh)), T-273.15, P_vlh/1E5,cmap=cmap,vmin=vmin,vmax=vmax,lw=2)\n    XV_VH_pmin = np.array(sw.X_VH(T,T*0+sw.pmin()))\n    helpfunc.plot_coloredline(ax,np.array(sw.Wt2Mol(XV_VH_pmin)), T-273.15, T*0+sw.pmin()/1E5 ,cmap=cmap,vmin=vmin,vmax=vmax,lw=2)\n    ax.annotate(\"VLH: vapor\",ha='center',va='center', xy=(1E-6,320),xytext=(1E-6,150), bbox={'fc':'None','ec':'r'},fontsize=14,fontweight='bold', arrowprops=dict(arrowstyle=\"->\",connectionstyle=\"arc3\"),)\n    ax.annotate(\"Halite saturated vapor\\nat $P_{min}$=%.0f bar\"%(sw.pmin()/1E5),ha='center',va='top', xy=(2E-13,290),xytext=(2E-13,500), bbox={'fc':'None','ec':'b'},fontsize=14,fontweight='bold', arrowprops=dict(arrowstyle=\"->\",connectionstyle=\"arc3\"),)\n    ax.grid(lw=0.2,color='gray')\n    ax.set_ylim(H2ONaCl.T_MIN_VLH-273.15, H2ONaCl.T_MAX_VLH-273.15)\n    ax.set_xscale('log')\n    ax.set_ylabel('Temperature ($^{\\circ}$C)')\n    ax.set_xlabel('X$_{\\mathregular{NaCl}}$ (mole fraction)')\n\n    # savefig('mmc4a')\n    # statistics of the difference\n    table=[]\n    for key,name in zip(list(Err.keys()),['XV (mole fraction)']):\n        RErr[key] = RErr[key][~(np.isnan(RErr[key]) | np.isinf(RErr[key]))]\n        table.append([name,Err[key].min(),Err[key].max(),RErr[key].min(),RErr[key].max()])\n    print(tabulate(table, headers=['Critical property', 'Err. Min', 'Err. Max','RE. Min(%)','RE. Max(%)'],numalign=\"right\",floatfmt=\".6f\"))"
      ]
    },
    {
      "cell_type": "markdown",
      "metadata": {},
      "source": [
        "### Based on IAPS84 EOS\n\n"
      ]
    },
    {
      "cell_type": "code",
      "execution_count": null,
      "metadata": {
        "collapsed": false
      },
      "outputs": [],
      "source": [
        "benchmark_VL(sw_84)"
      ]
    },
    {
      "cell_type": "markdown",
      "metadata": {},
      "source": [
        "### Based on IAPWS95 EOS\n\n"
      ]
    },
    {
      "cell_type": "code",
      "execution_count": null,
      "metadata": {
        "collapsed": false
      },
      "outputs": [],
      "source": [
        "benchmark_VL(sw_95)"
      ]
    },
    {
      "cell_type": "markdown",
      "metadata": {},
      "source": [
        "## Result table\n.. seealso::\n\n    |mmc4| in :cite:`Driesner2007Part1` and Fig. 8 in :cite:`Driesner2007Part1`.\n\nResult data calculated by |xThermo| based on both water EOS of IAPS84 and IAPWS95.\n\n.. tab:: IAPS84\n\n    .. csv-table:: Comparison between result of :cite:`Driesner2007Part2` and result calculated by |xThermo|.\n        :file: mmc4a_IAPS84.csv\n        :header-rows: 1\n\n.. tab:: IAPWS95\n\n    .. csv-table:: Comparison between result of :cite:`Driesner2007Part2` and result calculated by |xThermo|.\n        :file: mmc4a_IAPWS95.csv\n        :header-rows: 1\n\n.. tip::\n\n    The help function for 3D plot can be downloaded at here: :download:`helpfunc.py`\n\n"
      ]
    },
    {
      "cell_type": "code",
      "execution_count": null,
      "metadata": {
        "collapsed": false
      },
      "outputs": [],
      "source": [
        "# This is the last cell"
      ]
    }
  ],
  "metadata": {
    "kernelspec": {
      "display_name": "Python 3",
      "language": "python",
      "name": "python3"
    },
    "language_info": {
      "codemirror_mode": {
        "name": "ipython",
        "version": 3
      },
      "file_extension": ".py",
      "mimetype": "text/x-python",
      "name": "python",
      "nbconvert_exporter": "python",
      "pygments_lexer": "ipython3",
      "version": "3.9.12"
    }
  },
  "nbformat": 4,
  "nbformat_minor": 0
}