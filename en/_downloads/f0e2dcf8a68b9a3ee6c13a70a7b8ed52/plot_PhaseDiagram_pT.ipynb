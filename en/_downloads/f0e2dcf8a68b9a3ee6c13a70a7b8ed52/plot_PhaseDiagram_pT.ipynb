{
  "cells": [
    {
      "cell_type": "code",
      "execution_count": null,
      "metadata": {
        "collapsed": false
      },
      "outputs": [],
      "source": [
        "# This cell is added by sphinx-gallery\n# It can be customized to whatever you like\n%matplotlib inline"
      ]
    },
    {
      "cell_type": "markdown",
      "metadata": {},
      "source": [
        "\n# 0. Phase diagram\n"
      ]
    },
    {
      "cell_type": "code",
      "execution_count": null,
      "metadata": {
        "collapsed": false
      },
      "outputs": [],
      "source": [
        "# Some python packages for data visualization\nimport numpy as np \nimport time\nimport copy\nimport matplotlib.pyplot as plt\nimport matplotlib as mpl\nfrom matplotlib import patches\nimport matplotlib.ticker as ticker\nfrom matplotlib.ticker import MultipleLocator\nmpl.rcParams['font.family'] = 'Arial'  #default font family\nmpl.rcParams['mathtext.fontset'] = 'cm' #font for math\ndpi=100\nfmt_figs=['pdf'] #['svg','pdf']\nresult_path='.'\nfigpath=result_path\ndef savefig(figname):\n    for fmt_fig in fmt_figs:\n        figname_full = '%s/%s.%s'%(figpath,figname,fmt_fig)\n        plt.savefig(figname_full, bbox_inches='tight')\n        print('figure saved: ',figname_full)\n\n# Import package of xThermo\nfrom xThermo import H2O\niaps84 = H2O.cIAPS84()\niapws95_CoolProp = H2O.cIAPWS95_CoolProp()\niapws95 = H2O.cIAPWS95()\n\n# Calculate\ndef cal_phase(water):\n    T = np.linspace(water.Tmin(),water.T_critical(),100)\n    p = np.zeros_like(T)\n    for i in range(0,len(T)): p[i] = water.Boiling_p(T[i])\n    # calculate phase index\n    TT, pp = np.meshgrid(np.linspace(0.1,600, 100), np.linspace(1, 400, 100))\n    phase = np.zeros_like(TT)\n    for i in range(0,TT.shape[0]):\n        for j in range(0,TT.shape[1]):\n            props=water.UpdateState_TPX(TT[i][j]+273.15, pp[i][j]*1E5)\n            phase[i][j]=props.phase\n    phase_unique = np.sort(np.unique(phase))\n    phase_name = ['']*len(phase_unique)\n    for i,phase0 in enumerate(phase_unique): \n        phase[phase==phase0]=i+phase_unique.max()+10\n        phase_name[i]=water.phase_name(int(phase0))\n    return T,p,TT,pp,phase,phase_name\n\n# Plot both linear and log scale\ndef phaseDiagram(water, axes=None):\n    T,p,TT,pp,phase,phase_name = cal_phase(water)\n    if(axes==None): \n        fig,axes=plt.subplots(1,2,figsize=(15,7),gridspec_kw={'wspace':0.02},dpi=dpi)\n    \n    axes[0].set_ylabel('Pressure (bar)')\n    axes[1].set_yscale('log')\n    \n    # plot\n    cmap = plt.get_cmap(\"Dark2\")\n    # customize cmap\n    colors=list(copy.deepcopy(cmap.colors))\n    colors[0:8]=['lightblue','red','lightgreen','lightgray','violet','yellow','lightcyan','lightcyan']\n    cmap.colors=tuple(colors)\n    for ax in axes:\n        ax.set_ylim(pp.min(),pp.max())\n        ax.set_xlim(TT.min(),TT.max())\n        ax.text(0.98,0.98,water.name(),ha='right',va='top',bbox={'fc':'w','ec':'gray'}, transform=ax.transAxes)\n        ax.set_xlabel('Temperature ($^{\\circ}$C)')\n        ax.plot(T-273.15, p/1E5, label='Boiling curve')\n        ax.plot(water.T_critical()-273.15, water.p_critical()/1E5,'o',mfc='r',mec='w',label='Critical point')\n        if(ax==axes[0]): \n            CS=ax.contourf(TT,pp,phase, cmap=cmap,vmin=phase.min()-0.5, vmax=phase.max()+0.5, levels=np.linspace(phase.min()-0.5,phase.max()+0.5,len(phase_name)+1))\n            ax_cb = ax.inset_axes([0,1.03,2,0.05])\n            cb=plt.colorbar(CS, cax=ax_cb, orientation='horizontal',ticklocation='top',ticks=np.arange(phase.min(),phase.max()+1))\n            cb.ax.set_xticklabels(phase_name)\n        if(ax==axes[1]):\n            ax.yaxis.set_ticks_position('right')\n            ax.xaxis.set_minor_locator(MultipleLocator(20))\n            ax.grid(which='major',color='gray')\n            ax.grid(which='minor',color='lightgray')\n        ax.legend(loc='lower right')\n    savefig('phase_%s'%(water.name()))"
      ]
    },
    {
      "cell_type": "markdown",
      "metadata": {},
      "source": [
        "## IAPS84 Phase diagram\n\n"
      ]
    },
    {
      "cell_type": "code",
      "execution_count": null,
      "metadata": {
        "collapsed": false
      },
      "outputs": [],
      "source": [
        "phaseDiagram(iaps84)"
      ]
    },
    {
      "cell_type": "markdown",
      "metadata": {},
      "source": [
        "## IAPWS95 Phase diagram: build in xThermo\n\n"
      ]
    },
    {
      "cell_type": "code",
      "execution_count": null,
      "metadata": {
        "collapsed": false
      },
      "outputs": [],
      "source": [
        "phaseDiagram(iapws95)"
      ]
    },
    {
      "cell_type": "markdown",
      "metadata": {},
      "source": [
        "## IAPWS95 Phase diagram: CoolProp\n\n"
      ]
    },
    {
      "cell_type": "code",
      "execution_count": null,
      "metadata": {
        "collapsed": false
      },
      "outputs": [],
      "source": [
        "phaseDiagram(iapws95_CoolProp)"
      ]
    },
    {
      "cell_type": "markdown",
      "metadata": {},
      "source": [
        "## Comparison: saturated properties\n\n"
      ]
    },
    {
      "cell_type": "code",
      "execution_count": null,
      "metadata": {
        "collapsed": false
      },
      "outputs": [],
      "source": [
        "def cal_props_sat(water, T):\n    # T = np.linspace(water.Tmin(),water.T_critical(), 100)\n    props={'p':[],'Rho_l':[],'Rho_v':[]}\n    for i in range(0,len(T)):\n        prop = water.Boiling_p_props(T[i])\n        props['p'].append(prop.p)\n        props['Rho_l'].append(prop.Rho_l)\n        props['Rho_v'].append(prop.Rho_v)\n    for key in props.keys(): props[key]=np.array(props[key])\n    return props\ndef plot_comparison():\n    T = np.linspace(273.5,iapws95.T_critical(), 100)\n    props_84 = cal_props_sat(iaps84,T)\n    props_95 = cal_props_sat(iapws95,T)\n\n    fig,axes = plt.subplots(1,2,figsize=(15,7),gridspec_kw={'wspace':0.02})\n    # liquid \n    ax = axes[0]\n    diff = props_84['p'] - props_95['p']\n    ax.plot(T-273.15, diff,marker='.')\n    ax.set_ylabel('Saturated pressure (Pa): %s - %s'%(iaps84.name(),iapws95.name()))\n    ax.set_xlabel('Temperature ($^{\\circ}$C)')\n\n    ax = axes[1]\n    diff_l = props_84['Rho_l'] - props_95['Rho_l']\n    diff_v = props_84['Rho_v'] - props_95['Rho_v']\n    ax.plot(T-273.15, diff_l, label='Liquid',marker='.')\n    ax.plot(T-273.15, diff_v, label='Vapor',marker='.')\n    ax.legend()\n    ax.yaxis.set_ticks_position('right')\n    ax.yaxis.set_label_position('right')\n    ax.set_ylabel('Saturated density (kg/m^3): %s - %s'%(iaps84.name(),iapws95.name()))\n    ax.set_xlabel('Temperature ($^{\\circ}$C)')\n\n    savefig('diff_sat')\n\nplot_comparison()"
      ]
    },
    {
      "cell_type": "code",
      "execution_count": null,
      "metadata": {
        "collapsed": false
      },
      "outputs": [],
      "source": [
        "# This is the last cell"
      ]
    }
  ],
  "metadata": {
    "kernelspec": {
      "display_name": "Python 3",
      "language": "python",
      "name": "python3"
    },
    "language_info": {
      "codemirror_mode": {
        "name": "ipython",
        "version": 3
      },
      "file_extension": ".py",
      "mimetype": "text/x-python",
      "name": "python",
      "nbconvert_exporter": "python",
      "pygments_lexer": "ipython3",
      "version": "3.9.12"
    }
  },
  "nbformat": 4,
  "nbformat_minor": 0
}