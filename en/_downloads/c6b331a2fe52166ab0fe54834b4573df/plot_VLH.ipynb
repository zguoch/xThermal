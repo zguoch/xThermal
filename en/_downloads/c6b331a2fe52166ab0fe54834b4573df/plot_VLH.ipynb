{
  "cells": [
    {
      "cell_type": "code",
      "execution_count": null,
      "metadata": {
        "collapsed": false
      },
      "outputs": [],
      "source": [
        "# This cell is added by sphinx-gallery\n# It can be customized to whatever you like\n%matplotlib inline"
      ]
    },
    {
      "cell_type": "markdown",
      "metadata": {},
      "source": [
        "\n# 3. Vapor + Liquid + Halite coexistence surface\n.. include:: /include.rst_\nCalculate VLH surface and properties, and compare result with :cite:`Driesner2007Part2`.\n"
      ]
    },
    {
      "cell_type": "code",
      "execution_count": null,
      "metadata": {
        "collapsed": false
      },
      "outputs": [],
      "source": [
        "import os\nimport numpy as np\nimport time\nimport linecache\nimport matplotlib.pyplot as plt\nimport matplotlib as mpl\nfrom matplotlib import patches\nimport matplotlib.ticker as ticker\nfrom matplotlib.patches import Patch\nfrom matplotlib.ticker import MultipleLocator\nfrom tabulate import tabulate\nimport copy\nimport warnings\nwarnings.filterwarnings(\"ignore\", category=RuntimeWarning)\n# 3d plot\nimport helpfunc\nmpl.rcParams['font.family'] = 'Arial'  # default font family\nmpl.rcParams['mathtext.fontset'] = 'cm'  # font for math\nfmt_figs = []  # ['svg','pdf']\nfigpath = '.'\nresult_path='../../../gallery_H2ONaCl/pT'\ndef savefig(figname):\n    for fmt_fig in fmt_figs:\n        figname_full = '%s/%s.%s' % (figpath, figname, fmt_fig)\n        plt.savefig(figname_full, bbox_inches='tight')\n        print('figure saved: ', figname_full)\ncompare = lambda a,b : float(str('%.6e'%(a)))-float(str('%.6e'%(b)))\n# Import package of xThermo\nfrom xThermo import H2O\nfrom xThermo import NaCl\nfrom xThermo import H2ONaCl\nsw_84 = H2ONaCl.cH2ONaCl(\"IAPS84\")\nsw_95 = H2ONaCl.cH2ONaCl(\"IAPWS95\")\n\ndef plot_3d(sw,scale='linear'):\n    fig=plt.figure(figsize=(14,14))\n    ax = fig.add_subplot(111,projection='3d',facecolor='None')\n    xcenter=1 # X<1% wt.% use log scale, if X>=1% wt.% NaCl, use linear scale\n    axtrans=[]\n    if(scale=='loglinear'):\n        axtrans=helpfunc.set_axis_diagram_3D_loglinearx(ax,xcenter=xcenter,ratio_log_lin=(1,1),zlim=(sw.pmin()/1E5,600),xMajor_loc_log=1,xMajor_loc_linear=10,xMinor_loc_linear=2,zMajor_loc=100,zMinor_loc=20,yMajor_loc=200,xlim=(1E-10,100),xlabel='log$_{\\mathregular{10}}$(Wt.% NaCl)')\n    else:\n        helpfunc.set_axis_diagram_3D(ax,zlim=(sw.pmin()/1E5,600),zMajor_loc=100,zMinor_loc=20)\n    transform_X = lambda X : helpfunc.data2axis_loglin(axtrans,X) if(scale=='loglinear') else X\n    # calculate boundary surface of VLH\n    T = np.append(np.linspace(H2ONaCl.T_MIN_VLH, sw.Tmax_VLH()-10, 100), np.linspace(sw.Tmax_VLH()-10, sw.Tmax_VLH(), 50))\n    P_vlh = np.array(sw.P_VLH(T))\n    Xl_vlh, Xv_vlh = np.array(sw.X_VLH(T,P_vlh))\n    # plot\n    n_log,n_linear=20,40\n    X = np.linspace(H2ONaCl.X_MIN, H2ONaCl.X_MAX, n_log+n_linear)\n    TT,XX = np.meshgrid(T, X)\n    PP = np.zeros_like(TT)\n    for i in range(0,PP.shape[0]):\n        PP[i,:]=P_vlh\n    # 1. vapor -> liquid region\n    for j in range(0,PP.shape[1]):\n        XX[:,j] = np.append(10**np.linspace(np.log10(Xv_vlh[j]),np.log10(xcenter/100),n_log), np.linspace(xcenter/100,Xl_vlh[j],n_linear))\n    ax.plot_wireframe(transform_X(XX*100),TT-273.15,PP/1E5, color='darkblue',lw=1,label='V+L+H: vapor->liquid')\n    # ax.plot_surface(transform_X(XX*100),TT-273.15,PP/1E5,ec='gray',linewidth=0.1)\n    # 2. liquid -> halite region\n    for j in range(0,PP.shape[1]):\n        XX[:,j] = np.linspace(Xl_vlh[j], 1,len(X))\n    ax.plot_wireframe(transform_X(XX*100),TT-273.15,PP/1E5, color='orange',lw=1,label='V+L+H: liquid->halite')\n    # ax.plot_surface(transform_X((XX*100)),TT-273.15,PP/1E5,ec='gray',linewidth=0.1)\n    # ax.plot(X_haliteLiquidus*100, T-273.15, P/1E5,color='orange',label='V+L+H: liquid',lw=1,zorder=10)\n    # VLH: halite\n    ax.plot(transform_X(Xl_vlh*0+100), T-273.15, P_vlh/1E5, color='k',label='VLH: halite',lw=2)\n    # VLH: liquid\n    ax.plot(transform_X(Xl_vlh*100), T-273.15, P_vlh/1E5, color='g',label='VLH: liquid',lw=2)\n    # VLH: vapor\n    ax.plot(transform_X(Xv_vlh*100), T-273.15, P_vlh/1E5, color='r',label='VLH: vapor',lw=2,zorder=11)\n    # project halite saturated vapor on X-T plane\n    ax.plot(transform_X(Xv_vlh*100), T-273.15, T*0+sw.pmin()/1E5, color='r',label='Fig.11 of Driesner & Heinrich(2007)',ls=(0,(2,1)),lw=2)\n    leg=ax.legend()\n    # change legend handle of wireframe of phase boundaries to wireframe hatch\n    for i in [0,1]:\n        leg.legendHandles[i]=Patch(facecolor='white', edgecolor=leg.legendHandles[i]._color,linewidth=0.0,label=leg.texts[i]._text,hatch='++++')\n    ax.legend(handles=leg.legendHandles, loc='upper left',ncol=7)\n    # text\n    helpfunc.text3d(ax,(transform_X(1E-8),800,sw.pmin()/1E5),\"P$_{min}$=%.0f bar\"%(sw.pmin()/1E5),size=0.07,angle=-90,ec='None',fc='k')\n    savefig('PhaseBoundary_VLH_3D_%s'%(scale))"
      ]
    },
    {
      "cell_type": "markdown",
      "metadata": {},
      "source": [
        "## General 3D view\n\n"
      ]
    },
    {
      "cell_type": "code",
      "execution_count": null,
      "metadata": {
        "collapsed": false
      },
      "outputs": [],
      "source": [
        "plot_3d(sw_84,scale='linear')\nplot_3d(sw_84,scale='loglinear')"
      ]
    },
    {
      "cell_type": "markdown",
      "metadata": {},
      "source": [
        "## Benchmark comparison\nCompare result of |xThermo| and :cite:`Driesner2007Part2`, and also compare result based on different EOS of water.\n\n"
      ]
    },
    {
      "cell_type": "code",
      "execution_count": null,
      "metadata": {
        "collapsed": false
      },
      "outputs": [],
      "source": [
        "def contourf_phase(ax,TT,pp,phase,phase_name,ax_cb=None):\n    cmap = plt.get_cmap(\"Dark2\")\n    # customize cmap\n    colors=list(copy.deepcopy(cmap.colors))\n    colors[0:8]=['lightblue','red','lightgreen','lightgray','violet','yellow','lightcyan','lightcyan']\n    cmap.colors=tuple(colors)\n    CS=ax.contourf(TT,pp,phase, cmap=cmap,vmin=phase.min()-0.5, vmax=phase.max()+0.5, levels=np.linspace(phase.min()-0.5,phase.max()+0.5,len(phase_name)+1))\n    if(ax_cb is None): ax_cb = ax.inset_axes([0,1.03,1,0.05])\n    cb=plt.colorbar(CS, cax=ax_cb, orientation='horizontal',ticklocation='top',ticks=np.arange(phase.min(),phase.max()+1))\n    cb.ax.set_xticklabels(phase_name)\n    return CS,ax_cb,cb\ndef plot_props_VLH(sw,water,mmc5='../Driesner2007a/1-s2.0-S0016703707002943-mmc5.txt',mmc3='../Driesner2007b/1-s2.0-S0016703707002955-mmc3.txt'):\n    if(not os.path.exists(mmc5)):\n        print('Please set correct mmc1 file path: %s'%(mmc5))\n        exit()\n    data=np.loadtxt(mmc5, skiprows=7)\n    T0_5,P0_5,XV0_5,XL0_5=data[:,0]+273.15,data[:,1]*1E5,data[:,2],data[:,3]\n    if(not os.path.exists(mmc3)):\n        print('Please set correct mmc1 file path: %s'%(mmc3))\n        exit()\n    data=np.loadtxt(mmc3, skiprows=5)\n    T0,P0,XV0,rhoV0,hV0,XL0,rhoL0,hL0=data[:,0]+273.15,data[:,1]*1E5,data[:,2],data[:,3],data[:,4],data[:,5],data[:,6],data[:,7]\n    # calculate\n    T = np.linspace(H2ONaCl.T_MIN_VLH, H2ONaCl.T_MAX_VLH, 500)\n    P = np.array(sw.P_VLH(T))\n    # X_haliteLiquidus=np.array(sw.X_HaliteLiquidus(T,P))\n    XL_,XV_ = np.array(sw.X_VLH(T,P))\n    rhoV_, rhoL_ = np.array(sw.Rho_phase(T, P, XV_, H2ONaCl.Vapor)), np.array(sw.Rho_phase(T, P, XL_, H2ONaCl.Liquid))\n    hV_, hL_     = np.array(sw.H_phase(T, P, XV_, H2ONaCl.Vapor)), np.array(sw.H_phase(T, P, XL_, H2ONaCl.Liquid))\n\n    # plot\n    fig,axes = plt.subplots(1,6,figsize=(30,4),gridspec_kw={'wspace':0.1},sharey=False)\n    # 1. liquid salinity\n    ax=axes[0]\n    line=helpfunc.plot_coloredline(ax,np.array(sw.Wt2Mol(XL_)), T-273.15, P/1E5,cmap='rainbow')\n    ax_cb = ax.inset_axes([0.8,0.15,0.02,0.6])\n    fig.colorbar(line,cax = ax_cb,label='Pressure (bar)')\n    ax.plot(XL0_5, T0_5-273.15,color='gray',ls='dashed', marker='.',markersize=5,mec='w',mfc='k',markeredgewidth=0.3,label='Driesner & Heinrich(2007)')\n    ax.xaxis.set_major_locator(MultipleLocator(0.2))\n    ax.xaxis.set_minor_locator(MultipleLocator(0.04))\n    ax.set_xlabel('Liquid composition X$_{\\mathregular{NaCl}}$ (mole fraction)')\n    # 2. vapor salinity\n    ax=axes[1]\n    helpfunc.plot_coloredline(ax,np.array(sw.Wt2Mol(XV_)), T-273.15, P/1E5,cmap='rainbow')\n    ax.set_xscale('log')\n    ax.plot(XV0_5, T0_5-273.15,color='gray',ls='dashed', marker='.',markersize=5,mec='w',mfc='k',markeredgewidth=0.3,label='Driesner & Heinrich(2007)')\n    ax.set_xlabel('Vapor composition X$_{\\mathregular{NaCl}}$ (mole fraction)')\n    # 3. liquid density\n    ax=axes[2]\n    helpfunc.plot_coloredline(ax,rhoL_, T-273.15, P/1E5,cmap='rainbow')\n    ax.plot(rhoL0, T0-273.15,color='gray',ls='dashed', marker='.',markersize=5,mec='w',mfc='k',markeredgewidth=0.3,label='Driesner(2007)')\n    ax.xaxis.set_major_locator(MultipleLocator(100))\n    ax.xaxis.set_minor_locator(MultipleLocator(20))\n    ax.set_xlabel('Liquid density (kg/m$^{\\mathregular{3}}$)')\n    # 4. Vapor density\n    ax=axes[3]\n    helpfunc.plot_coloredline(ax,rhoV_, T-273.15, P/1E5,cmap='rainbow')\n    ax.plot(rhoV0, T0-273.15,color='gray',ls='dashed', marker='.',markersize=5,mec='w',mfc='k',markeredgewidth=0.3,label='Driesner(2007)')\n    ax.xaxis.set_major_locator(MultipleLocator(20))\n    ax.xaxis.set_minor_locator(MultipleLocator(4))\n    ax.set_xlabel('Vapor density (kg/m$^{\\mathregular{3}}$)')\n    # 5. liquid enthalpy\n    ax=axes[4]\n    helpfunc.plot_coloredline(ax,hL_/1E6, T-273.15, P/1E5,cmap='rainbow')\n    ax.plot(hL_/1E6, T-273.15,'.')\n    ax.plot(hL0/1E6, T0-273.15,color='gray',ls='dashed', marker='.',markersize=5,mec='w',mfc='k',markeredgewidth=0.3,label='Driesner(2007)')\n    ax.xaxis.set_major_locator(MultipleLocator(0.5))\n    ax.xaxis.set_minor_locator(MultipleLocator(0.1))\n    ax.set_xlabel('Liquid enthalpy (MJ/kg)')\n    # 6. vapor enthalpy\n    ax=axes[5]\n    helpfunc.plot_coloredline(ax,hV_/1E6, T-273.15, P/1E5,cmap='rainbow')\n    ax.plot(hV0/1E6, T0-273.15,color='gray',ls='dashed', marker='.',markersize=5,mec='w',mfc='k',markeredgewidth=0.3,label='Driesner(2007)')\n    ax.xaxis.set_major_locator(MultipleLocator(0.5))\n    ax.xaxis.set_minor_locator(MultipleLocator(0.1))\n    ax.set_xlabel('Vapor enthalpy (MJ/kg)')\n\n    for ax in axes:\n        ax.yaxis.set_major_locator(MultipleLocator(100))\n        ax.yaxis.set_minor_locator(MultipleLocator(20))\n        ax.grid(which='major',lw=0.04,color='k')\n        ax.grid(which='minor',lw=0.04,color='gray')\n        ax.axhline(H2ONaCl.T_MIN_VLH-273.15,label='T=%.2f $^{\\circ}$C, p=1 bar'%(H2ONaCl.T_MIN_VLH-273.15),color='r',ls='dotted')\n        ax.legend()\n        # ax.set_ylim(300,T.max()-273.15 + 20)\n    axes[0].set_ylabel('Temperature ($^{\\circ}$C)')\n    savefig('VLH_props_%s'%(sw.name_backend()))\n\n    # let's checkout what happens in the (low T, low p) and (high T, low p) region for the liquid enthalpy\n    q1,q2 = np.array(sw.q1q2_Tstar_H(P, XL_))\n    q1_v,q2_v = np.array(sw.q1q2_Tstar_H(P, XV_))\n    Tstar_H,Tstar_H_v = q1 + q2*(T-273.15) + 273.15, q1_v + q2_v*(T-273.15) + 273.15\n    n1,n2 = np.array(sw.n1n2_Tstar_V(P, XL_))\n    n1_v,n2_v = np.array(sw.n1n2_Tstar_V(P, XV_))\n    Tstar_V,Tstar_V_v = n1 + n2*(T-273.15) + 273.15, n1_v + n2_v*(T-273.15) + 273.15\n    T_water,p_water=np.linspace(np.array([T.min(),Tstar_H.min(),Tstar_H_v.min(),Tstar_V.min(),Tstar_V_v.min()]).min(),np.array([T.max(),Tstar_H.max(),Tstar_H_v.max(),Tstar_V.max(),Tstar_V_v.max()]).max()+100,1000), np.linspace(np.log10(P.min()),np.log10(P.max())+0.1,500)\n    TT,pp=np.meshgrid(T_water,10**p_water)\n    phase,rho,h = np.zeros_like(TT),np.zeros_like(TT),np.zeros_like(TT)\n    for i in range(0,TT.shape[0]):\n        for j in range(0,TT.shape[1]):\n            props = water.UpdateState_TPX(TT[i][j], pp[i][j])\n            phase[i][j]=props.phase\n            rho[i][j]=props.Rho\n            h[i][j]=props.H\n    # get phase names\n    phase_unique = np.sort(np.unique(phase))\n    phase_name = ['']*len(phase_unique)\n    for i,phase0 in enumerate(phase_unique):\n        phase[phase==phase0]=i+phase_unique.max()+10\n        phase_name[i]=water.phase_name(int(phase0))\n    fig,axes=plt.subplots(1,3,figsize=(21,5),gridspec_kw={'wspace':0.05},sharey=True)\n    axes[0].set_ylabel('Pressure (bar)')\n    l_L,l_V=[],[]\n    for ax,prop, cmap,label in zip(axes, [phase, rho, h/1E6],['Paired','YlGnBu_r','RdBu'],['Phase','Density (kg/m$^{\\mathregular{3}}$)','Specific enthalpy (MJ/kg)']):\n        CS=[]\n        if(ax==axes[0]):\n            CS,ax_cb,cb=contourf_phase(ax,TT-273.15,pp/1E5,prop,phase_name,ax.inset_axes([0,1.03,1,0.03]))\n        else:\n            CS=ax.contourf(TT-273.15,pp/1E5,prop,levels=50,cmap=cmap)\n            ax_cb=ax.inset_axes([0,1.02,1,0.03])\n            plt.colorbar(CS,cax=ax_cb,label=label,orientation='horizontal')\n            ax_cb.xaxis.set_label_position('top')\n            ax_cb.xaxis.set_ticks_position('top')\n        l_L,=ax.plot(Tstar_H-273.15, P/1E5,lw=2,label='$T^*_h$: liquid')\n        l_V,=ax.plot(Tstar_H_v-273.15, P/1E5,lw=2,label='$T^*_h$: vapor')\n        ax.plot(Tstar_V-273.15, P/1E5,lw=2,ls='dashed',label='$T^*_V$: liquid')\n        ax.plot(Tstar_V_v-273.15, P/1E5,lw=2,ls='dashed',label='$T^*_V$: vapor')\n        ax.plot(T-273.15, P/1E5,lw=0.8,marker='.',markevery=20,mec='w',mew=0.5,ms=10,label='$T_{VLH}$')\n        ax.set_yscale('log')\n        ax.set_xscale('log')\n        ax.set_xlabel('Temperature ($^{\\circ}$C)')\n    axes[0].legend(loc='center left') #,bbox_to_anchor=[1.01,0]\n    # x0,y0=Tstar_H[int(len(Tstar_H)/4)]-273.15,P[int(len(Tstar_H)/4)]/1E5\n    # axes[0].annotate(\"$T^{*}_h - p$ path of\\nsaturated liquid phase\\non VLH coexistence\",\n    #                     xy=(x0,y0),xytext=(x0-100,y0), ha='right',va='center',bbox={'fc':'None','ec':l_L.get_color()},fontsize=14,fontweight='bold',\n    #                     arrowprops=dict(arrowstyle=\"->\",connectionstyle=\"arc3\"),)\n    # x0,y0=Tstar_H_v[int(len(Tstar_H)/5)]-273.15,P[int(len(Tstar_H)/5)]/1E5\n    # axes[0].annotate(\"$T^{*}_h - p$ path of\\nsaturated vapor phase\\non VLH coexistence\",\n    #                  xy=(x0,y0),xytext=(x0,y0/100), ha='center',va='center',bbox={'fc':'None','ec':l_V.get_color()},fontsize=14,fontweight='bold',\n    #                  arrowprops=dict(arrowstyle=\"->\",connectionstyle=\"arc3\"),)\n    savefig('Tstar_VLH_%s'%(sw.name_backend()))\ndef mscatter(ax,x,y, m=None, **kw):\n    import matplotlib.markers as mmarkers\n    if not ax: ax=plt.gca()\n    sc = ax.scatter(x,y,**kw)\n    if (m is not None) and (len(m)==len(x)):\n        paths = []\n        for marker in m:\n            if isinstance(marker, mmarkers.MarkerStyle):\n                marker_obj = marker\n            else:\n                marker_obj = mmarkers.MarkerStyle(marker)\n            path = marker_obj.get_path().transformed(\n                marker_obj.get_transform())\n            paths.append(path)\n        sc.set_paths(paths)\n    return sc\ndef plot_err(ax,x,y,data,label='',cmap='rainbow',markers_VL=None,scale_data='log',vmin=1E-6,vmax=1):\n    # plot difference between xThermo and Driesner(2007b)\n    norm = None\n    if(scale_data=='log'):\n        norm = mpl.colors.LogNorm(vmin=vmin, vmax=vmax)\n    else:\n        norm = mpl.colors.CenteredNorm(vcenter=1)\n        cmap = 'seismic'\n    CS=mscatter(ax, x, y,c=data,m=markers_VL,cmap=cmap,norm=norm,zorder=3)\n    ax_cb=ax.inset_axes([0,1.02,1,0.05])\n    plt.colorbar(CS,cax=ax_cb,label=label,orientation='horizontal',extend='both')\n    ax_cb.xaxis.set_label_position('top')\n    ax_cb.xaxis.set_ticks_position('top')\n    if(markers_VL is not None):\n        ax.set_xlim(ax.get_xlim())\n        ax.set_ylim(ax.get_ylim())\n        ax.plot(-1,-1,markers_VL[0],label='Vapor')\n        ax.plot(-1,-1,markers_VL[-1],label='Liquid')\n        ax.legend(ncol=2)\ndef benchmark_VLH(sw,mmc3='../Driesner2007b/1-s2.0-S0016703707002955-mmc3.txt'):\n    # compare\n    if(not os.path.exists(mmc3)):\n        print('Please set correct mmc1 file path: %s'%(mmc3))\n        exit()\n    data=np.loadtxt(mmc3, skiprows=5)\n    T0,P0,XV0,rhoV0,hV0,XL0,rhoL0,hL0=data[:,0]+273.15,data[:,1]*1E5,data[:,2],data[:,3],data[:,4],data[:,5],data[:,6],data[:,7]\n    ind=(T0>sw.Tmin_VLH())\n    # only compare the result in valid range of pressure: >1bar\n    T0,P0,XV0,rhoV0,hV0,XL0,rhoL0,hL0 = T0[ind],P0[ind],XV0[ind],rhoV0[ind],hV0[ind],XL0[ind],rhoL0[ind],hL0[ind]\n    # 1. calculate halite liquidus\n    P_=np.array(sw.P_VLH(T0))\n    XL_,XV_ = np.array(sw.X_VLH(T0,P_))\n    XL_mol_,XV_mol_ = np.array(sw.Wt2Mol(XL_)), np.array(sw.Wt2Mol(XV_))\n    # 2. calculate saturated liquid density and vapor density\n    rhoV_, rhoL_ = np.array(sw.Rho_phase(T0, P_, XV_, H2ONaCl.Vapor)), np.array(sw.Rho_phase(T0, P_, XL_, H2ONaCl.Liquid))\n    hV_, hL_     = np.array(sw.H_phase(T0, P_, XV_, H2ONaCl.Vapor)), np.array(sw.H_phase(T0, P_, XL_, H2ONaCl.Liquid))\n    # compare result dict\n    Data0 = {'p':P0/1E5,'XV':XV0,'rhoV':rhoV0,'hV':hV0,'XL':XL0,'rhoL':rhoL0,'hL':hL0}\n    Data_ = {'p':P_/1E5,'XV':XV_mol_,'rhoV':rhoV_,'hV':hV_,'XL':XL_mol_,'rhoL':rhoL_,'hL':hL_}\n    Err,RErr={},{}\n    for key in Data0.keys(): Err[key],RErr[key] = Data0[key]-Data_[key], np.abs(Data0[key]-Data_[key])/(Data0[key])*100.0\n    # print to file\n    fpout = open('%s/mmc3_%s.csv'%(result_path,sw.name_backend()),'w')\n    fpout.write('T[C],P(Driesner)[bar],P(xThermo),P(diff)[bar],XV(Driesner)[mol],XV(xThermo)[mol],XV(diff)[mol],RhoV(Driesner)[kg/m3],RhoV(xThermo),RhoV(err),HV(Driesner)[J/kg],HV(xThermo),HV(err),XL(Driesner)[mol],XL(xThermo)[mol],XL(diff)[mol],RhoL(Driesner)[kg/m3],RhoL(xThermo),RhoL(err),HL(Driesner)[J/kg],HL(xThermo),HL(err)\\n')\n    for i in range(0,len(T0)):\n        fpout.write('%.6e'%(T0[i]-273.15))\n        for key in Data0.keys():\n            fpout.write(',%.6e,%.6e,%.6e'%(Data0[key][i], Data_[key][i],compare(Data0[key][i],Data_[key][i])))\n        fpout.write('\\n')\n    fpout.close()\n    # plot difference\n    offset_p = -100\n    fig,axes=plt.subplots(1,4,figsize=(21,5),sharey=True,gridspec_kw={'wspace':0.1})\n    plot_err(axes[0], T0, P0/1E5, RErr['p'],'Relative difference: Pressure (%)')\n    markers=np.repeat([\"o\", \"*\"], len(T0))\n    plot_err(axes[1], np.append(T0,T0), np.append(P0/1E5,P0/1E5+offset_p), np.append(RErr['XV'],RErr['XL']),'Relative difference: Composition (%)',markers_VL=markers)\n    plot_err(axes[2], np.append(T0,T0), np.append(P0/1E5,P0/1E5+offset_p), np.append(RErr['rhoV'],RErr['rhoL']),'Relative difference: Density (%)',markers_VL=markers)\n    plot_err(axes[3], np.append(T0,T0), np.append(P0/1E5,P0/1E5+offset_p), np.append(RErr['hV'],RErr['hL']),'Relative difference: Specific enthalpy (%)',markers_VL=markers)\n    for ax in axes:\n        ax.yaxis.set_major_locator(MultipleLocator(100))\n        ax.yaxis.set_minor_locator(MultipleLocator(20))\n        ax.xaxis.set_major_locator(MultipleLocator(100))\n        ax.xaxis.set_minor_locator(MultipleLocator(20))\n        ax.grid(which='major',lw=0.04,color='k')\n        ax.grid(which='minor',lw=0.04,color='gray')\n        ax.set_xlabel('Temperature ($^{\\circ}$C)')\n    axes[0].set_ylabel('Pressure (bar)')\n    savefig('diff_VLH')\n    # statistics of the difference\n    table=[]\n    for key,name in zip(list(Err.keys()),['Pressure (bar)','XV (mole fraction)','RhoV (kg/m3)','HV (J/kg)','XL (mole fraction)','RhoL (kg/m3)','HL (J/kg)']):\n        RErr[key] = RErr[key][~(np.isnan(RErr[key]) | np.isinf(RErr[key]))]\n        table.append([name,Err[key].min(),Err[key].max(),RErr[key].min(),RErr[key].max()])\n    print(tabulate(table, headers=['Critical property', 'Err. Min', 'Err. Max','RE. Min(%)','RE. Max(%)'],numalign=\"right\",floatfmt=\".6f\"))"
      ]
    },
    {
      "cell_type": "markdown",
      "metadata": {},
      "source": [
        "### Based on IAPS84 EOS\n\n"
      ]
    },
    {
      "cell_type": "code",
      "execution_count": null,
      "metadata": {
        "collapsed": false
      },
      "outputs": [],
      "source": [
        "plot_props_VLH(sw_84,H2O.cIAPS84())\nbenchmark_VLH(sw_84)"
      ]
    },
    {
      "cell_type": "markdown",
      "metadata": {},
      "source": [
        "### Based on IAPWS95 EOS\nplot_props_VLH(sw_95,H2O.cIAPWS95_CoolProp())\nbenchmark_VLH(sw_95)\n\n"
      ]
    },
    {
      "cell_type": "markdown",
      "metadata": {},
      "source": [
        "<div class=\"alert alert-danger\"><h4>Warning</h4><p>The $T^*_h$ equation (22) in :cite:`Driesner2007Part2` seems not valid for saturated liquid phase on VLH surface when in\n    (low T, low p) and (high T, low p) regions, because the corrected $T^*_h-p$ path cross the boiling curve of water (see above),\n    therefore there are some value jupms on liquid enthalpy curve.\n    However, :cite:`Driesner2007Part2` gives some smooth values in low-p regions (see dashed lines with dots in above figures), how to get such values?\n    Well, for the hydrothermal modeling, this issue is not that critical because the pressure always high (>=50bar).</p></div>\n\n"
      ]
    },
    {
      "cell_type": "markdown",
      "metadata": {},
      "source": [
        "## Result table\n\nResult data calculated by |xThermo| based on both water EOS of IAPS84 and IAPWS95.\n\n.. seealso::\n\n    |mmc3| in :cite:`Driesner2007Part2` and Fig. 11 in :cite:`Driesner2007Part1`.\n\n.. tab:: IAPS84\n\n    .. csv-table:: Comparison between result of :cite:`Driesner2007Part2` and result calculated by |xThermo|.\n        :file: mmc3_IAPS84.csv\n        :header-rows: 1\n\n.. tab:: IAPWS95\n\n    .. csv-table:: Comparison between result of :cite:`Driesner2007Part2` and result calculated by |xThermo|.\n        :file: mmc3_IAPWS95.csv\n        :header-rows: 1\n\n\n.. tip::\n\n    The help function for 3D plot can be downloaded at here: :download:`helpfunc.py`\n\n"
      ]
    },
    {
      "cell_type": "code",
      "execution_count": null,
      "metadata": {
        "collapsed": false
      },
      "outputs": [],
      "source": [
        "# This is the last cell"
      ]
    }
  ],
  "metadata": {
    "kernelspec": {
      "display_name": "Python 3",
      "language": "python",
      "name": "python3"
    },
    "language_info": {
      "codemirror_mode": {
        "name": "ipython",
        "version": 3
      },
      "file_extension": ".py",
      "mimetype": "text/x-python",
      "name": "python",
      "nbconvert_exporter": "python",
      "pygments_lexer": "ipython3",
      "version": "3.9.12"
    }
  },
  "nbformat": 4,
  "nbformat_minor": 0
}