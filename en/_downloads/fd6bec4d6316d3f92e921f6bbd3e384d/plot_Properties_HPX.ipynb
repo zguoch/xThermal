{
  "cells": [
    {
      "cell_type": "code",
      "execution_count": null,
      "metadata": {
        "collapsed": false
      },
      "outputs": [],
      "source": [
        "# This cell is added by sphinx-gallery\n# It can be customized to whatever you like\n%matplotlib inline"
      ]
    },
    {
      "cell_type": "markdown",
      "metadata": {},
      "source": [
        "\n# 1. Properties\n.. include:: /include.rst_\nCalculate and plot phase diagram.\n"
      ]
    },
    {
      "cell_type": "code",
      "execution_count": null,
      "metadata": {
        "collapsed": false
      },
      "outputs": [],
      "source": [
        "import os\nimport numpy as np\nimport time\nimport linecache\nimport matplotlib.pyplot as plt\nimport matplotlib as mpl\nfrom matplotlib import patches\nimport matplotlib.ticker as ticker\nfrom matplotlib.ticker import MultipleLocator\nfrom tabulate import tabulate\nfrom matplotlib.patches import Patch\nimport copy\nimport warnings\nwarnings.filterwarnings(\"ignore\", category=RuntimeWarning)\n# 3d plot\nimport helpfunc\nmpl.rcParams['font.family'] = 'Arial'  # default font family\nmpl.rcParams['mathtext.fontset'] = 'cm'  # font for math\ndpi=100\nfmt_figs = ['pdf']  # ['svg','pdf']\nfigpath = '.'\nresult_path='../../../gallery_H2ONaCl/pT'\ndef savefig(figname):\n    for fmt_fig in fmt_figs:\n        figname_full = '%s/%s.%s' % (figpath, figname, fmt_fig)\n        plt.savefig(figname_full, bbox_inches='tight',dpi=dpi)\n        print('figure saved: ', figname_full)\ncompare = lambda a,b : float(str('%.6e'%(a)))-float(str('%.6e'%(b)))\n# Import package of xThermo\nfrom xThermo import H2O\nfrom xThermo import NaCl\nfrom xThermo import H2ONaCl\nsw_84 = H2ONaCl.cH2ONaCl(\"IAPS84\")\nsw_95 = H2ONaCl.cH2ONaCl(\"IAPWS95\")\nsw_95_CoolProp = H2ONaCl.cH2ONaCl(\"IAPWS95_CoolProp\")\n\ndef plot_Phase(ax, XX,YY,Phase,sw, cmap=\"Dark2\"):\n    cmap = plt.get_cmap(cmap)\n    # customize cmap\n    phase_unique = np.sort(np.unique(Phase))\n    phase_name = ['']*len(phase_unique)\n    for i,phase0 in enumerate(phase_unique):\n        Phase[Phase==phase0]=i+phase_unique.max()+10\n        phase_name[i]=sw.phase_name(int(phase0))\n    colors=list(copy.deepcopy(cmap.colors))\n    colors[0:8]=['red','lightblue','lightgreen','lightgray','violet','yellow','lightcyan','k']\n    cmap.colors=tuple(colors)\n    CS=ax.contourf(XX,YY, Phase,cmap=cmap,vmin=Phase.min()-0.5, vmax=Phase.max()+0.5, levels=np.linspace(Phase.min()-0.5,Phase.max()+0.5,len(phase_name)+1))\n    ax_cb = ax.inset_axes([0,1.01,1,0.05])\n    cb=plt.colorbar(CS, cax=ax_cb, orientation='horizontal',ticklocation='top',ticks=np.arange(Phase.min(),Phase.max()+1))\n    cb.ax.set_xticklabels(phase_name)\n\ndef plot_prop(ax, XX,YY,prop, prop_name='prop', prop_unit='unit', cmap='rainbow',levels=50):\n    CS=ax.contourf(XX,YY,prop, levels=levels, cmap=cmap)\n    ax_cb = ax.inset_axes([0,1.01,1,0.05])\n    cb=plt.colorbar(CS, cax=ax_cb, orientation='horizontal',ticklocation='top',label='%s (%s)'%(prop_name, prop_unit))\n\ndef plot_props_P0X0(sw):\n    P0,X0 = 100E5,0.1\n    T=np.linspace(sw.Tmin(),sw.Tmax(),100)\n    X = T*0 + X0\n    P = T*0 + P0\n    state = sw.UpdateState_TPX(T,P,X)\n    # plot\n    fig=plt.figure()\n    ax=plt.gca()\n    ax.plot(T, state.H,'o')\n    savefig('Props_P%.0fbar_X%.1f'%(P0/1E5,X0))\n\ndef plot_props_H0(H0, sw):\n    X = np.linspace(1E-6,1,400)\n    P = np.linspace(1, 1000, 400)*1E5\n    PP,XX = np.meshgrid(P,X)\n    HH = PP*0 + H0\n    phase = np.zeros_like(HH)\n    Rho = np.zeros_like(HH)\n    T = np.zeros_like(HH)\n    Cp = np.zeros_like(HH)\n    Mu_l = np.zeros_like(HH)\n    Mu_v = np.zeros_like(HH)\n    for i in range(0,HH.shape[0]):\n        for j in range(0,HH.shape[1]):\n            props = sw.UpdateState_HPX(HH[i][j], PP[i][j], XX[i][j])\n            phase[i][j] = props.phase\n            Rho[i][j] = props.Rho\n            Cp[i][j] = props.Cp\n            T[i][j] = props.T\n            Mu_l[i][j] = props.Mu_l\n            Mu_v[i][j] = props.Mu_v\n    T[T<273.15]=np.nan\n    # plot\n    fig, axes=plt.subplots(2,4,figsize=(28,12),sharey=True, sharex=True,gridspec_kw={'wspace':0.1,'hspace':0.2})\n\n    xx,yy = XX*100, PP/1E5\n    # 1. phase\n    ax = axes[0][0]\n    plot_Phase(ax, xx,yy, phase, sw)\n    # 2. Rho\n    ax = axes[0][1]\n    plot_prop(ax, xx,yy, Rho,prop_name=\"Density\", prop_unit=\"kg/m$^\\mathregular{3}$\")\n    # 3. H\n    ax = axes[0][2]\n    plot_prop(ax, xx,yy, T-273.15,prop_name=\"Temperature\", prop_unit=\"$^{\\circ}$C\",cmap='GnBu')\n    # 3. Cp\n    ax = axes[0][3]\n    plot_prop(ax, xx,yy, Cp,prop_name=\"Isobaric specific heat\", prop_unit=\"J/kg/K\",cmap='YlOrRd')\n    # 1. Mu_l\n    ax=axes[1][0]\n    plot_prop(ax, xx,yy, (Mu_l)*1E6,prop_name=\"log$_{10}$ $\\mu_l$\", prop_unit=\"$\\mu Pa \\cdot s$\",cmap='GnBu')\n    # ax.grid()\n    # 2. Mu_v\n    ax=axes[1][1]\n    plot_prop(ax, xx,yy, (Mu_v)*1E6,prop_name=\"log$_{10}$ $\\mu_v$\", prop_unit=\"$\\mu Pa \\cdot s$\",cmap='BuGn')\n\n    # set axis\n    for ax in axes[1,:]: ax.set_xlabel('Bulk salinity (wt.% NaCl)')\n    for ax in axes[:,0]: ax.set_ylabel('Pressure (bar)')\n\n    savefig('Props_H%.0fMJ_kg'%(H0/1E6))\n\ndef plot_props_P0(P0, sw):\n    H = np.linspace(0.1, 5.5, 400)*1E6\n    X = np.linspace(1E-6,1,400)\n    HH,XX = np.meshgrid(H,X)\n    PP = HH*0 + P0\n    phase = np.zeros_like(HH)\n    Rho = np.zeros_like(HH)\n    T = np.zeros_like(HH)\n    Cp = np.zeros_like(HH)\n    Mu_l = np.zeros_like(HH)\n    Mu_v = np.zeros_like(HH)\n    for i in range(0,HH.shape[0]):\n        for j in range(0,HH.shape[1]):\n            props = sw.UpdateState_HPX(HH[i][j], PP[i][j], XX[i][j])\n            phase[i][j] = props.phase\n            Rho[i][j] = props.Rho\n            Cp[i][j] = props.Cp\n            T[i][j] = props.T\n            Mu_l[i][j] = props.Mu_l\n            Mu_v[i][j] = props.Mu_v\n    T[T<273.15]=np.nan\n    # plot\n    fig, axes=plt.subplots(2,4,figsize=(28,12),sharey=True, sharex=True,gridspec_kw={'wspace':0.1,'hspace':0.2})\n\n    xx,yy = XX*100, HH/1E6\n    # 1. phase\n    ax = axes[0][0]\n    plot_Phase(ax, xx,yy, phase, sw)\n    # 2. Rho\n    ax = axes[0][1]\n    plot_prop(ax, xx,yy, Rho,prop_name=\"Density\", prop_unit=\"kg/m$^\\mathregular{3}$\")\n    # 3. H\n    ax = axes[0][2]\n    plot_prop(ax, xx,yy, T - 273.15,prop_name=\"Temperature\", prop_unit=\"$^{\\circ}$C\",cmap='GnBu')\n    # 3. Cp\n    ax = axes[0][3]\n    plot_prop(ax, xx,yy, Cp,prop_name=\"Isobaric specific heat\", prop_unit=\"J/kg/K\",cmap='YlOrRd')\n    # 1. Mu_l\n    ax=axes[1][0]\n    plot_prop(ax, xx,yy, (Mu_l)*1E6,prop_name=\"log$_{10}$ $\\mu_l$\", prop_unit=\"$\\mu Pa \\cdot s$\",cmap='GnBu')\n    # ax.grid()\n    # 2. Mu_v\n    ax=axes[1][1]\n    plot_prop(ax, xx,yy, (Mu_v)*1E6,prop_name=\"log$_{10}$ $\\mu_v$\", prop_unit=\"$\\mu Pa \\cdot s$\",cmap='BuGn')\n\n    # set axis\n    for ax in axes[1,:]: ax.set_xlabel('Bulk salinity (wt.% NaCl)')\n    for ax in axes[:,0]: ax.set_ylabel('Specific enthalpy (MJ/kg)')\n\n    savefig('Props_P%.0fbar'%(P0/1E5))\n\ndef plot_props_X0(X0,sw):\n    H = np.linspace(0.1, 5.5, 400)*1E6\n    P = np.linspace(1E5, 1000E5, 400)\n    HH,PP = np.meshgrid(H,P)\n    XX = HH*0 + X0\n    phase = np.zeros_like(HH)\n    Rho = np.zeros_like(HH)\n    T = np.zeros_like(HH)\n    Cp = np.zeros_like(HH)\n    Mu_l = np.zeros_like(HH)\n    Mu_v = np.zeros_like(HH)\n    for i in range(0,HH.shape[0]):\n        for j in range(0,HH.shape[1]):\n            props = sw.UpdateState_HPX(HH[i][j], PP[i][j], XX[i][j])\n            phase[i][j] = props.phase\n            Rho[i][j] = props.Rho\n            Cp[i][j] = props.Cp\n            T[i][j] = props.T\n            Mu_l[i][j] = props.Mu_l\n            Mu_v[i][j] = props.Mu_v\n    T[T<273.15]=np.nan\n    # plot\n    fig, axes=plt.subplots(2,4,figsize=(28,12),sharey=True, sharex=True,gridspec_kw={'wspace':0.1,'hspace':0.2})\n\n    xx,yy = HH/1E6,PP/1E5\n    # 1. phase\n    ax = axes[0][0]\n    plot_Phase(ax, xx,yy, phase, sw)\n    # 2. Rho\n    ax = axes[0][1]\n    plot_prop(ax, xx,yy, Rho,prop_name=\"Density\", prop_unit=\"kg/m$^\\mathregular{3}$\")\n    # 3. H\n    ax = axes[0][2]\n    plot_prop(ax, xx,yy, T-273.15,prop_name=\"Temperature\", prop_unit=\"$^{\\circ}$C\",cmap='GnBu')\n    # 3. Cp\n    ax = axes[0][3]\n    plot_prop(ax, xx,yy, Cp,prop_name=\"Isobaric specific heat\", prop_unit=\"J/kg/K\",cmap='YlOrRd')\n    # 1. Mu_l\n    ax=axes[1][0]\n    plot_prop(ax, xx,yy, (Mu_l)*1E6,prop_name=\"log$_{10}$ $\\mu_l$\", prop_unit=\"$\\mu Pa \\cdot s$\",cmap='GnBu')\n    # ax.grid()\n    # 2. Mu_v\n    ax=axes[1][1]\n    plot_prop(ax, xx,yy, (Mu_v)*1E6,prop_name=\"log$_{10}$ $\\mu_v$\", prop_unit=\"$\\mu Pa \\cdot s$\",cmap='BuGn')\n\n    # set axis\n    for ax in axes[1,:]: ax.set_xlabel('Specific enthalpy (MJ/kg)')\n    for ax in axes[:,0]: ax.set_ylabel('Pressure (bar)')\n\n    # ax.set_xscale('log')\n    savefig('Props_X%.0fwt'%(X0*100))\n\n# plot_props_P0X0(sw_84)"
      ]
    },
    {
      "cell_type": "markdown",
      "metadata": {},
      "source": [
        "## Isobaric section\n\n"
      ]
    },
    {
      "cell_type": "code",
      "execution_count": null,
      "metadata": {
        "collapsed": false
      },
      "outputs": [],
      "source": [
        "plot_props_P0(100E5, sw_84)"
      ]
    },
    {
      "cell_type": "markdown",
      "metadata": {},
      "source": [
        "## Const enthalpy\n\n"
      ]
    },
    {
      "cell_type": "code",
      "execution_count": null,
      "metadata": {
        "collapsed": false
      },
      "outputs": [],
      "source": [
        "plot_props_H0(2E6, sw_84)"
      ]
    },
    {
      "cell_type": "markdown",
      "metadata": {},
      "source": [
        "## Constant X\n\n"
      ]
    },
    {
      "cell_type": "code",
      "execution_count": null,
      "metadata": {
        "collapsed": false
      },
      "outputs": [],
      "source": [
        "plot_props_X0(0.1, sw_84)"
      ]
    },
    {
      "cell_type": "code",
      "execution_count": null,
      "metadata": {
        "collapsed": false
      },
      "outputs": [],
      "source": [
        "# This is the last cell"
      ]
    }
  ],
  "metadata": {
    "kernelspec": {
      "display_name": "Python 3",
      "language": "python",
      "name": "python3"
    },
    "language_info": {
      "codemirror_mode": {
        "name": "ipython",
        "version": 3
      },
      "file_extension": ".py",
      "mimetype": "text/x-python",
      "name": "python",
      "nbconvert_exporter": "python",
      "pygments_lexer": "ipython3",
      "version": "3.9.12"
    }
  },
  "nbformat": 4,
  "nbformat_minor": 0
}