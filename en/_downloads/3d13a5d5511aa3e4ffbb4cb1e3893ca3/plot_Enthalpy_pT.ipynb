{
  "cells": [
    {
      "cell_type": "code",
      "execution_count": null,
      "metadata": {
        "collapsed": false
      },
      "outputs": [],
      "source": [
        "# This cell is added by sphinx-gallery\n# It can be customized to whatever you like\n%matplotlib inline"
      ]
    },
    {
      "cell_type": "markdown",
      "metadata": {},
      "source": [
        "\n# 2. Specific enthalpy\n"
      ]
    },
    {
      "cell_type": "code",
      "execution_count": null,
      "metadata": {
        "collapsed": false
      },
      "outputs": [],
      "source": [
        "import numpy as np \nimport time\nimport linecache\nimport matplotlib.pyplot as plt\nimport matplotlib as mpl\nfrom matplotlib import patches\nimport matplotlib.ticker as ticker\nfrom matplotlib.ticker import MultipleLocator\nmpl.rcParams['font.family'] = 'Arial'  #default font family\nmpl.rcParams['mathtext.fontset'] = 'cm' #font for math\nfmt_figs=['pdf'] #['svg','pdf']\nfigpath='.'\ndef savefig(figname):\n    for fmt_fig in fmt_figs:\n        figname_full = '%s/%s.%s'%(figpath,figname,fmt_fig)\n        plt.savefig(figname_full, bbox_inches='tight')\n        print('figure saved: ',figname_full)\n\n# Import package of xThermo\nfrom xThermo import H2O\niaps84 = H2O.cIAPS84()\niapws95_CoolProp = H2O.cIAPWS95_CoolProp()\niapws95 = H2O.cIAPWS95()\n\n# Calculate and plot result\ndef plot_prop(water, ax=None,name_prop='Enthalpy',unit_prop='MJ/kg',T=[],p=[],cmap='GnBu'):\n    if(len(T)==0): T = np.linspace(274,1273,150)\n    if(len(p)==0): p = np.linspace(1E5,2000e5,150)\n    TT,PP = np.meshgrid(T,p)\n    prop = np.zeros_like(TT)\n    for i in range(0,TT.shape[0]):\n        for j in range(0,TT.shape[1]):\n            props = water.UpdateState_TPX(TT[i][j], PP[i][j])\n            prop[i][j] = props.H\n    # plot\n    isSaveFig=False\n    if(ax is None): isSaveFig = True\n    if(ax==None):\n        fig=plt.figure(figsize=(7,7))\n        ax=plt.gca()\n    CS = ax.contourf(TT-273.15,PP/1E5, prop/1E6, levels=50, cmap=cmap)\n    ax_cb = ax.inset_axes([1.01, 0, 0.05, 1])\n    plt.colorbar(CS, cax=ax_cb, orientation='vertical',label='%s (%s)'%(name_prop,unit_prop))\n    # labels\n    ax.text(0.98,0.98,water.name(),ha='right',va='top',bbox={'fc':'w','ec':'gray'}, transform=ax.transAxes)\n    ax.set_xlabel('Temperature ($^{\\circ}$C)')\n    ax.set_ylabel('Pressure (bar)')\n    if(isSaveFig): savefig('H2O_%s_%s'%(name_prop, water.name()))\n    return TT-273.15,PP/1E5,prop\n\ndef plot_error(ax, XX,YY,ZZ, eosA, eosB,cmap='RdBu',unit='J/kg'):\n    CS=ax.contourf(XX,YY,ZZ,levels=50,cmap=cmap, norm=mpl.colors.CenteredNorm())\n    ax_cb = ax.inset_axes([1.01, 0, 0.05, 1])\n    plt.colorbar(CS, cax=ax_cb, orientation='vertical',label='Diff (%s)'%(unit))\n    ax.text(0.98,0.98,'%s-%s'%(eosA.name(),eosB.name()),ha='right',va='top',bbox={'fc':'w','ec':'gray'}, transform=ax.transAxes)\n    ax.set_xlabel('Temperature ($^{\\circ}$C)')"
      ]
    },
    {
      "cell_type": "markdown",
      "metadata": {},
      "source": [
        "## IAPS84 EOS\n\n"
      ]
    },
    {
      "cell_type": "code",
      "execution_count": null,
      "metadata": {
        "collapsed": false
      },
      "outputs": [],
      "source": [
        "TT,PP,prop=plot_prop(iaps84)"
      ]
    },
    {
      "cell_type": "markdown",
      "metadata": {},
      "source": [
        "## Comparison: IAPS84 and IAPWS95\n\n"
      ]
    },
    {
      "cell_type": "code",
      "execution_count": null,
      "metadata": {
        "collapsed": false
      },
      "outputs": [],
      "source": [
        "fig, axes = plt.subplots(1,5,figsize=(30,5),gridspec_kw={'wspace':0.35})\nTT,PP,prop84 = plot_prop(iaps84,ax=axes[0])\nTT,PP,prop95 = plot_prop(iapws95,ax=axes[1])\nTT,PP,prop95_CoolProp = plot_prop(iapws95_CoolProp,ax=axes[2])\nplot_error(axes[3],TT,PP,prop95 - prop84,eosA=iapws95, eosB=iaps84)\nplot_error(axes[4],TT,PP,prop95 - prop95_CoolProp,eosA=iapws95, eosB=iapws95_CoolProp)\nfor ax in axes[1:]: ax.set_ylabel(None)\nsavefig('diff_84_95')"
      ]
    },
    {
      "cell_type": "markdown",
      "metadata": {},
      "source": [
        "## Comparison in region close to critical point: IAPWS95 and IAPWS95\n\n"
      ]
    },
    {
      "cell_type": "code",
      "execution_count": null,
      "metadata": {
        "collapsed": false
      },
      "outputs": [],
      "source": [
        "fig, axes = plt.subplots(1,3,figsize=(18,5),gridspec_kw={'wspace':0.35})\nT = np.linspace(iaps84.T_critical()-10, iaps84.T_critical()+10, 100)\np = np.linspace(iaps84.p_critical()-10E5, iaps84.p_critical()+10E5, 100)\nTT,PP,prop84 = plot_prop(iaps84,ax=axes[0], T=T, p=p)\nTT,PP,prop95 = plot_prop(iapws95,ax=axes[1], T=T, p=p)\nplot_error(axes[2],TT,PP,prop95 - prop84, eosA=iapws95, eosB=iaps84)\nfor ax in axes[1:]: ax.set_ylabel(None)\nsavefig('diff')\nprint('Critical density, IAPS84: %.4f kg/m3, IAPWS95: %.4f kg/m3, diff: %.4f kg/m3'%(iaps84.rhomass_critical(),iapws95.rhomass_critical(), iaps84.rhomass_critical()-iapws95.rhomass_critical()))"
      ]
    },
    {
      "cell_type": "code",
      "execution_count": null,
      "metadata": {
        "collapsed": false
      },
      "outputs": [],
      "source": [
        "# This is the last cell"
      ]
    }
  ],
  "metadata": {
    "kernelspec": {
      "display_name": "Python 3",
      "language": "python",
      "name": "python3"
    },
    "language_info": {
      "codemirror_mode": {
        "name": "ipython",
        "version": 3
      },
      "file_extension": ".py",
      "mimetype": "text/x-python",
      "name": "python",
      "nbconvert_exporter": "python",
      "pygments_lexer": "ipython3",
      "version": "3.9.12"
    }
  },
  "nbformat": 4,
  "nbformat_minor": 0
}