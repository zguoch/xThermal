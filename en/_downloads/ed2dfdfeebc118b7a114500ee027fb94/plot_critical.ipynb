{
  "cells": [
    {
      "cell_type": "code",
      "execution_count": null,
      "metadata": {
        "collapsed": false
      },
      "outputs": [],
      "source": [
        "# This cell is added by sphinx-gallery\n# It can be customized to whatever you like\n%matplotlib inline"
      ]
    },
    {
      "cell_type": "markdown",
      "metadata": {},
      "source": [
        "\n# 1. Critical curve\n.. include:: /include.rst_\nCalculate critical curve of H2O-NaCl system based on IAPS84 and IAPWS95 EOS,\nand compare result with :cite:`Driesner2007Part2`.\n"
      ]
    },
    {
      "cell_type": "markdown",
      "metadata": {},
      "source": [
        "## Key code snippet\n\n.. code:: python\n\n    import numpy as np\n    from xThermo import H2O\n    from xThermo import H2ONaCl\n    sw = H2ONaCl.cH2ONaCl(\"IAPS84\") #IAPS84, IAPWS95\n    T=np.linspace(sw.Tmin(), sw.Tmax(), 200) # Temperature array\n    P,X=np.array(sw.P_X_Critical(T)) # calculate critical pressure and composition for given temperature\n.. seealso::\n\n    The C++ member function |P_X_Critical| and python wrapper function :py:meth:`xThermo.H2ONaCl.cH2ONaCl.P_X_Critical`.\n\n"
      ]
    },
    {
      "cell_type": "code",
      "execution_count": null,
      "metadata": {
        "collapsed": false
      },
      "outputs": [],
      "source": [
        "import numpy as np\nimport time\nimport linecache\nimport matplotlib.pyplot as plt\nimport matplotlib as mpl\nfrom matplotlib import patches\nimport matplotlib.ticker as ticker\nfrom matplotlib.ticker import MultipleLocator\nfrom tabulate import tabulate\nimport warnings\nwarnings.filterwarnings(\"ignore\", category=RuntimeWarning)\n# 3d plot\nimport helpfunc\nmpl.rcParams['font.family'] = 'Arial'  # default font family\nmpl.rcParams['mathtext.fontset'] = 'cm'  # font for math\nfmt_figs = ['pdf']  # ['svg','pdf']\nfigpath = '.'\nresult_path='../../../gallery_H2ONaCl/pT'\ndef savefig(figname):\n    for fmt_fig in fmt_figs:\n        figname_full = '%s/%s.%s' % (figpath, figname, fmt_fig)\n        plt.savefig(figname_full, bbox_inches='tight')\n        print('figure saved: ', figname_full)\ncompare = lambda a,b : float(str('%.6e'%(a)))-float(str('%.6e'%(b)))\n# Import package of xThermo\nfrom xThermo import H2O\nfrom xThermo import H2ONaCl\nsw_84 = H2ONaCl.cH2ONaCl(\"IAPS84\")\nsw_95 = H2ONaCl.cH2ONaCl(\"IAPWS95\")\n\ndef plot_3d():\n    fig=plt.figure(figsize=(14,14))\n    ax = fig.add_subplot(111,projection='3d',facecolor='None')\n    helpfunc.set_axis_diagram_3D(ax)\n    # calculate critical curve\n    sw=H2ONaCl.cH2ONaCl('IAPS84')\n    T=np.linspace(sw.Tmin(), sw.Tmax(), 200)\n    P,X=np.array(sw.P_X_Critical(T))\n    # plot\n    ax.plot(X*100, T-273.15, P/1E5, label='Critical curve', color='r')\n\n    savefig('CriticalCurve_3D')\n\ndef benchmark_CriticalCurve(sw,mmc2='../Driesner2007b/1-s2.0-S0016703707002955-mmc2.txt'):\n    T=np.linspace(sw.Tmin(), sw.Tmax(), 200)\n    P,X=np.array(sw.P_X_Critical(T))\n    T0,P0,X0=[],[],[]\n    # try to open Driesner's result file\n    data=np.loadtxt(mmc2,skiprows=6)\n    T0,P0,X0,Rho0,H0=data[:,0],data[:,1],data[:,2],data[:,3],data[:,4]\n    P_,X_wt_=np.array(sw.P_X_Critical(T0+273.15))\n    X_=np.array(sw.Wt2Mol(X_wt_))\n    Rho_=np.array(sw.Rho_phase(T0+273.15, P_, X_wt_, H2ONaCl.Liquid))\n    H_=np.array(sw.H_phase(T0+273.15, P_, X_wt_, H2ONaCl.Liquid))\n    Data0 = {'p':P0,'X':X0,'rho':Rho0,'h':H0}\n    Data_={'p':P_/1E5,'X':X_,'rho':Rho_,'h':H_}\n    Err,RErr={},{}\n    for key in Data0.keys(): Err[key],RErr[key] = Data0[key]-Data_[key], np.abs(Data0[key]-Data_[key])/(Data0[key])*100.0\n    # print to file and compare\n    fpout = open('%s/mmc2_%s.csv'%(result_path,sw.name_backend()),'w')\n    fpout.write('T[deg.C],P(Driesner)[bar],P(xThermo)[bar],P(diff)[bar],X(Driesner)[mol],X(xThermo)[mol],X(diff)[mol],Rho(Driesner)[kg/m3],Rho(xThermo),Rho(err),H(Driesner)[J/kg],H(xThermo),H(err)\\n')\n    for i in range(0,len(T0)):\n        fpout.write('%.6e'%(T0[i]))\n        for key in Data0.keys():\n            fpout.write(',%.6e,%.6e,%.6e'%(Data0[key][i], Data_[key][i],compare(Data0[key][i],Data_[key][i])))\n        fpout.write('\\n')\n    fpout.close()\n\n    # plot\n    fig,axes=plt.subplots(1,3, figsize=(12,3),gridspec_kw={'width_ratios':[1, 1, 1],'wspace':0.3})\n    axes_err=['']*len(axes)\n    for i,ax in enumerate(axes):\n        axes_err[i]=ax.inset_axes([0,1,1,0.3])\n        axes_err[i].set_yscale('log')\n        # axes_err[i].set_ylim(1E-6,5E-3)\n        axes_err[i].set_ylabel('RE(%)')\n        axes_err[i].text(-0.08,1.0,'(%s)'%(chr(97+i)),ha='right',va='bottom',fontsize=10,fontweight='bold',transform=axes_err[i].transAxes)\n    # 1. critical curve\n    ax,ax_err=axes[0],axes_err[0]\n    l,=ax.plot(T-273.15,P/1E5, color='r',label='xThermo',lw=4)\n    if(len(T0)>0): ax.plot(T0,P0,ls='dashed',color='lightgray',label='Driesner(2007b)')\n    ax.set_xlabel('Temperature ($^{\\circ}$C)')\n    ax.set_ylabel('Critical pressure (bar)',color=l.get_color())\n    ax_err.bar(T0+2.5, RErr['p'],color=l.get_color(),width=5)\n    # ax.yaxis.set_minor_locator(MultipleLocator(100))\n    ax.legend(loc='upper left')\n    # ax.text(0.005,0.98,'(a)',transform=ax.transAxes,ha='left',va='top',fontsize=12,fontweight='bold')\n    ax_X = ax.twinx()\n    l,=ax_X.plot(T-273.15,X*100,label='blue',lw=4)\n    ax_X.set_ylim(0, ax_X.get_ylim()[1])\n    if(len(T0)>0): ax_X.plot(T0,np.array(sw.Mol2Wt(X0))*100,ls='dashed',color='lightgray')\n    ax_X.set_ylabel('Critical composition (wt.% NaCl)',color=l.get_color())\n    ax_err.bar(T0-2.5, RErr['X'],color=l.get_color(),width=5)\n    # 2. density\n    ax,ax_err=axes[1],axes_err[1]\n    ax.plot(T0, Rho_,lw=4,label='xThermo')\n    ax.plot(T0, Rho0, ls='dashed',color='lightgray',label='Driesner(2007b)')\n    ax_err.bar(T0, RErr['rho'],width=5)\n    ax.yaxis.set_ticks_position('right')\n    ax.yaxis.set_label_position('right')\n    ax.set_ylabel('Density (km/m$^{\\mathregular{3}}$)')\n    ax.set_xlabel('Temperature ($^{\\circ}$C)')\n    ax.legend()\n    # 3. specific enthalpy\n    ax,ax_err=axes[2],axes_err[2]\n    ax.plot(T0, H_/1E6,lw=4,label='xThermo')\n    ax.plot(T0, H0/1E6, ls='dashed',color='lightgray',label='Driesner(2007b)')\n    ax.yaxis.set_ticks_position('right')\n    ax.yaxis.set_label_position('right')\n    ax.set_ylabel('Specific enthalpy (MJ/kg)')\n    ax.set_xlabel('Temperature ($^{\\circ}$C)')\n    ax_err.bar(T0, RErr['h'],width=5)\n    ax.legend()\n    # set axes\n    for i,ax in enumerate(axes):\n        axes_err[i].set_xlim(ax.get_xlim())\n        axes_err[i].xaxis.set_ticks([])\n        ax.xaxis.set_minor_locator(MultipleLocator(40))\n        ax.grid(which='major',lw=0.02,color='k')\n        ax.grid(which='minor',lw=0.01,color='gray')\n\n    # statistics of the difference\n    table=[]\n    for key,name in zip(list(Err.keys()),['Pressure (bar)','Composition (mole fraction)','Density (kg/m3)','Specific enthalpy (J/kg)']):\n        RErr[key] = RErr[key][~(np.isnan(RErr[key]) | np.isinf(RErr[key]))]\n        table.append([name,Err[key].min(),Err[key].max(),RErr[key].min(),RErr[key].max()])\n    print(tabulate(table, headers=['Critical property', 'Err. Min', 'Err. Max','RE. Min(%)','RE. Max(%)'],numalign=\"right\",floatfmt=\".6f\"))\n    savefig('H2ONaCl_CriticalCurve')\n    return T0,P0\n\ndef plot_critpT_H2O(T_crit,P_crit,cmap='GnBu'):\n    T,p = np.linspace(274,T_crit.max(),100), np.linspace(1E5,P_crit.max(),100)\n    TT,PP = np.meshgrid(T,p)\n    prop = np.zeros_like(TT)\n    iaps84 = H2O.cIAPS84()\n    iapws95 = H2O.cIAPWS95_CoolProp()\n    for i in range(0,TT.shape[0]):\n        for j in range(0,TT.shape[1]):\n            props = iapws95.UpdateState_TPX(TT[i][j], PP[i][j])\n            prop[i][j] = props.Rho\n    fig,axes=plt.subplots(1,2,figsize=(12,4),gridspec_kw={'wspace':0.25})\n    ax=axes[0]\n    CS = ax.contourf(TT-273.15,PP/1E5, prop, levels=50, cmap=cmap)\n    ax_cb = ax.inset_axes([1.01, 0, 0.05, 1])\n    plt.colorbar(CS, cax=ax_cb, orientation='vertical',label='%s (%s)'%('Density','kg/$m^3$'))\n    l,=ax.plot(T_crit-273.15, P_crit/1E5,color='r',lw=2,label='Critical p,T of $H_{\\mathregular{2}}$O-NaCl system')\n    x0,y0=T_crit[int(len(T_crit)/3*2)]-273.15, P_crit[int(len(P_crit)/3*2)]/1E5\n    ax.annotate(\"Critical p,T of\\nH$_{\\mathregular{2}}$O-NaCl system\",\n                xy=(x0,y0),xytext=(x0-100,y0), ha='right',va='center',bbox={'fc':'None','ec':l.get_color()},fontsize=14,fontweight='bold',\n                arrowprops=dict(arrowstyle=\"->\",connectionstyle=\"arc3\"),)\n    # labels\n    # ax.text(0.98,0.98,water.name(),ha='right',va='top',bbox={'fc':'w','ec':'gray'}, transform=ax.transAxes)\n    ax.set_xlabel('Temperature ($^{\\circ}$C)')\n    ax.set_ylabel('Pressure (bar)')\n    # IAPS84 - IAPWS95\n    rho_84,rho_95,h_84,h_95=np.zeros_like(T_crit),np.zeros_like(T_crit),np.zeros_like(T_crit),np.zeros_like(T_crit)\n    for i in range(0,len(T_crit)):\n        props_84 = iaps84.UpdateState_TPX(T_crit[i],P_crit[i])\n        props_95 = iapws95.UpdateState_TPX(T_crit[i],P_crit[i])\n        rho_84[i],rho_95[i],h_84[i],h_95[i] = props_84.Rho, props_95.Rho, props_84.H, props_95.H\n    ax=axes[1]\n    barwidth=5\n    ax.set_yscale('log')\n    ax.bar(T_crit-273.15-barwidth/2,np.abs(rho_84-rho_95)/rho_84*100,width=barwidth,label='Density')\n    ax.bar(T_crit-273.15+barwidth/2,np.abs(h_84-h_95)/h_84*100,width=barwidth,label='Specific enthalpy')\n    ax.legend(ncol=2,title='Relative difference: $\\\\frac{|IAPS84-IAPWS95|}{IAPS84}\\\\times100$')\n    ax.set_ylabel('Relative difference (%)')\n    ax.set_xlabel('Temperature ($^{\\circ}$C)')\n    ax.yaxis.set_label_position('right')\n    ax.yaxis.set_ticks_position('right')\n    savefig('CriticalCurve_on_H2O')"
      ]
    },
    {
      "cell_type": "markdown",
      "metadata": {},
      "source": [
        "## General 3D view\n\n"
      ]
    },
    {
      "cell_type": "code",
      "execution_count": null,
      "metadata": {
        "collapsed": false
      },
      "outputs": [],
      "source": [
        "plot_3d()"
      ]
    },
    {
      "cell_type": "markdown",
      "metadata": {},
      "source": [
        "## Based on IAPS84 EOS\n\n"
      ]
    },
    {
      "cell_type": "code",
      "execution_count": null,
      "metadata": {
        "collapsed": false
      },
      "outputs": [],
      "source": [
        "T_crit,P_crit=benchmark_CriticalCurve(sw_84)"
      ]
    },
    {
      "cell_type": "markdown",
      "metadata": {},
      "source": [
        "## Based on IAPWS95 EOS\n\n"
      ]
    },
    {
      "cell_type": "code",
      "execution_count": null,
      "metadata": {
        "collapsed": false
      },
      "outputs": [],
      "source": [
        "T_crit,P_crit=benchmark_CriticalCurve(sw_95)"
      ]
    },
    {
      "cell_type": "markdown",
      "metadata": {},
      "source": [
        "## H2O properties at critical p,T condition of H2O-NaCl\n\n"
      ]
    },
    {
      "cell_type": "code",
      "execution_count": null,
      "metadata": {
        "collapsed": false
      },
      "outputs": [],
      "source": [
        "plot_critpT_H2O(T_crit+273.15,P_crit*1E5)"
      ]
    },
    {
      "cell_type": "markdown",
      "metadata": {},
      "source": [
        "## Result table\n.. seealso::\n\n    |mmc2| in :cite:`Driesner2007Part2` and Fig. 1,5,6 in :cite:`Driesner2007Part1`.\n\nResult data calculated by |xThermo| based on both water EOS of IAPS84 and IAPWS95.\n\n.. tab:: IAPS84\n\n    .. csv-table:: Comparison between result of :cite:`Driesner2007Part2` and result calculated by |xThermo|.\n        :file: mmc2_IAPS84.csv\n        :header-rows: 1\n\n.. tab:: IAPWS95\n\n    .. csv-table:: Comparison between result of :cite:`Driesner2007Part2` and result calculated by |xThermo|.\n        :file: mmc2_IAPWS95.csv\n        :header-rows: 1\n\n\n.. tip::\n\n    The help function for 3D plot can be downloaded at here: :download:`helpfunc.py`\n"
      ]
    },
    {
      "cell_type": "code",
      "execution_count": null,
      "metadata": {
        "collapsed": false
      },
      "outputs": [],
      "source": [
        "# This is the last cell"
      ]
    }
  ],
  "metadata": {
    "kernelspec": {
      "display_name": "Python 3",
      "language": "python",
      "name": "python3"
    },
    "language_info": {
      "codemirror_mode": {
        "name": "ipython",
        "version": 3
      },
      "file_extension": ".py",
      "mimetype": "text/x-python",
      "name": "python",
      "nbconvert_exporter": "python",
      "pygments_lexer": "ipython3",
      "version": "3.9.12"
    }
  },
  "nbformat": 4,
  "nbformat_minor": 0
}