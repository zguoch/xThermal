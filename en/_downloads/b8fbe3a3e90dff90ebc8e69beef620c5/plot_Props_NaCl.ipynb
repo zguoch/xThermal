{
  "cells": [
    {
      "cell_type": "code",
      "execution_count": null,
      "metadata": {
        "collapsed": false
      },
      "outputs": [],
      "source": [
        "# This cell is added by sphinx-gallery\n# It can be customized to whatever you like\n%matplotlib inline"
      ]
    },
    {
      "cell_type": "markdown",
      "metadata": {},
      "source": [
        "\n# 2. Density and specific enthalpy\n.. include:: /include.rst_\nCalculate density and specific enthalpy ofof pure NaCl.\n"
      ]
    },
    {
      "cell_type": "code",
      "execution_count": null,
      "metadata": {
        "collapsed": false
      },
      "outputs": [],
      "source": [
        "import os\nimport numpy as np\nimport time\nimport linecache\nimport matplotlib.pyplot as plt\nimport matplotlib as mpl\nfrom matplotlib import patches\nimport matplotlib.ticker as ticker\nfrom matplotlib.ticker import MultipleLocator\nfrom tabulate import tabulate\nimport copy\nimport warnings\nwarnings.filterwarnings(\"ignore\", category=RuntimeWarning)\nmpl.rcParams['font.family'] = 'Arial'  # default font family\nmpl.rcParams['mathtext.fontset'] = 'cm'  # font for math\ndpi=100 # > 100 means use jpg format in gallery\nfmt_figs = ['pdf']  # ['svg','pdf']\nfigpath = '.'\nresult_path='../../../gallery_NaCl/pT'\ndef savefig(figname):\n    for fmt_fig in fmt_figs:\n        figname_full = '%s/%s.%s' % (figpath, figname, fmt_fig)\n        plt.savefig(figname_full, bbox_inches='tight',dpi=dpi)\n        print('figure saved: ', figname_full)\ncompare = lambda a,b : float(str('%.6e'%(a)))-float(str('%.6e'%(b)))\n# Import package of xThermo\nfrom xThermo import H2O\nfrom xThermo import NaCl\nfrom xThermo import H2ONaCl\nsw_84 = H2ONaCl.cH2ONaCl(\"IAPS84\")\nsw_95 = H2ONaCl.cH2ONaCl(\"IAPWS95\")\nsalt_84 = NaCl.cNaCl(\"IAPS84\")\nsalt_95 = NaCl.cNaCl(\"IAPWS95\")\n\ndef plot_Props(salt, scale='linear',enthalpy_FV='../../../gallery/H2ONaCl/Driesner2007b/Halite_enthalpy_Vehling20220112.txt'):\n    # Fig. 4 of Driesner(2007a)\n    T = np.linspace(0, 1100, 300) + 273.15\n    P = np.linspace(1,5000,300)*1E5\n    TT,PP = np.meshgrid(T,P)\n    RHO,H = np.zeros_like(TT),np.zeros_like(TT)\n\n    # calculate\n    for i in range(0,TT.shape[0]):\n        for j in range(0,TT.shape[1]):\n            props = salt.UpdateState_TPX(TT[i][j], PP[i][j])\n            RHO[i][j]=props.Rho\n            H[i][j]=props.H\n    fig,axes=plt.subplots(1,2,figsize=(16,7))\n    for ax,prop,label,cmap in zip(axes,[RHO,H/1E6],['Density (kg/m$^{\\mathregular{3}}$)','Specific enthalpy (MJ/kg)'],['rainbow','jet']):\n        CS=ax.contourf(TT-273.15,PP/1E5,prop,levels=50,cmap=cmap)\n        ax.set_yscale(scale)\n        ax_cb=ax.inset_axes([0,1.02,1,0.05])\n        plt.colorbar(CS,cax=ax_cb,label=label,orientation='horizontal',extend='both')\n        ax_cb.xaxis.set_label_position('top')\n        ax_cb.xaxis.set_ticks_position('top')\n        # ax.yaxis.set_major_locator(mpl.ticker.LogLocator(base=10.0, numticks=20))\n        ax.xaxis.set_major_locator(MultipleLocator(100))\n        ax.set_xlim(T.min()-273.15, T.max()-273.15)\n        ax.set_ylim(1, 5000)\n        ax.grid(lw=0.2, color='gray')\n        ax.set_xlabel('Temperature ($^{\\circ}$C)')\n        ax.set_ylabel('P (bar)')\n    savefig('Props_NaCl_%s'%(salt.name_backend()))\n\n    # 2. compare result with F.V. result\n    # load T,P,H result from Falko Vehling table (personal communication)\n    T0,P0,H0 = np.loadtxt(enthalpy_FV,skiprows=1,unpack=True)\n    H_=np.zeros_like(H0)\n    fpout = open('%s/Enthalpy_pT_%s.csv'%(result_path,salt.name_backend()),'w')\n    fpout.write('T[C],P[bar],H(F.V.)[J/kg],H(xThermo),H(err)\\n')\n    for i in range(0,len(T0)):\n        props = salt.UpdateState_TPX(T0[i]+273.15,P0[i]*1E5)\n        H_[i]=props.H\n        fpout.write('%.0f,%.0f,%.6e,%.6e,%.6e\\n'%(T0[i],P0[i],H0[i],H_[i],compare(H0[i],H_[i])))\n    fpout.close()\n    # plot difference\n    fig=plt.figure(figsize=(8,8))\n    ax=plt.gca()\n    # colormap\n    norm = mpl.colors.CenteredNorm(vcenter=0)\n    cmap=copy.deepcopy(plt.get_cmap('bwr'))\n    cmap._segmentdata['red'][0,1:]=0\n    cmap._segmentdata['green'][0,1:]=1\n    cmap._segmentdata['blue'][0,1:]=0\n    CS=ax.scatter(T0,P0, c=H0-H_,cmap=cmap,norm=norm)\n    ax_cb=ax.inset_axes([0,1.02,1,0.05])\n    plt.colorbar(CS,cax=ax_cb,label='Specific enthalpy (J/kg): F.V. result - xThermo',orientation='horizontal',extend='both')\n    ax_cb.xaxis.set_label_position('top')\n    ax_cb.xaxis.set_ticks_position('top')\n    ax.patch.set_facecolor('k')\n    ax.set_xlabel('Temperature ($^{\\circ}$C)')\n    ax.set_ylabel('P (bar)')\n    savefig('Diff_NaCl_H')"
      ]
    },
    {
      "cell_type": "markdown",
      "metadata": {},
      "source": [
        "## Based on IAPS84 EOS\n\n"
      ]
    },
    {
      "cell_type": "code",
      "execution_count": null,
      "metadata": {
        "collapsed": false
      },
      "outputs": [],
      "source": [
        "plot_Props(salt_84)"
      ]
    },
    {
      "cell_type": "markdown",
      "metadata": {},
      "source": [
        "### Compare specific result with F.V.'s result\nResult data calculated by |xThermo| based on both water EOS of IAPS84 and IAPWS95.\n\n.. tab:: Specific enthalpy\n\n    .. csv-table:: Comparison between result of Falko Vehling(personal communication) and result calculated by |xThermo|.\n        :file: Enthalpy_pT_IAPS84.csv\n        :header-rows: 1\n"
      ]
    },
    {
      "cell_type": "code",
      "execution_count": null,
      "metadata": {
        "collapsed": false
      },
      "outputs": [],
      "source": [
        "# This is the last cell"
      ]
    }
  ],
  "metadata": {
    "kernelspec": {
      "display_name": "Python 3",
      "language": "python",
      "name": "python3"
    },
    "language_info": {
      "codemirror_mode": {
        "name": "ipython",
        "version": 3
      },
      "file_extension": ".py",
      "mimetype": "text/x-python",
      "name": "python",
      "nbconvert_exporter": "python",
      "pygments_lexer": "ipython3",
      "version": "3.9.12"
    }
  },
  "nbformat": 4,
  "nbformat_minor": 0
}