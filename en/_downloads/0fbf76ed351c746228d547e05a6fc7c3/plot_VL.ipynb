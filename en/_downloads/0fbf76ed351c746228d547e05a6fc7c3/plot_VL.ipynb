{
  "cells": [
    {
      "cell_type": "code",
      "execution_count": null,
      "metadata": {
        "collapsed": false
      },
      "outputs": [],
      "source": [
        "# This cell is added by sphinx-gallery\n# It can be customized to whatever you like\n%matplotlib inline"
      ]
    },
    {
      "cell_type": "markdown",
      "metadata": {},
      "source": [
        "\n# 4. Vapor + Liquid coexistence surface\n.. include:: /include.rst_\nCalculate VL surface and properties, and compare result with :cite:`Driesner2007Part2`.\n"
      ]
    },
    {
      "cell_type": "code",
      "execution_count": null,
      "metadata": {
        "collapsed": false
      },
      "outputs": [],
      "source": [
        "import os\nimport numpy as np\nimport time\nimport linecache\nimport matplotlib.pyplot as plt\nimport matplotlib as mpl\nfrom matplotlib import patches\nimport matplotlib.ticker as ticker\nfrom matplotlib.ticker import MultipleLocator\nfrom matplotlib.patches import Patch\nfrom tabulate import tabulate\nimport copy\nimport warnings\nwarnings.filterwarnings(\"ignore\", category=RuntimeWarning)\n# 3d plot\nimport helpfunc\nmpl.rcParams['font.family'] = 'Arial'  # default font family\nmpl.rcParams['mathtext.fontset'] = 'cm'  # font for math\ndpi=400\nfmt_figs = ['pdf']  # ['svg','pdf']\nfigpath = '.'\nresult_path='../../../gallery_H2ONaCl/pT'\ndef savefig(figname):\n    for fmt_fig in fmt_figs:\n        figname_full = '%s/%s.%s' % (figpath, figname, fmt_fig)\n        plt.savefig(figname_full, bbox_inches='tight',dpi=dpi)\n        print('figure saved: ', figname_full)\ncompare = lambda a,b : float(str('%.6e'%(a)))-float(str('%.6e'%(b)))\n# Import package of xThermo\nfrom xThermo import H2O\nfrom xThermo import NaCl\nfrom xThermo import H2ONaCl\nsw_84 = H2ONaCl.cH2ONaCl(\"IAPS84\")\n\nsw_95 = H2ONaCl.cH2ONaCl(\"IAPWS95\")\n\ndef plot_3d(sw,scale='linear'):\n    fig=plt.figure(figsize=(14,14))\n    ax = fig.add_subplot(111,projection='3d',facecolor='None')\n    xcenter=1 # X<1% wt.% use log scale, if X>=1% wt.% NaCl, use linear scale\n    axtrans=[]\n    if(scale=='loglinear'):\n        axtrans=helpfunc.set_axis_diagram_3D_loglinearx(ax,xcenter=xcenter,ratio_log_lin=(1,1),xMajor_loc_log=2,xMajor_loc_linear=10,xMinor_loc_linear=2,xlim=(1E-16,100),yMajor_loc=200,zlim=(5,2500),ylim=(90,1000),xlabel='log$_{\\mathregular{10}}$(Wt.% NaCl)')\n    else:\n        helpfunc.set_axis_diagram_3D(ax)\n    transform_X = lambda X : helpfunc.data2axis_loglin(axtrans,X) if(scale=='loglinear') else X\n    # plot VLH surface as reference\n    T = np.linspace(H2ONaCl.T_MIN_VLH, sw.Tmax_VLH(), 100)\n    P_vlh = np.array(sw.P_VLH(T))\n    Xl_vlh, Xv_vlh = np.array(sw.X_VLH(T,P_vlh))\n    # plot\n    n_log,n_linear=20,40\n    X = np.linspace(H2ONaCl.X_MIN, H2ONaCl.X_MAX, n_log+n_linear)\n    TT,XX = np.meshgrid(T, X)\n    PP = np.zeros_like(TT)\n    for i in range(0,PP.shape[0]):\n        PP[i,:]=P_vlh\n    # # 1. vapor -> liquid region\n    # for j in range(0,PP.shape[1]):\n    #     XX[:,j] = np.append(10**np.linspace(np.log10(Xv_vlh[j]),np.log10(xcenter/100),n_log), np.linspace(xcenter/100,Xl_vlh[j],n_linear))\n    # xx_plot = transform_X(XX*100)\n    # ax.plot_surface(xx_plot,TT-273.15,PP/1E5,color='lightblue',alpha=0.9)\n    # # ax.plot_wireframe(xx_plot,TT-273.15,PP/1E5,ec='b',lw=0.8,label='VLH: V->L')\n    # # 2. liquid -> halite region\n    # for j in range(0,PP.shape[1]):\n    #     XX[:,j] = np.linspace(Xl_vlh[j], 1,len(X))\n    # xx_plot = transform_X(XX*100)\n    # ax.plot_surface(xx_plot,TT-273.15,PP/1E5,color='orange',alpha=0.9)\n    # ax.plot_wireframe(xx_plot,TT-273.15,PP/1E5,ec='orange',lw=0.8,label='VLH: L->H')\n    # # 3. Halite saturated vapor in VH region\n    # P = np.linspace(0,1,40)\n    # TT,PP = np.meshgrid(T,P)\n    # for i in range(0,len(T)):\n    #     PP[:,i] = np.linspace(sw.pmin(),P_vlh[i],len(P))\n    # XX_VH = np.array(sw.X_VH(TT.reshape(-1,),PP.reshape(-1,)))\n    # xx_plot = transform_X(XX_VH.reshape(TT.shape)*100)\n    # ax.plot_surface(xx_plot,TT-273.15,PP/1E5,color='pink',alpha=0.9)\n    # ax.plot_wireframe(xx_plot,TT-273.15,PP/1E5,ec='purple',lw=0.8,label='VH: vapor')\n    # halite\n    # ax.plot(transform_X(Xl_vlh*0+100), T-273.15, P_vlh/1E5, color='k',label='VLH: halite',lw=4)\n    # halite liquidus\n    ax.plot(transform_X(Xl_vlh*100), T-273.15, P_vlh/1E5, color='g',label='VLH: liquid',lw=4)\n    # upper pressure bound\n    ax.plot(transform_X(Xv_vlh*100), T-273.15, P_vlh/1E5, color='r',label='VLH: vapor',lw=4)\n    # # lower pressure bound\n    # Xv_pmin = np.array(sw.X_VH(T,T*0 + sw.pmin()))\n    # ax.plot(transform_X(Xv_pmin*100), T-273.15, T*0+sw.pmin()/1E5, color='blue',label='VH: vapor (P=%.0f bar)'%(sw.pmin()/1E5),lw=4)\n    # plot VL surface\n    for phase,color in zip([H2ONaCl.Liquid, H2ONaCl.Vapor],['green','lime']):\n        pb = sw.PhaseBoundary_VL_DeformLinear(phase)\n        TT,PP,XX = np.array(pb.T), np.array(pb.p), np.array(pb.X)\n        xx_plot = transform_X(XX*100)\n        ax.plot_surface(xx_plot,TT-273.15,PP/1E5, color=color, linewidth=0.1,ec='gray',alpha=0.9)\n    # legend\n    # leg=ax.legend()\n    # # change legend handle of wireframe of phase boundaries to wireframe hatch\n    # for i in [0,1,2]:\n    #     leg.legendHandles[i]=Patch(facecolor='white', edgecolor=leg.legendHandles[i]._color,linewidth=0.0,label=leg.texts[i]._text,hatch='++++')\n    # ax.legend(handles=leg.legendHandles, loc='upper left',ncol=7)\n    # text\n    helpfunc.text3d(ax,(transform_X(1E-12),800,sw.pmin()/1E5),\"P$_{min}$=%.0f bar\"%(sw.pmin()/1E5),size=0.07,angle=-90,ec='None',fc='k')\n    ax.view_init(elev=25, azim=-145)\n    savefig('PhaseBoundary_VL_3D_%s'%(scale))"
      ]
    },
    {
      "cell_type": "markdown",
      "metadata": {},
      "source": [
        "## General 3D view: linear scale (left) and log-linear scale (right)\n\n"
      ]
    },
    {
      "cell_type": "code",
      "execution_count": null,
      "metadata": {
        "collapsed": false
      },
      "outputs": [],
      "source": [
        "plot_3d(sw_84,scale='linear')\nplot_3d(sw_84,scale='loglinear')"
      ]
    },
    {
      "cell_type": "markdown",
      "metadata": {},
      "source": [
        "## Benchmark comparison\nCompare result of |xThermo| and :cite:`Driesner2007Part2`, and also compare result based on different EOS of water.\n\n"
      ]
    },
    {
      "cell_type": "code",
      "execution_count": null,
      "metadata": {
        "collapsed": false
      },
      "outputs": [],
      "source": [
        "def plot_loglinearx(ax,x,y,x0,xticklabels=True,label='',**kwargs):\n    # colormap\n    norm = mpl.colors.CenteredNorm(vcenter=0)\n    cmap=copy.deepcopy(plt.get_cmap('bwr'))\n    cmap._segmentdata['red'][0,1:]=0\n    cmap._segmentdata['green'][0,1:]=1\n    cmap._segmentdata['blue'][0,1:]=0\n    # cmap._segmentdata['alpha'][1,1:]=0.5\n    # axes\n    ax.spines['bottom'].set_visible(False)\n    ax.xaxis.set_ticks([])\n    ax_log=ax.inset_axes([0,0,0.5,1])\n    ax_lin=ax.inset_axes([0.5,0,0.5,1])\n    CS=[]\n    cabs=np.abs(kwargs['c'])\n    factor=50\n    s=cabs/(cabs.max())*factor\n    s[s<(s.max()/factor)] = s.max()/factor\n    for ax0 in [ax_log,ax_lin]:\n        CS=ax0.scatter(x,y,cmap=cmap,norm=norm,s=s,clip_on=False,ec='None',**kwargs)\n        ax0.patch.set_facecolor('None')\n        ax0.set_yticks([])\n    ax.set_ylim(ax_lin.get_ylim())\n    ax_log.set_xscale('log')\n    ax_log.set_xlim(ax_log.get_xlim()[0],x0)\n    ax_lin.set_xlim(x0,ax_lin.get_xlim()[1])\n    for spine in ['left','top','right']:\n        for ax0 in [ax_log,ax_lin]:\n            ax0.spines[spine].set_visible(False)\n    #         ax0.spines[spine].set_color('pink')\n    # ax_log.spines['right'].set_visible(True)\n    # ax_lin.spines['left'].set_visible(True)\n    if(not xticklabels):\n        ax_log.xaxis.set_ticklabels([])\n        ax_lin.xaxis.set_ticklabels([])\n    if(label!=''):\n        ax_cb=ax.inset_axes([0,1.02,1,0.05])\n        plt.colorbar(CS,cax=ax_cb,label=label,orientation='horizontal',extend='both')\n        ax_cb.xaxis.set_label_position('top')\n        ax_cb.xaxis.set_ticks_position('top')\n    return ax_log,ax_lin\n\ndef plot_diff_3D(ax,X,Y,Z,c,label=''):\n    norm = mpl.colors.CenteredNorm(vcenter=0)\n    cmap=copy.deepcopy(plt.get_cmap('bwr'))\n    cmap._segmentdata['red'][1,1:]=0\n    cmap._segmentdata['green'][1,1:]=0\n    cmap._segmentdata['blue'][1,1:]=0\n    cmap._segmentdata['alpha'][1,1:]=0.5\n    CS=[]\n    cabs=np.abs(c)\n    factor=50\n    s=cabs/(cabs.max())*factor\n    s[s<(s.max()/factor)] = s.max()/factor\n    CS=ax.scatter(X,Y,Z,c=c,cmap=cmap,norm=norm,s=s,ec='None',clip_on=False)\n    if(label!=''):\n        ax_cb=ax.inset_axes([0,1.02,1,0.05])\n        plt.colorbar(CS,cax=ax_cb,label=label,orientation='horizontal',extend='both')\n        ax_cb.xaxis.set_label_position('top')\n        ax_cb.xaxis.set_ticks_position('top')\n\ndef benchmark_VL(sw,mmc4='../Driesner2007b/1-s2.0-S0016703707002955-mmc4.txt'):\n    # compare\n    if(not os.path.exists(mmc4)):\n        print('Please set correct mmc1 file path: %s'%(mmc4))\n        exit()\n    data=np.loadtxt(mmc4, skiprows=7)\n    T0,P0,XV0,rhoV0,hV0,XL0,rhoL0,hL0=data[:,0]+273.15,data[:,1]*1E5,data[:,2],data[:,3],data[:,4],data[:,5],data[:,6],data[:,7]\n    XL0_wt,XV0_wt = np.array(sw.Mol2Wt(XL0))*100, np.array(sw.Mol2Wt(XV0))*100\n    # ind=(T0>sw.Tmin_VLH())\n    # # only compare the result in valid range of pressure: >1bar\n    # T0,P0,XV0,rhoV0,hV0,XL0,rhoL0,hL0 = T0[ind],P0[ind],XV0[ind],rhoV0[ind],hV0[ind],XL0[ind],rhoL0[ind],hL0[ind]\n    # 1. calculate halite liquidus\n    XL_,XV_ = np.array(sw.XL_VL(T0,P0)), np.array(sw.XV_VL(T0,P0))\n    XL_mol_,XV_mol_ = np.array(sw.Wt2Mol(XL_)), np.array(sw.Wt2Mol(XV_))\n    # 2. calculate saturated liquid density and vapor density\n    rhoV_, rhoL_ = np.array(sw.Rho_phase(T0, P0, XV_, H2ONaCl.Vapor)), np.array(sw.Rho_phase(T0, P0, XL_, H2ONaCl.Liquid))\n    hV_, hL_     = np.array(sw.H_phase(T0, P0, XV_, H2ONaCl.Vapor)), np.array(sw.H_phase(T0, P0, XL_, H2ONaCl.Liquid))\n    # compare result dict\n    Data0 = {'XV':XV0,'rhoV':rhoV0,'hV':hV0,'XL':XL0,'rhoL':rhoL0,'hL':hL0}\n    Data_ = {'XV':XV_mol_,'rhoV':rhoV_,'hV':hV_,'XL':XL_mol_,'rhoL':rhoL_,'hL':hL_}\n    Err,RErr={},{}\n    for key in Data0.keys(): Err[key],RErr[key] = Data0[key]-Data_[key], np.abs(Data0[key]-Data_[key])/(Data0[key])*100.0\n    # print to file\n    fpout = open('%s/mmc4_%s.csv'%(result_path,sw.name_backend()),'w')\n    fpout.write('T[C],P[bar],XV(Driesner)[mol],XV(xThermo)[mol],XV(diff)[mol],RhoV(Driesner)[kg/m3],RhoV(xThermo),RhoV(err),HV(Driesner)[J/kg],HV(xThermo),HV(err),XL(Driesner)[mol],XL(xThermo)[mol],XL(diff)[mol],RhoL(Driesner)[kg/m3],RhoL(xThermo),RhoL(err),HL(Driesner)[J/kg],HL(xThermo),HL(err)\\n')\n    for i in range(0,len(T0)):\n        fpout.write('%.6e,%.6e'%(T0[i]-273.15,P0[i]/1E5))\n        for key in Data0.keys():\n            fpout.write(',%.6e,%.6e,%.6e'%(Data0[key][i], Data_[key][i],compare(Data0[key][i],Data_[key][i])))\n        fpout.write('\\n')\n    fpout.close()\n\n    # plot difference\n    difftype='Absolute' #Absolute, Relative\n    diff = RErr\n    if(difftype=='Absolute'): diff = Err\n\n    # 2D\n    T_crit=np.linspace(T0.min(), T0.max(), 200)\n    P_crit,X_crit=np.array(sw.P_X_Critical(T_crit))\n    fig,axes2=plt.subplots(2,3,figsize=(25,10),gridspec_kw={'wspace':0.05,'hspace':0.05},dpi=dpi)\n    # X-T space\n    axes=axes2[0,:]\n    axes[0].set_ylabel('Temperature ($^{\\circ}$C)')\n    for ax in axes[1:]: ax.yaxis.set_ticklabels([])\n    for ax in axes2[0,:]: ax.xaxis.set_ticklabels([])\n    x0=1\n    labels=['%s difference: Composition (%s)'%(difftype,'mole fraction' if (difftype=='Absolute') else '%'),\n            '%s difference: Density (%s)'%(difftype,'kg/m$^3$' if (difftype=='Absolute') else '%'),\n            '%s difference: Specific enthalpy (%s)'%(difftype,'J/kg' if (difftype=='Absolute') else '%')\n            ]\n    plot_loglinearx(axes[0],np.append(XV0_wt,XL0_wt), np.append(T0-273.15, T0-273.15), x0=x0,xticklabels=False,label=labels[0], c=np.append(diff['XV'],diff['XL']))\n    plot_loglinearx(axes[1], np.append(XV0_wt,XL0_wt), np.append(T0-273.15, T0-273.15), x0=x0,xticklabels=False,label=labels[1], c=np.append(diff['rhoV'],diff['rhoL']))\n    plot_loglinearx(axes[2], np.append(XV0_wt,XL0_wt), np.append(T0-273.15, T0-273.15), x0=x0,xticklabels=False,label=labels[2], c=np.append(diff['hV'],diff['hL']))\n\n    # # X-p space\n    axes=axes2[1,:]\n    plot_loglinearx(axes[0],np.append(XV0_wt,XL0_wt), np.append(P0/1E5,P0/1E5), x0=x0,c=np.append(diff['XV'],diff['XL']))\n    plot_loglinearx(axes[1], np.append(XV0_wt,XL0_wt), np.append(P0/1E5,P0/1E5), x0=x0, c=np.append(diff['rhoV'],diff['rhoL']))\n    plot_loglinearx(axes[2], np.append(XV0_wt,XL0_wt), np.append(P0/1E5,P0/1E5), x0=x0, c=np.append(diff['hV'],diff['hL']))\n    axes[0].set_ylabel('Pressure (bar)')\n    for ax in axes[1:]: ax.yaxis.set_ticklabels([])\n    for i in range(axes2.shape[1]):\n        for ax in axes2[:,i]:\n            ax.patch.set_facecolor('k')\n            ax.grid(axis='y',which='major',lw=0.04,color='w')\n            ax.grid(axis='y',which='minor',lw=0.04,color='lightgray')\n        axes2[1,i].set_xlabel('wt.% NaCl',labelpad=25)\n    savefig('diff_VL_%s_%s'%(difftype,sw.name_backend()))\n\n    #2. plot difference in 3D\n    fig=plt.figure(figsize=(18,12),dpi=dpi)\n    axes=['']*3\n    X=np.append(XV0_wt,XL0_wt)\n    Y=np.append(T0,T0)-273.15\n    Z=np.append(P0,P0)/1E5\n    for i,key in zip(range(0,3),[('XV','XL'),('rhoV','rhoL'),('hV','hL')]):\n        axes[i] = fig.add_subplot(2,3,i+1,projection='3d',facecolor='None')\n        helpfunc.set_axis_diagram_3D(axes[i])\n        plot_diff_3D(axes[i],X,Y,Z,np.append(diff[key[0]],diff[key[1]]),label=labels[i])\n    # savefig('diff3D_VL_%s_%s'%(difftype,sw.name_backend()))\n\n    # 3. If use the same salinity as Driesner's table, let's see how different between properties\n    rhoV_, rhoL_ = np.array(sw.Rho_phase(T0, P0, XV0_wt/100, H2ONaCl.Vapor)), np.array(sw.Rho_phase(T0, P0, XL0_wt/100, H2ONaCl.Liquid))\n    hV_, hL_     = np.array(sw.H_phase(T0, P0, XV0_wt/100, H2ONaCl.Vapor)), np.array(sw.H_phase(T0, P0, XL0_wt/100, H2ONaCl.Liquid))\n    # compare result dict\n    Data0 = {'XV':XV0,'rhoV':rhoV0,'hV':hV0,'XL':XL0,'rhoL':rhoL0,'hL':hL0}\n    Data_ = {'XV':XV_mol_,'rhoV':rhoV_,'hV':hV_,'XL':XL_mol_,'rhoL':rhoL_,'hL':hL_}\n    Err,RErr={},{}\n    for key in Data0.keys(): Err[key],RErr[key] = Data0[key]-Data_[key], np.abs(Data0[key]-Data_[key])/(Data0[key])*100.0\n    difftype='Absolute' #Absolute, Relative\n    diff = RErr\n    if(difftype=='Absolute'): diff = Err\n    for i,key in zip(range(1,3),[('rhoV','rhoL'),('hV','hL')]):\n        axes[i] = fig.add_subplot(2,3,i+4,projection='3d',facecolor='None')\n        helpfunc.set_axis_diagram_3D(axes[i])\n        plot_diff_3D(axes[i],X,Y,Z,np.append(diff[key[0]],diff[key[1]]),label=labels[i])\n    ax = fig.add_subplot(2,3,4,facecolor='None')\n    ax.annotate(\"Use the same $X_l$ and $X_v$\\nas Driesner's table mmc4\",xycoords='axes fraction',textcoords='axes fraction',ha='center',va='center',\n                        xy=(1.2,0.5),xytext=(0.5,0.5), bbox={'fc':'None','ec':'b'},fontsize=14,fontweight='bold',\n                        arrowprops=dict(arrowstyle=\"->\",connectionstyle=\"arc3\"),)\n    ax.axis('off')\n    savefig('diff3D_VL_%s_%s'%(difftype,sw.name_backend()))\n    # statistics of the difference\n    table=[]\n    for key,name in zip(list(Err.keys()),['XV (mole fraction)','RhoV (kg/m3)','HV (J/kg)','XL (mole fraction)','RhoL (kg/m3)','HL (J/kg)']):\n        RErr[key] = RErr[key][~(np.isnan(RErr[key]) | np.isinf(RErr[key]))]\n        table.append([name,Err[key].min(),Err[key].max(),RErr[key].min(),RErr[key].max()])\n    print(tabulate(table, headers=['Critical property', 'Err. Min', 'Err. Max','RE. Min(%)','RE. Max(%)'],numalign=\"right\",floatfmt=\".6f\"))"
      ]
    },
    {
      "cell_type": "markdown",
      "metadata": {},
      "source": [
        "### Based on IAPS84 EOS\n\n"
      ]
    },
    {
      "cell_type": "code",
      "execution_count": null,
      "metadata": {
        "collapsed": false
      },
      "outputs": [],
      "source": [
        "benchmark_VL(sw_84)"
      ]
    },
    {
      "cell_type": "markdown",
      "metadata": {},
      "source": [
        "### Based on IAPWS95 EOS\nbenchmark_VL(sw_95)\n\n"
      ]
    },
    {
      "cell_type": "markdown",
      "metadata": {},
      "source": [
        "## Result table\n\nResult data calculated by |xThermo| based on both water EOS of IAPS84 and IAPWS95.\n\n.. seealso::\n\n    |mmc4| in :cite:`Driesner2007Part2` and Fig. 1 in :cite:`Driesner2007Part1`.\n\n.. tab:: IAPS84\n\n    Comparison between result of :cite:`Driesner2007Part2` and result calculated by xThermo: :download:`mmc4_IAPS84.csv`\n\n.. tab:: IAPWS95\n\n    Comparison between result of :cite:`Driesner2007Part2` and result calculated by xThermo: :download:`mmc4_IAPWS95.csv`\n\n\n.. tip::\n\n    The help function for 3D plot can be downloaded at here: :download:`helpfunc.py`\n\n<div class=\"alert alert-danger\"><h4>Warning</h4><p>The difference of $X_l, X_v, \\rho_l, \\rho_v, H_l, H_v$ between |xThermo| and |mmc4| are caused by the following possible reasons,\n\n    1. The digital (precision) of p and T saved in the text file (|mmc4|), e.g. :code:`3.200000e+02\t1.127932e+02` of (T,p) at line 1977 of |mmc4|, the pressure value is actually greater than (>2 Pa) the boiling pressure of H2O at the same T.\n\n    2. several points close to critical curve and critical point of H2O, the difference of $X_l, X_v$ are up to $1-^{-4}$ mole fraction. This difference of X will cause density and enthalpy difference up to (~10, ~300) kg/m3 and (~100, ~1E4) J/kg, respectively. There is no way to check details in :cite:`Driesner2007Part1`, but I compare result of |xThermo| with the matlab code used in :cite:`vehling2021brine`, they are the same. In addition, if use the $X_l, X_v$ values in |mmc4| to calculate the density and enthalpy, will get the same result. Therefore, for the points close to critical curve, all the difference are caused by X difference.\n\n    3. For the $X_v$ difference in the high temperature region, still don't know the reason. But result of |xThermo| and the matlab code are the same. This $X_v$ difference will cause $H_v$ difference up to $10^4$ J/kg.\n\n    4. Enthalpy extrapolation in high temperature region, that is the main reason of difference ($-3\\times 10^4, 3\\times 10^4$ J/kg) of $H_l$ in this reagion. But this extrapolation is not explained in the paper :cite:`Driesner2007Part2`, I just use the similar exrapolation scheme with $\\rho_l$.\n\n    5. $\\rho_v$ in high-T (>800 deg.C) low-p (< 10 bar). Line 6769,7261,7355,7447. For example, the result from line 6769 and next two points are shown below. Althrough, I still don't find the reason why they are different, but from the result we could see that the $\\rho_v$ value is decrease from 136 $kg/m^3$ at 2.46 bar to 6.8 $kg/m^3$ at 33.6 bar and then increasing. This feature seems not correct, unless there are some special physical process happens.\n\n    .. code:: bash\n\n        T[C],P[bar],XV(Driesner)[mol],XV(xThermo)[mol],XV(diff)[mol],RhoV(Driesner)[kg/m3],RhoV(xThermo)\n        8.000000e+02,2.464123e+00,2.094581e-04,2.094580e-04,1.000000e-10,1.361844e+02,4.983759e-01\n        8.000000e+02,3.358897e+01,2.720773e-05,2.720773e-05,0.000000e+00,6.825122e+00,6.825122e+00\n        8.000000e+02,6.471381e+01,2.438257e-05,2.438257e-05,0.000000e+00,1.322446e+01,1.322446e+01</p></div>\n\n"
      ]
    },
    {
      "cell_type": "markdown",
      "metadata": {},
      "source": [
        "## Density and specific enthalpy of saturated vapor and liquid phase on VL surface\n\n"
      ]
    },
    {
      "cell_type": "code",
      "execution_count": null,
      "metadata": {
        "collapsed": false
      },
      "outputs": [],
      "source": [
        "def plot_props_3d(sw,style='linear'):\n    fig=plt.figure(figsize=(14,6))\n    axes=['']*2\n    axes[0] = fig.add_subplot(1,2,1,projection='3d',facecolor='None')\n    axes[1] = fig.add_subplot(1,2,2,projection='3d',facecolor='None')\n    for ax in axes: helpfunc.set_axis_diagram_3D(ax)\n    # plot\n    norm_Rho, norm_H = mpl.colors.Normalize(0, 1500), mpl.colors.Normalize(0, 4.5)\n    m_Rho, m_H = plt.cm.ScalarMappable(norm=norm_Rho, cmap='jet'), plt.cm.ScalarMappable(norm=norm_H, cmap='rainbow')\n    m_Rho.set_array([])\n    m_H.set_array([])\n    if(style=='linear'):\n        nT,nP = 200,200\n        for phase,color in zip([H2ONaCl.Liquid, H2ONaCl.Vapor],['green','orange']):\n            pb = sw.PhaseBoundary_VL_DeformLinear(phase,nT,nP)\n            TT,PP,XX = np.array(pb.T), np.array(pb.p), np.array(pb.X)\n            # calculate props\n            RHO = np.array(sw.Rho_phase(TT.reshape(-1,), PP.reshape(-1,), XX.reshape(-1,), phase)).reshape(TT.shape)\n            H = np.array(sw.H_phase(TT.reshape(-1,), PP.reshape(-1,), XX.reshape(-1,), phase)).reshape(TT.shape)/1E6\n            for ax,prop,m in zip(axes,[RHO, H],[m_Rho,m_H]):\n                fcolors = m.to_rgba(prop)\n                ax.plot_surface(XX*100,TT-273.15,PP/1E5,facecolors=fcolors)\n            # ax.plot_wireframe(XX*100,TT-273.15,PP/1E5, color=color,lw=0.5)\n            # ax.plot_surface(XX*100,TT-273.15,PP/1E5, color=color, linewidth=0.1,ec='gray')\n            print(TT.shape)\n    savefig('Props_VL')"
      ]
    },
    {
      "cell_type": "markdown",
      "metadata": {},
      "source": [
        "### Based on IAPS84 EOS\n\n"
      ]
    },
    {
      "cell_type": "code",
      "execution_count": null,
      "metadata": {
        "collapsed": false
      },
      "outputs": [],
      "source": [
        "plot_props_3d(sw_84,'linear')"
      ]
    },
    {
      "cell_type": "markdown",
      "metadata": {},
      "source": [
        "### Based on IAPWS95 EOS\nplot_props_3d(sw_95,'linear')\n\n"
      ]
    },
    {
      "cell_type": "markdown",
      "metadata": {},
      "source": [
        "## Isothermal section of the VL surface\n\n"
      ]
    },
    {
      "cell_type": "code",
      "execution_count": null,
      "metadata": {
        "collapsed": false
      },
      "outputs": [],
      "source": [
        "def calc_isothermal_VL(sw,T0):\n    pmin = sw.P_VLH(T0)\n    if(T0>H2ONaCl.T_MAX_VLH): pmin = sw.pmin()\n    pmax = sw.P_Critical(T0)\n    if(T0<=sw.get_pWater().T_critical()):\n        pmax = sw.get_pWater().Boiling_p(T0)\n    loc_refine=0.95\n    dp = pmax - pmin\n    P = np.append(np.linspace(pmin, pmin+dp*(1-loc_refine), 20), np.append(np.linspace(pmin+dp*(1-loc_refine), pmin+dp*loc_refine, 10), np.linspace(pmin+dp*loc_refine,pmax,100)))\n    XL_VL = np.array(sw.XL_VL(P*0 + T0, P))\n    XV_VL = np.array(sw.XV_VL(P*0 + T0, P))\n    # XV_VH\n    XV_VH = None\n    if(T0<=H2ONaCl.T_MAX_VLH): XV_VH = np.array(sw.X_VH(P * 0 + T0, P))\n    return P, XL_VL, XV_VL\ndef calc_isothermal_VH(sw,T0):\n    p_vlh = sw.P_VLH(T0)\n    P,XV=[],[]\n    if(T0<H2ONaCl.T_MAX_VLH):\n        P = np.linspace(sw.pmin(),p_vlh, 100)\n        XV = np.array(sw.X_VH(P*0 + T0, P))\n    return P, XV\ndef plot_isothermal_VL_VH(sw,unit_X):\n    T0 = [107.77,200,300,350,375.5,380,400,500,600,800,1000] #deg.C\n    w_fig=5\n    composition = lambda X: sw.Wt2Mol(X) if(unit_X=='Mole fraction') else X\n    xlabel='$X_{NaCl}$ (%s)'%(unit_X)\n    fig,axes=plt.subplots(len(T0),2,figsize=(w_fig*2,w_fig*len(T0)),gridspec_kw={'wspace':0.05,'hspace':0.2})\n    l_L_VL, l_V_VL, l_V_VH=[],[],[]\n    for i in range(0,len(T0)):\n        P, XL,XV = calc_isothermal_VL(sw_84,T0[i]+273.15)\n        P_VH,XV_VH=calc_isothermal_VH(sw_84,T0[i]+273.15)\n        for ax in axes[i][:]:\n            l_L_VL,=ax.plot(composition(XL),P/1E5,color='g',label='V+L: liquid branch')\n            l_V_VL,=ax.plot(composition(XV),P/1E5,color='b',label='V+L: vapor branch')\n            mec,mew='k',0.2\n            ax.plot(composition(XL[-5:]),P[-5:]/1E5,'.',ms=4,mfc=l_L_VL.get_color(),mec=mec,markeredgewidth=mew)\n            ax.plot(composition(XV[-5:]),P[-5:]/1E5,'.',ms=4,mfc=l_V_VL.get_color(),mec=mec,markeredgewidth=mew)\n            ax.plot(composition(XL[0:5]),P[0:5]/1E5,'.',ms=4,mfc=l_L_VL.get_color(),mec=mec,markeredgewidth=mew)\n            ax.plot(composition(XV[0:5]),P[0:5]/1E5,'.',ms=4,mfc=l_V_VL.get_color(),mec=mec,markeredgewidth=mew)\n            if(len(P_VH)>0):\n                l_V_VH,=ax.plot(composition(XV_VH),P_VH/1E5,color='orange',label='V+H: vapor side')\n                XL_VLH = sw.X_HaliteLiquidus(T0[i]+273.15,P_VH[-1])\n                ax.plot([composition(XV_VH[-1]), composition(XL_VLH)],[P_VH[-1]/1E5, P_VH[-1]/1E5],ls='dashed',label='$P_{VLH}$')\n                ax.plot([composition(XL_VLH),1],[P_VH[-1]/1E5, P_VH[-1]/1E5],ls='dashed')\n                ax.plot(composition(XV_VH[-1]), P_VH[-1]/1E5, 'o',mfc='orange',mec='blue',label='VLH: vapor', ms=5)\n                ax.plot(composition(XL_VLH), P_VH[-1]/1E5, 'o',mfc='pink',mec='green',label='VLH: liquid', ms=5)\n                ax.plot(composition(1), P_VH[-1]/1E5, 'o',mfc='cyan',mec='k',label='VLH: halite', ms=5,clip_on=False,zorder=10)\n            if(ax==axes[i,1]):\n                ax.set_xscale('log')\n                ax.yaxis.set_ticks_position('right')\n                ax.set_xlabel('log$_{10}$%s'%(xlabel))\n                ax.text(0.65,0.5,'%s $^{\\circ}$C'%(T0[i]),transform=ax.transAxes,ha='center',va='center',fontsize=14,fontweight='bold')\n            else:\n                ax.set_ylabel('Pressure (bar)')\n                ax.set_xlabel('%s'%(xlabel))\n                ax.text(0.98,0.98,'%s $^{\\circ}$C'%(T0[i]),transform=ax.transAxes,ha='right',va='top',fontsize=14,fontweight='bold')\n\n            ax.set_xlim(ax.get_xlim()[0],1)\n            ax.set_ylim(ax.get_ylim())\n            ax.axhspan(ax.get_ylim()[0],sw.pmin()/1E5,fc='darkgray')\n            # plot critical point of H2O-NaCl or boiling point of H2O\n            x0=composition(XL[-1])\n            if((T0[i]+273.15)<=sw.get_pWater().T_critical()):\n                x0=ax.get_xlim()[0]\n                if(ax==axes[i][0]): x0=0\n            ax.plot(x0,P[-1]/1E5,'o',mfc='red',mec='k',label='Boiling point of H$_{\\mathregular{2}}$O\\nCritical point of H$_{\\mathregular{2}}$O-NaCl', ms=5,clip_on=False)\n            ax.grid(which='major',lw=0.04,color='gray')\n            ax.grid(which='minor',lw=0.04,color='lightgray')\n    axes[0][0].legend(ncol=4,loc='lower left',bbox_to_anchor=[0,1.02])\n    figname='Isothermal_VL_Wt'\n    if(unit_X=='Mole fraction'): figname='Isothermal_VL_mol'\n    savefig('%s'%(figname))"
      ]
    },
    {
      "cell_type": "markdown",
      "metadata": {},
      "source": [
        "### Composition in mole fraction(left panel) and mass fraction (right panel)\n\n"
      ]
    },
    {
      "cell_type": "code",
      "execution_count": null,
      "metadata": {
        "collapsed": false
      },
      "outputs": [],
      "source": [
        "plot_isothermal_VL_VH(sw_84,unit_X='Mole fraction')\nplot_isothermal_VL_VH(sw_84,unit_X='wt.% NacL')"
      ]
    },
    {
      "cell_type": "code",
      "execution_count": null,
      "metadata": {
        "collapsed": false
      },
      "outputs": [],
      "source": [
        "# This is the last cell"
      ]
    }
  ],
  "metadata": {
    "kernelspec": {
      "display_name": "Python 3",
      "language": "python",
      "name": "python3"
    },
    "language_info": {
      "codemirror_mode": {
        "name": "ipython",
        "version": 3
      },
      "file_extension": ".py",
      "mimetype": "text/x-python",
      "name": "python",
      "nbconvert_exporter": "python",
      "pygments_lexer": "ipython3",
      "version": "3.9.12"
    }
  },
  "nbformat": 4,
  "nbformat_minor": 0
}